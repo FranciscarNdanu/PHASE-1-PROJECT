{
 "cells": [
  {
   "cell_type": "markdown",
   "metadata": {
    "id": "Ps-_ZAuv1N33"
   },
   "source": [
    "# Overview\n",
    "This project aims to analyze aviation accident data from the National Transportation Safety Board (NTSB) to identify the safest aircraft and provide actionable insights that will guide the company’s acquisition strategy.\n",
    "The analysis will focus on aviation accidents and incidents from 1962 to 2023, covering civil aviation in the United States. The investigation type taken into consideration is accidents. Key areas of investigation will include accident rates by aircraft type, common causes of accidents, and regional risk factors. The goal is to translate these findings into three concrete business recommendations that will help the head of the new aviation division make informed decisions on which aircraft to purchase."
   ]
  },
  {
   "cell_type": "markdown",
   "metadata": {
    "id": "DMDZREbQ1N35"
   },
   "source": [
    "# Business Problem\n",
    "Your company is expanding in to new industries to diversify its portfolio. Specifically, they are interested in purchasing and operating airplanes for commercial and private enterprises, but do not know anything about the potential risks of aircraft. You are charged with determining which aircraft are the lowest risk for the company to start this new business endeavor. You must then translate your findings into actionable insights that the head of the new aviation division can use to help decide which aircraft to purchase.\n"
   ]
  },
  {
   "cell_type": "markdown",
   "metadata": {
    "id": "9CLR9nf41N35"
   },
   "source": [
    "#### Stakeholders\n",
    "The main stakeholder of this project is the Head of the Aviation Division."
   ]
  },
  {
   "cell_type": "markdown",
   "metadata": {
    "id": "qqs5TsYT1N35"
   },
   "source": [
    "# Data\n",
    "Two datasets were obtained for this project.\n",
    "* A .csv file from the National Transportation Safety Board that includes aviation accident data from 1962 to 2023 about civil aviation accidents and selected incidents in the United States and international waters.\n",
    "* A .csv file with the United States names and their abbreviations\n",
    "#### Data Sources\n",
    "The data was obtained from Kaggle (https://www.kaggle.com/datasets/khsamaha/aviation-accident-database-synopses)"
   ]
  },
  {
   "cell_type": "markdown",
   "metadata": {
    "id": "QITKQ2431N35"
   },
   "source": [
    "# Key Business Questions\n",
    "* Which aircraft makes are associated with the fewest total injuries in recorded accidents?\n",
    "* What are the most common causes of aviation accidents?\n",
    "* Which regions  are associated with higher risks?"
   ]
  },
  {
   "cell_type": "markdown",
   "metadata": {
    "id": "rH3uJDvJ1N35"
   },
   "source": [
    "# Data Cleaning"
   ]
  },
  {
   "cell_type": "markdown",
   "metadata": {
    "id": "S0OyCBWY1N35"
   },
   "source": [
    "# 1.0 Importing our Libraries"
   ]
  },
  {
   "cell_type": "code",
   "execution_count": 96,
   "metadata": {
    "id": "THRbc6q91N35"
   },
   "outputs": [],
   "source": [
    "# Importing the necessary modules\n",
    "import pandas as pd\n",
    "import numpy as np\n",
    "import matplotlib.pyplot as plt\n",
    "import seaborn as sns\n",
    "\n",
    "\n",
    "%matplotlib inline"
   ]
  },
  {
   "cell_type": "markdown",
   "metadata": {
    "id": "XwPmVbUn1N36"
   },
   "source": [
    "# 1.1  Loading Data"
   ]
  },
  {
   "cell_type": "code",
   "execution_count": 97,
   "metadata": {
    "id": "wB04T-Aw1N36"
   },
   "outputs": [
    {
     "name": "stderr",
     "output_type": "stream",
     "text": [
      "c:\\Users\\Admin\\anaconda3\\envs\\learn-env\\lib\\site-packages\\IPython\\core\\interactiveshell.py:3145: DtypeWarning: Columns (6,7,28) have mixed types.Specify dtype option on import or set low_memory=False.\n",
      "  has_raised = await self.run_ast_nodes(code_ast.body, cell_name,\n"
     ]
    }
   ],
   "source": [
    "# Reading our data from a csv into a dataframe\n",
    "# First Dataframe\n",
    "Aviation_data_df=pd.read_csv('AviationData.csv', encoding='ISO-8859-1')\n",
    "\n",
    "# Second Dataframe\n",
    "States_df=pd.read_csv('USState_Codes.csv', encoding='ISO-8859-1')\n"
   ]
  },
  {
   "cell_type": "code",
   "execution_count": 98,
   "metadata": {},
   "outputs": [],
   "source": [
    "Aviation_data=Aviation_data_df.copy(deep=True)"
   ]
  },
  {
   "cell_type": "markdown",
   "metadata": {
    "id": "TwwquxS71N37"
   },
   "source": [
    "# 1.2 Previewing our Data\n",
    "\n",
    "#### Aviation_data_df"
   ]
  },
  {
   "cell_type": "code",
   "execution_count": 99,
   "metadata": {
    "colab": {
     "base_uri": "https://localhost:8080/",
     "height": 342
    },
    "id": "sYxvQO2J1N37",
    "outputId": "5a1152aa-5f79-488f-a629-e0bf7695a07f"
   },
   "outputs": [
    {
     "data": {
      "text/html": [
       "<div>\n",
       "<style scoped>\n",
       "    .dataframe tbody tr th:only-of-type {\n",
       "        vertical-align: middle;\n",
       "    }\n",
       "\n",
       "    .dataframe tbody tr th {\n",
       "        vertical-align: top;\n",
       "    }\n",
       "\n",
       "    .dataframe thead th {\n",
       "        text-align: right;\n",
       "    }\n",
       "</style>\n",
       "<table border=\"1\" class=\"dataframe\">\n",
       "  <thead>\n",
       "    <tr style=\"text-align: right;\">\n",
       "      <th></th>\n",
       "      <th>Event.Id</th>\n",
       "      <th>Investigation.Type</th>\n",
       "      <th>Accident.Number</th>\n",
       "      <th>Event.Date</th>\n",
       "      <th>Location</th>\n",
       "      <th>Country</th>\n",
       "      <th>Latitude</th>\n",
       "      <th>Longitude</th>\n",
       "      <th>Airport.Code</th>\n",
       "      <th>Airport.Name</th>\n",
       "      <th>...</th>\n",
       "      <th>Purpose.of.flight</th>\n",
       "      <th>Air.carrier</th>\n",
       "      <th>Total.Fatal.Injuries</th>\n",
       "      <th>Total.Serious.Injuries</th>\n",
       "      <th>Total.Minor.Injuries</th>\n",
       "      <th>Total.Uninjured</th>\n",
       "      <th>Weather.Condition</th>\n",
       "      <th>Broad.phase.of.flight</th>\n",
       "      <th>Report.Status</th>\n",
       "      <th>Publication.Date</th>\n",
       "    </tr>\n",
       "  </thead>\n",
       "  <tbody>\n",
       "    <tr>\n",
       "      <th>0</th>\n",
       "      <td>20001218X45444</td>\n",
       "      <td>Accident</td>\n",
       "      <td>SEA87LA080</td>\n",
       "      <td>1948-10-24</td>\n",
       "      <td>MOOSE CREEK, ID</td>\n",
       "      <td>United States</td>\n",
       "      <td>NaN</td>\n",
       "      <td>NaN</td>\n",
       "      <td>NaN</td>\n",
       "      <td>NaN</td>\n",
       "      <td>...</td>\n",
       "      <td>Personal</td>\n",
       "      <td>NaN</td>\n",
       "      <td>2.0</td>\n",
       "      <td>0.0</td>\n",
       "      <td>0.0</td>\n",
       "      <td>0.0</td>\n",
       "      <td>UNK</td>\n",
       "      <td>Cruise</td>\n",
       "      <td>Probable Cause</td>\n",
       "      <td>NaN</td>\n",
       "    </tr>\n",
       "    <tr>\n",
       "      <th>1</th>\n",
       "      <td>20001218X45447</td>\n",
       "      <td>Accident</td>\n",
       "      <td>LAX94LA336</td>\n",
       "      <td>1962-07-19</td>\n",
       "      <td>BRIDGEPORT, CA</td>\n",
       "      <td>United States</td>\n",
       "      <td>NaN</td>\n",
       "      <td>NaN</td>\n",
       "      <td>NaN</td>\n",
       "      <td>NaN</td>\n",
       "      <td>...</td>\n",
       "      <td>Personal</td>\n",
       "      <td>NaN</td>\n",
       "      <td>4.0</td>\n",
       "      <td>0.0</td>\n",
       "      <td>0.0</td>\n",
       "      <td>0.0</td>\n",
       "      <td>UNK</td>\n",
       "      <td>Unknown</td>\n",
       "      <td>Probable Cause</td>\n",
       "      <td>19-09-1996</td>\n",
       "    </tr>\n",
       "    <tr>\n",
       "      <th>2</th>\n",
       "      <td>20061025X01555</td>\n",
       "      <td>Accident</td>\n",
       "      <td>NYC07LA005</td>\n",
       "      <td>1974-08-30</td>\n",
       "      <td>Saltville, VA</td>\n",
       "      <td>United States</td>\n",
       "      <td>36.9222</td>\n",
       "      <td>-81.8781</td>\n",
       "      <td>NaN</td>\n",
       "      <td>NaN</td>\n",
       "      <td>...</td>\n",
       "      <td>Personal</td>\n",
       "      <td>NaN</td>\n",
       "      <td>3.0</td>\n",
       "      <td>NaN</td>\n",
       "      <td>NaN</td>\n",
       "      <td>NaN</td>\n",
       "      <td>IMC</td>\n",
       "      <td>Cruise</td>\n",
       "      <td>Probable Cause</td>\n",
       "      <td>26-02-2007</td>\n",
       "    </tr>\n",
       "    <tr>\n",
       "      <th>3</th>\n",
       "      <td>20001218X45448</td>\n",
       "      <td>Accident</td>\n",
       "      <td>LAX96LA321</td>\n",
       "      <td>1977-06-19</td>\n",
       "      <td>EUREKA, CA</td>\n",
       "      <td>United States</td>\n",
       "      <td>NaN</td>\n",
       "      <td>NaN</td>\n",
       "      <td>NaN</td>\n",
       "      <td>NaN</td>\n",
       "      <td>...</td>\n",
       "      <td>Personal</td>\n",
       "      <td>NaN</td>\n",
       "      <td>2.0</td>\n",
       "      <td>0.0</td>\n",
       "      <td>0.0</td>\n",
       "      <td>0.0</td>\n",
       "      <td>IMC</td>\n",
       "      <td>Cruise</td>\n",
       "      <td>Probable Cause</td>\n",
       "      <td>12-09-2000</td>\n",
       "    </tr>\n",
       "    <tr>\n",
       "      <th>4</th>\n",
       "      <td>20041105X01764</td>\n",
       "      <td>Accident</td>\n",
       "      <td>CHI79FA064</td>\n",
       "      <td>1979-08-02</td>\n",
       "      <td>Canton, OH</td>\n",
       "      <td>United States</td>\n",
       "      <td>NaN</td>\n",
       "      <td>NaN</td>\n",
       "      <td>NaN</td>\n",
       "      <td>NaN</td>\n",
       "      <td>...</td>\n",
       "      <td>Personal</td>\n",
       "      <td>NaN</td>\n",
       "      <td>1.0</td>\n",
       "      <td>2.0</td>\n",
       "      <td>NaN</td>\n",
       "      <td>0.0</td>\n",
       "      <td>VMC</td>\n",
       "      <td>Approach</td>\n",
       "      <td>Probable Cause</td>\n",
       "      <td>16-04-1980</td>\n",
       "    </tr>\n",
       "  </tbody>\n",
       "</table>\n",
       "<p>5 rows × 31 columns</p>\n",
       "</div>"
      ],
      "text/plain": [
       "         Event.Id Investigation.Type Accident.Number  Event.Date  \\\n",
       "0  20001218X45444           Accident      SEA87LA080  1948-10-24   \n",
       "1  20001218X45447           Accident      LAX94LA336  1962-07-19   \n",
       "2  20061025X01555           Accident      NYC07LA005  1974-08-30   \n",
       "3  20001218X45448           Accident      LAX96LA321  1977-06-19   \n",
       "4  20041105X01764           Accident      CHI79FA064  1979-08-02   \n",
       "\n",
       "          Location        Country Latitude Longitude Airport.Code  \\\n",
       "0  MOOSE CREEK, ID  United States      NaN       NaN          NaN   \n",
       "1   BRIDGEPORT, CA  United States      NaN       NaN          NaN   \n",
       "2    Saltville, VA  United States  36.9222  -81.8781          NaN   \n",
       "3       EUREKA, CA  United States      NaN       NaN          NaN   \n",
       "4       Canton, OH  United States      NaN       NaN          NaN   \n",
       "\n",
       "  Airport.Name  ... Purpose.of.flight Air.carrier Total.Fatal.Injuries  \\\n",
       "0          NaN  ...          Personal         NaN                  2.0   \n",
       "1          NaN  ...          Personal         NaN                  4.0   \n",
       "2          NaN  ...          Personal         NaN                  3.0   \n",
       "3          NaN  ...          Personal         NaN                  2.0   \n",
       "4          NaN  ...          Personal         NaN                  1.0   \n",
       "\n",
       "  Total.Serious.Injuries Total.Minor.Injuries Total.Uninjured  \\\n",
       "0                    0.0                  0.0             0.0   \n",
       "1                    0.0                  0.0             0.0   \n",
       "2                    NaN                  NaN             NaN   \n",
       "3                    0.0                  0.0             0.0   \n",
       "4                    2.0                  NaN             0.0   \n",
       "\n",
       "  Weather.Condition  Broad.phase.of.flight   Report.Status Publication.Date  \n",
       "0               UNK                 Cruise  Probable Cause              NaN  \n",
       "1               UNK                Unknown  Probable Cause       19-09-1996  \n",
       "2               IMC                 Cruise  Probable Cause       26-02-2007  \n",
       "3               IMC                 Cruise  Probable Cause       12-09-2000  \n",
       "4               VMC               Approach  Probable Cause       16-04-1980  \n",
       "\n",
       "[5 rows x 31 columns]"
      ]
     },
     "execution_count": 99,
     "metadata": {},
     "output_type": "execute_result"
    }
   ],
   "source": [
    "# Previewing the first 5 rows\n",
    "Aviation_data.head()"
   ]
  },
  {
   "cell_type": "code",
   "execution_count": 100,
   "metadata": {
    "colab": {
     "base_uri": "https://localhost:8080/",
     "height": 342
    },
    "id": "kOfrQo3x1N37",
    "outputId": "1958e53a-f7b9-43b7-9dba-a068c9f55dda"
   },
   "outputs": [
    {
     "data": {
      "text/html": [
       "<div>\n",
       "<style scoped>\n",
       "    .dataframe tbody tr th:only-of-type {\n",
       "        vertical-align: middle;\n",
       "    }\n",
       "\n",
       "    .dataframe tbody tr th {\n",
       "        vertical-align: top;\n",
       "    }\n",
       "\n",
       "    .dataframe thead th {\n",
       "        text-align: right;\n",
       "    }\n",
       "</style>\n",
       "<table border=\"1\" class=\"dataframe\">\n",
       "  <thead>\n",
       "    <tr style=\"text-align: right;\">\n",
       "      <th></th>\n",
       "      <th>Event.Id</th>\n",
       "      <th>Investigation.Type</th>\n",
       "      <th>Accident.Number</th>\n",
       "      <th>Event.Date</th>\n",
       "      <th>Location</th>\n",
       "      <th>Country</th>\n",
       "      <th>Latitude</th>\n",
       "      <th>Longitude</th>\n",
       "      <th>Airport.Code</th>\n",
       "      <th>Airport.Name</th>\n",
       "      <th>...</th>\n",
       "      <th>Purpose.of.flight</th>\n",
       "      <th>Air.carrier</th>\n",
       "      <th>Total.Fatal.Injuries</th>\n",
       "      <th>Total.Serious.Injuries</th>\n",
       "      <th>Total.Minor.Injuries</th>\n",
       "      <th>Total.Uninjured</th>\n",
       "      <th>Weather.Condition</th>\n",
       "      <th>Broad.phase.of.flight</th>\n",
       "      <th>Report.Status</th>\n",
       "      <th>Publication.Date</th>\n",
       "    </tr>\n",
       "  </thead>\n",
       "  <tbody>\n",
       "    <tr>\n",
       "      <th>88884</th>\n",
       "      <td>20221227106491</td>\n",
       "      <td>Accident</td>\n",
       "      <td>ERA23LA093</td>\n",
       "      <td>2022-12-26</td>\n",
       "      <td>Annapolis, MD</td>\n",
       "      <td>United States</td>\n",
       "      <td>NaN</td>\n",
       "      <td>NaN</td>\n",
       "      <td>NaN</td>\n",
       "      <td>NaN</td>\n",
       "      <td>...</td>\n",
       "      <td>Personal</td>\n",
       "      <td>NaN</td>\n",
       "      <td>0.0</td>\n",
       "      <td>1.0</td>\n",
       "      <td>0.0</td>\n",
       "      <td>0.0</td>\n",
       "      <td>NaN</td>\n",
       "      <td>NaN</td>\n",
       "      <td>NaN</td>\n",
       "      <td>29-12-2022</td>\n",
       "    </tr>\n",
       "    <tr>\n",
       "      <th>88885</th>\n",
       "      <td>20221227106494</td>\n",
       "      <td>Accident</td>\n",
       "      <td>ERA23LA095</td>\n",
       "      <td>2022-12-26</td>\n",
       "      <td>Hampton, NH</td>\n",
       "      <td>United States</td>\n",
       "      <td>NaN</td>\n",
       "      <td>NaN</td>\n",
       "      <td>NaN</td>\n",
       "      <td>NaN</td>\n",
       "      <td>...</td>\n",
       "      <td>NaN</td>\n",
       "      <td>NaN</td>\n",
       "      <td>0.0</td>\n",
       "      <td>0.0</td>\n",
       "      <td>0.0</td>\n",
       "      <td>0.0</td>\n",
       "      <td>NaN</td>\n",
       "      <td>NaN</td>\n",
       "      <td>NaN</td>\n",
       "      <td>NaN</td>\n",
       "    </tr>\n",
       "    <tr>\n",
       "      <th>88886</th>\n",
       "      <td>20221227106497</td>\n",
       "      <td>Accident</td>\n",
       "      <td>WPR23LA075</td>\n",
       "      <td>2022-12-26</td>\n",
       "      <td>Payson, AZ</td>\n",
       "      <td>United States</td>\n",
       "      <td>341525N</td>\n",
       "      <td>1112021W</td>\n",
       "      <td>PAN</td>\n",
       "      <td>PAYSON</td>\n",
       "      <td>...</td>\n",
       "      <td>Personal</td>\n",
       "      <td>NaN</td>\n",
       "      <td>0.0</td>\n",
       "      <td>0.0</td>\n",
       "      <td>0.0</td>\n",
       "      <td>1.0</td>\n",
       "      <td>VMC</td>\n",
       "      <td>NaN</td>\n",
       "      <td>NaN</td>\n",
       "      <td>27-12-2022</td>\n",
       "    </tr>\n",
       "    <tr>\n",
       "      <th>88887</th>\n",
       "      <td>20221227106498</td>\n",
       "      <td>Accident</td>\n",
       "      <td>WPR23LA076</td>\n",
       "      <td>2022-12-26</td>\n",
       "      <td>Morgan, UT</td>\n",
       "      <td>United States</td>\n",
       "      <td>NaN</td>\n",
       "      <td>NaN</td>\n",
       "      <td>NaN</td>\n",
       "      <td>NaN</td>\n",
       "      <td>...</td>\n",
       "      <td>Personal</td>\n",
       "      <td>MC CESSNA 210N LLC</td>\n",
       "      <td>0.0</td>\n",
       "      <td>0.0</td>\n",
       "      <td>0.0</td>\n",
       "      <td>0.0</td>\n",
       "      <td>NaN</td>\n",
       "      <td>NaN</td>\n",
       "      <td>NaN</td>\n",
       "      <td>NaN</td>\n",
       "    </tr>\n",
       "    <tr>\n",
       "      <th>88888</th>\n",
       "      <td>20221230106513</td>\n",
       "      <td>Accident</td>\n",
       "      <td>ERA23LA097</td>\n",
       "      <td>2022-12-29</td>\n",
       "      <td>Athens, GA</td>\n",
       "      <td>United States</td>\n",
       "      <td>NaN</td>\n",
       "      <td>NaN</td>\n",
       "      <td>NaN</td>\n",
       "      <td>NaN</td>\n",
       "      <td>...</td>\n",
       "      <td>Personal</td>\n",
       "      <td>NaN</td>\n",
       "      <td>0.0</td>\n",
       "      <td>1.0</td>\n",
       "      <td>0.0</td>\n",
       "      <td>1.0</td>\n",
       "      <td>NaN</td>\n",
       "      <td>NaN</td>\n",
       "      <td>NaN</td>\n",
       "      <td>30-12-2022</td>\n",
       "    </tr>\n",
       "  </tbody>\n",
       "</table>\n",
       "<p>5 rows × 31 columns</p>\n",
       "</div>"
      ],
      "text/plain": [
       "             Event.Id Investigation.Type Accident.Number  Event.Date  \\\n",
       "88884  20221227106491           Accident      ERA23LA093  2022-12-26   \n",
       "88885  20221227106494           Accident      ERA23LA095  2022-12-26   \n",
       "88886  20221227106497           Accident      WPR23LA075  2022-12-26   \n",
       "88887  20221227106498           Accident      WPR23LA076  2022-12-26   \n",
       "88888  20221230106513           Accident      ERA23LA097  2022-12-29   \n",
       "\n",
       "            Location        Country Latitude Longitude Airport.Code  \\\n",
       "88884  Annapolis, MD  United States      NaN       NaN          NaN   \n",
       "88885    Hampton, NH  United States      NaN       NaN          NaN   \n",
       "88886     Payson, AZ  United States  341525N  1112021W          PAN   \n",
       "88887     Morgan, UT  United States      NaN       NaN          NaN   \n",
       "88888     Athens, GA  United States      NaN       NaN          NaN   \n",
       "\n",
       "      Airport.Name  ... Purpose.of.flight         Air.carrier  \\\n",
       "88884          NaN  ...          Personal                 NaN   \n",
       "88885          NaN  ...               NaN                 NaN   \n",
       "88886       PAYSON  ...          Personal                 NaN   \n",
       "88887          NaN  ...          Personal  MC CESSNA 210N LLC   \n",
       "88888          NaN  ...          Personal                 NaN   \n",
       "\n",
       "      Total.Fatal.Injuries Total.Serious.Injuries Total.Minor.Injuries  \\\n",
       "88884                  0.0                    1.0                  0.0   \n",
       "88885                  0.0                    0.0                  0.0   \n",
       "88886                  0.0                    0.0                  0.0   \n",
       "88887                  0.0                    0.0                  0.0   \n",
       "88888                  0.0                    1.0                  0.0   \n",
       "\n",
       "      Total.Uninjured Weather.Condition  Broad.phase.of.flight Report.Status  \\\n",
       "88884             0.0               NaN                    NaN           NaN   \n",
       "88885             0.0               NaN                    NaN           NaN   \n",
       "88886             1.0               VMC                    NaN           NaN   \n",
       "88887             0.0               NaN                    NaN           NaN   \n",
       "88888             1.0               NaN                    NaN           NaN   \n",
       "\n",
       "      Publication.Date  \n",
       "88884       29-12-2022  \n",
       "88885              NaN  \n",
       "88886       27-12-2022  \n",
       "88887              NaN  \n",
       "88888       30-12-2022  \n",
       "\n",
       "[5 rows x 31 columns]"
      ]
     },
     "execution_count": 100,
     "metadata": {},
     "output_type": "execute_result"
    }
   ],
   "source": [
    "# Previewing the last 5 rows\n",
    "Aviation_data.tail()"
   ]
  },
  {
   "cell_type": "markdown",
   "metadata": {
    "id": "OI__PhqP1N37"
   },
   "source": [
    "# 1.3 Accessing information about our data"
   ]
  },
  {
   "cell_type": "code",
   "execution_count": 101,
   "metadata": {
    "colab": {
     "base_uri": "https://localhost:8080/"
    },
    "id": "F2JAVBT_1N37",
    "outputId": "95cb7cd5-9f87-43df-ac6d-df1b390af198"
   },
   "outputs": [
    {
     "name": "stdout",
     "output_type": "stream",
     "text": [
      "<class 'pandas.core.frame.DataFrame'>\n",
      "RangeIndex: 88889 entries, 0 to 88888\n",
      "Data columns (total 31 columns):\n",
      " #   Column                  Non-Null Count  Dtype  \n",
      "---  ------                  --------------  -----  \n",
      " 0   Event.Id                88889 non-null  object \n",
      " 1   Investigation.Type      88889 non-null  object \n",
      " 2   Accident.Number         88889 non-null  object \n",
      " 3   Event.Date              88889 non-null  object \n",
      " 4   Location                88837 non-null  object \n",
      " 5   Country                 88663 non-null  object \n",
      " 6   Latitude                34382 non-null  object \n",
      " 7   Longitude               34373 non-null  object \n",
      " 8   Airport.Code            50249 non-null  object \n",
      " 9   Airport.Name            52790 non-null  object \n",
      " 10  Injury.Severity         87889 non-null  object \n",
      " 11  Aircraft.damage         85695 non-null  object \n",
      " 12  Aircraft.Category       32287 non-null  object \n",
      " 13  Registration.Number     87572 non-null  object \n",
      " 14  Make                    88826 non-null  object \n",
      " 15  Model                   88797 non-null  object \n",
      " 16  Amateur.Built           88787 non-null  object \n",
      " 17  Number.of.Engines       82805 non-null  float64\n",
      " 18  Engine.Type             81812 non-null  object \n",
      " 19  FAR.Description         32023 non-null  object \n",
      " 20  Schedule                12582 non-null  object \n",
      " 21  Purpose.of.flight       82697 non-null  object \n",
      " 22  Air.carrier             16648 non-null  object \n",
      " 23  Total.Fatal.Injuries    77488 non-null  float64\n",
      " 24  Total.Serious.Injuries  76379 non-null  float64\n",
      " 25  Total.Minor.Injuries    76956 non-null  float64\n",
      " 26  Total.Uninjured         82977 non-null  float64\n",
      " 27  Weather.Condition       84397 non-null  object \n",
      " 28  Broad.phase.of.flight   61724 non-null  object \n",
      " 29  Report.Status           82508 non-null  object \n",
      " 30  Publication.Date        75118 non-null  object \n",
      "dtypes: float64(5), object(26)\n",
      "memory usage: 21.0+ MB\n"
     ]
    }
   ],
   "source": [
    "# Dataset information\n",
    "Aviation_data.info()"
   ]
  },
  {
   "cell_type": "code",
   "execution_count": 102,
   "metadata": {
    "colab": {
     "base_uri": "https://localhost:8080/",
     "height": 300
    },
    "id": "jzu-ajxP1N38",
    "outputId": "e7fa0af0-923b-49fb-fe90-98f1cbfbe041"
   },
   "outputs": [
    {
     "data": {
      "text/html": [
       "<div>\n",
       "<style scoped>\n",
       "    .dataframe tbody tr th:only-of-type {\n",
       "        vertical-align: middle;\n",
       "    }\n",
       "\n",
       "    .dataframe tbody tr th {\n",
       "        vertical-align: top;\n",
       "    }\n",
       "\n",
       "    .dataframe thead th {\n",
       "        text-align: right;\n",
       "    }\n",
       "</style>\n",
       "<table border=\"1\" class=\"dataframe\">\n",
       "  <thead>\n",
       "    <tr style=\"text-align: right;\">\n",
       "      <th></th>\n",
       "      <th>Number.of.Engines</th>\n",
       "      <th>Total.Fatal.Injuries</th>\n",
       "      <th>Total.Serious.Injuries</th>\n",
       "      <th>Total.Minor.Injuries</th>\n",
       "      <th>Total.Uninjured</th>\n",
       "    </tr>\n",
       "  </thead>\n",
       "  <tbody>\n",
       "    <tr>\n",
       "      <th>count</th>\n",
       "      <td>82805.000000</td>\n",
       "      <td>77488.000000</td>\n",
       "      <td>76379.000000</td>\n",
       "      <td>76956.000000</td>\n",
       "      <td>82977.000000</td>\n",
       "    </tr>\n",
       "    <tr>\n",
       "      <th>mean</th>\n",
       "      <td>1.146585</td>\n",
       "      <td>0.647855</td>\n",
       "      <td>0.279881</td>\n",
       "      <td>0.357061</td>\n",
       "      <td>5.325440</td>\n",
       "    </tr>\n",
       "    <tr>\n",
       "      <th>std</th>\n",
       "      <td>0.446510</td>\n",
       "      <td>5.485960</td>\n",
       "      <td>1.544084</td>\n",
       "      <td>2.235625</td>\n",
       "      <td>27.913634</td>\n",
       "    </tr>\n",
       "    <tr>\n",
       "      <th>min</th>\n",
       "      <td>0.000000</td>\n",
       "      <td>0.000000</td>\n",
       "      <td>0.000000</td>\n",
       "      <td>0.000000</td>\n",
       "      <td>0.000000</td>\n",
       "    </tr>\n",
       "    <tr>\n",
       "      <th>25%</th>\n",
       "      <td>1.000000</td>\n",
       "      <td>0.000000</td>\n",
       "      <td>0.000000</td>\n",
       "      <td>0.000000</td>\n",
       "      <td>0.000000</td>\n",
       "    </tr>\n",
       "    <tr>\n",
       "      <th>50%</th>\n",
       "      <td>1.000000</td>\n",
       "      <td>0.000000</td>\n",
       "      <td>0.000000</td>\n",
       "      <td>0.000000</td>\n",
       "      <td>1.000000</td>\n",
       "    </tr>\n",
       "    <tr>\n",
       "      <th>75%</th>\n",
       "      <td>1.000000</td>\n",
       "      <td>0.000000</td>\n",
       "      <td>0.000000</td>\n",
       "      <td>0.000000</td>\n",
       "      <td>2.000000</td>\n",
       "    </tr>\n",
       "    <tr>\n",
       "      <th>max</th>\n",
       "      <td>8.000000</td>\n",
       "      <td>349.000000</td>\n",
       "      <td>161.000000</td>\n",
       "      <td>380.000000</td>\n",
       "      <td>699.000000</td>\n",
       "    </tr>\n",
       "  </tbody>\n",
       "</table>\n",
       "</div>"
      ],
      "text/plain": [
       "       Number.of.Engines  Total.Fatal.Injuries  Total.Serious.Injuries  \\\n",
       "count       82805.000000          77488.000000            76379.000000   \n",
       "mean            1.146585              0.647855                0.279881   \n",
       "std             0.446510              5.485960                1.544084   \n",
       "min             0.000000              0.000000                0.000000   \n",
       "25%             1.000000              0.000000                0.000000   \n",
       "50%             1.000000              0.000000                0.000000   \n",
       "75%             1.000000              0.000000                0.000000   \n",
       "max             8.000000            349.000000              161.000000   \n",
       "\n",
       "       Total.Minor.Injuries  Total.Uninjured  \n",
       "count          76956.000000     82977.000000  \n",
       "mean               0.357061         5.325440  \n",
       "std                2.235625        27.913634  \n",
       "min                0.000000         0.000000  \n",
       "25%                0.000000         0.000000  \n",
       "50%                0.000000         1.000000  \n",
       "75%                0.000000         2.000000  \n",
       "max              380.000000       699.000000  "
      ]
     },
     "execution_count": 102,
     "metadata": {},
     "output_type": "execute_result"
    }
   ],
   "source": [
    "# Summary Statistics of the data\n",
    "Aviation_data.describe()"
   ]
  },
  {
   "cell_type": "code",
   "execution_count": 103,
   "metadata": {
    "colab": {
     "base_uri": "https://localhost:8080/"
    },
    "id": "dfhnDv-91N38",
    "outputId": "946eac39-4362-4790-dc70-a19d537441c4"
   },
   "outputs": [
    {
     "data": {
      "text/plain": [
       "(88889, 31)"
      ]
     },
     "execution_count": 103,
     "metadata": {},
     "output_type": "execute_result"
    }
   ],
   "source": [
    "# Shape of the  data\n",
    "Aviation_data.shape"
   ]
  },
  {
   "cell_type": "code",
   "execution_count": 104,
   "metadata": {
    "colab": {
     "base_uri": "https://localhost:8080/",
     "height": 1000
    },
    "id": "IvMXSO4e-esk",
    "outputId": "dbb7a4d8-b087-4e3c-bfce-644c092dad24"
   },
   "outputs": [
    {
     "data": {
      "text/plain": [
       "Event.Id                   object\n",
       "Investigation.Type         object\n",
       "Accident.Number            object\n",
       "Event.Date                 object\n",
       "Location                   object\n",
       "Country                    object\n",
       "Latitude                   object\n",
       "Longitude                  object\n",
       "Airport.Code               object\n",
       "Airport.Name               object\n",
       "Injury.Severity            object\n",
       "Aircraft.damage            object\n",
       "Aircraft.Category          object\n",
       "Registration.Number        object\n",
       "Make                       object\n",
       "Model                      object\n",
       "Amateur.Built              object\n",
       "Number.of.Engines         float64\n",
       "Engine.Type                object\n",
       "FAR.Description            object\n",
       "Schedule                   object\n",
       "Purpose.of.flight          object\n",
       "Air.carrier                object\n",
       "Total.Fatal.Injuries      float64\n",
       "Total.Serious.Injuries    float64\n",
       "Total.Minor.Injuries      float64\n",
       "Total.Uninjured           float64\n",
       "Weather.Condition          object\n",
       "Broad.phase.of.flight      object\n",
       "Report.Status              object\n",
       "Publication.Date           object\n",
       "dtype: object"
      ]
     },
     "execution_count": 104,
     "metadata": {},
     "output_type": "execute_result"
    }
   ],
   "source": [
    "# Data types of the columns\n",
    "Aviation_data.dtypes"
   ]
  },
  {
   "cell_type": "markdown",
   "metadata": {
    "id": "PGods3zf1N38"
   },
   "source": [
    "#### States_df"
   ]
  },
  {
   "cell_type": "code",
   "execution_count": 105,
   "metadata": {
    "colab": {
     "base_uri": "https://localhost:8080/",
     "height": 423
    },
    "id": "ln3Qlp3y1N38",
    "outputId": "e8caf3ed-6a91-410f-a976-8d3272fb8ce2"
   },
   "outputs": [
    {
     "data": {
      "text/html": [
       "<div>\n",
       "<style scoped>\n",
       "    .dataframe tbody tr th:only-of-type {\n",
       "        vertical-align: middle;\n",
       "    }\n",
       "\n",
       "    .dataframe tbody tr th {\n",
       "        vertical-align: top;\n",
       "    }\n",
       "\n",
       "    .dataframe thead th {\n",
       "        text-align: right;\n",
       "    }\n",
       "</style>\n",
       "<table border=\"1\" class=\"dataframe\">\n",
       "  <thead>\n",
       "    <tr style=\"text-align: right;\">\n",
       "      <th></th>\n",
       "      <th>US_State</th>\n",
       "      <th>Abbreviation</th>\n",
       "    </tr>\n",
       "  </thead>\n",
       "  <tbody>\n",
       "    <tr>\n",
       "      <th>0</th>\n",
       "      <td>Alabama</td>\n",
       "      <td>AL</td>\n",
       "    </tr>\n",
       "    <tr>\n",
       "      <th>1</th>\n",
       "      <td>Alaska</td>\n",
       "      <td>AK</td>\n",
       "    </tr>\n",
       "    <tr>\n",
       "      <th>2</th>\n",
       "      <td>Arizona</td>\n",
       "      <td>AZ</td>\n",
       "    </tr>\n",
       "    <tr>\n",
       "      <th>3</th>\n",
       "      <td>Arkansas</td>\n",
       "      <td>AR</td>\n",
       "    </tr>\n",
       "    <tr>\n",
       "      <th>4</th>\n",
       "      <td>California</td>\n",
       "      <td>CA</td>\n",
       "    </tr>\n",
       "    <tr>\n",
       "      <th>...</th>\n",
       "      <td>...</td>\n",
       "      <td>...</td>\n",
       "    </tr>\n",
       "    <tr>\n",
       "      <th>57</th>\n",
       "      <td>Virgin Islands</td>\n",
       "      <td>VI</td>\n",
       "    </tr>\n",
       "    <tr>\n",
       "      <th>58</th>\n",
       "      <td>Washington_DC</td>\n",
       "      <td>DC</td>\n",
       "    </tr>\n",
       "    <tr>\n",
       "      <th>59</th>\n",
       "      <td>Gulf of mexico</td>\n",
       "      <td>GM</td>\n",
       "    </tr>\n",
       "    <tr>\n",
       "      <th>60</th>\n",
       "      <td>Atlantic ocean</td>\n",
       "      <td>AO</td>\n",
       "    </tr>\n",
       "    <tr>\n",
       "      <th>61</th>\n",
       "      <td>Pacific ocean</td>\n",
       "      <td>PO</td>\n",
       "    </tr>\n",
       "  </tbody>\n",
       "</table>\n",
       "<p>62 rows × 2 columns</p>\n",
       "</div>"
      ],
      "text/plain": [
       "          US_State Abbreviation\n",
       "0          Alabama           AL\n",
       "1           Alaska           AK\n",
       "2          Arizona           AZ\n",
       "3         Arkansas           AR\n",
       "4       California           CA\n",
       "..             ...          ...\n",
       "57  Virgin Islands           VI\n",
       "58   Washington_DC           DC\n",
       "59  Gulf of mexico           GM\n",
       "60  Atlantic ocean           AO\n",
       "61   Pacific ocean           PO\n",
       "\n",
       "[62 rows x 2 columns]"
      ]
     },
     "execution_count": 105,
     "metadata": {},
     "output_type": "execute_result"
    }
   ],
   "source": [
    "States_df"
   ]
  },
  {
   "cell_type": "code",
   "execution_count": 106,
   "metadata": {
    "colab": {
     "base_uri": "https://localhost:8080/"
    },
    "id": "K1gQihrE1N38",
    "outputId": "284b7624-8b2e-4f70-a9b3-bfe864872517"
   },
   "outputs": [
    {
     "data": {
      "text/plain": [
       "(62, 2)"
      ]
     },
     "execution_count": 106,
     "metadata": {},
     "output_type": "execute_result"
    }
   ],
   "source": [
    "# Shape\n",
    "States_df.shape"
   ]
  },
  {
   "cell_type": "code",
   "execution_count": 107,
   "metadata": {
    "colab": {
     "base_uri": "https://localhost:8080/",
     "height": 175
    },
    "id": "NWaPD9FY1N38",
    "outputId": "bd93682f-56ec-4e74-fd3e-8167765c76f2"
   },
   "outputs": [
    {
     "data": {
      "text/html": [
       "<div>\n",
       "<style scoped>\n",
       "    .dataframe tbody tr th:only-of-type {\n",
       "        vertical-align: middle;\n",
       "    }\n",
       "\n",
       "    .dataframe tbody tr th {\n",
       "        vertical-align: top;\n",
       "    }\n",
       "\n",
       "    .dataframe thead th {\n",
       "        text-align: right;\n",
       "    }\n",
       "</style>\n",
       "<table border=\"1\" class=\"dataframe\">\n",
       "  <thead>\n",
       "    <tr style=\"text-align: right;\">\n",
       "      <th></th>\n",
       "      <th>US_State</th>\n",
       "      <th>Abbreviation</th>\n",
       "    </tr>\n",
       "  </thead>\n",
       "  <tbody>\n",
       "    <tr>\n",
       "      <th>count</th>\n",
       "      <td>62</td>\n",
       "      <td>62</td>\n",
       "    </tr>\n",
       "    <tr>\n",
       "      <th>unique</th>\n",
       "      <td>62</td>\n",
       "      <td>62</td>\n",
       "    </tr>\n",
       "    <tr>\n",
       "      <th>top</th>\n",
       "      <td>Virgin Islands</td>\n",
       "      <td>MI</td>\n",
       "    </tr>\n",
       "    <tr>\n",
       "      <th>freq</th>\n",
       "      <td>1</td>\n",
       "      <td>1</td>\n",
       "    </tr>\n",
       "  </tbody>\n",
       "</table>\n",
       "</div>"
      ],
      "text/plain": [
       "              US_State Abbreviation\n",
       "count               62           62\n",
       "unique              62           62\n",
       "top     Virgin Islands           MI\n",
       "freq                 1            1"
      ]
     },
     "execution_count": 107,
     "metadata": {},
     "output_type": "execute_result"
    }
   ],
   "source": [
    "# Summary statistics\n",
    "States_df.describe()"
   ]
  },
  {
   "cell_type": "markdown",
   "metadata": {
    "id": "GfYhiks-1N38"
   },
   "source": [
    "# 1.4 Data Cleaning\n",
    "This step is crucial for ensuring data accuracy and consistency, making the dataset ready for analysis.\n"
   ]
  },
  {
   "cell_type": "markdown",
   "metadata": {
    "id": "j1j8PBm71N39"
   },
   "source": [
    "#### States_df"
   ]
  },
  {
   "cell_type": "code",
   "execution_count": 108,
   "metadata": {
    "colab": {
     "base_uri": "https://localhost:8080/"
    },
    "id": "5i1RR9dw1N39",
    "outputId": "0a95f440-31dc-4271-e176-d7a711dd081f"
   },
   "outputs": [
    {
     "data": {
      "text/plain": [
       "0"
      ]
     },
     "execution_count": 108,
     "metadata": {},
     "output_type": "execute_result"
    }
   ],
   "source": [
    "# Checking for duplicates\n",
    "States_df.duplicated().sum()"
   ]
  },
  {
   "cell_type": "code",
   "execution_count": 109,
   "metadata": {
    "colab": {
     "base_uri": "https://localhost:8080/",
     "height": 147
    },
    "id": "qBzQXnUm1N39",
    "outputId": "049fdbec-8093-4cfb-bebd-29a8eb779a05"
   },
   "outputs": [
    {
     "data": {
      "text/plain": [
       "US_State        0\n",
       "Abbreviation    0\n",
       "dtype: int64"
      ]
     },
     "execution_count": 109,
     "metadata": {},
     "output_type": "execute_result"
    }
   ],
   "source": [
    "# Checking for null values\n",
    "States_df.isnull().sum()"
   ]
  },
  {
   "cell_type": "markdown",
   "metadata": {
    "id": "75Q1yLYk1N39"
   },
   "source": [
    "### Checking for Duplicates"
   ]
  },
  {
   "cell_type": "code",
   "execution_count": 110,
   "metadata": {
    "colab": {
     "base_uri": "https://localhost:8080/"
    },
    "id": "31dDGT6r1N3-",
    "outputId": "da5646d0-483f-465f-ff6d-ed34745eceff"
   },
   "outputs": [
    {
     "name": "stdout",
     "output_type": "stream",
     "text": [
      "Number of Duplicated rows: 0\n"
     ]
    }
   ],
   "source": [
    "# Checking for duplicates in the dataframe\n",
    "duplicates=Aviation_data.duplicated().sum() # This checks for the duplicates and sums them up\n",
    "print(f'Number of Duplicated rows: {duplicates}')"
   ]
  },
  {
   "cell_type": "code",
   "execution_count": 111,
   "metadata": {
    "colab": {
     "base_uri": "https://localhost:8080/",
     "height": 617
    },
    "id": "YZxMnstP1N3-",
    "outputId": "74b0ba14-8274-403f-b98f-bda924e7da07"
   },
   "outputs": [
    {
     "data": {
      "text/html": [
       "<div>\n",
       "<style scoped>\n",
       "    .dataframe tbody tr th:only-of-type {\n",
       "        vertical-align: middle;\n",
       "    }\n",
       "\n",
       "    .dataframe tbody tr th {\n",
       "        vertical-align: top;\n",
       "    }\n",
       "\n",
       "    .dataframe thead th {\n",
       "        text-align: right;\n",
       "    }\n",
       "</style>\n",
       "<table border=\"1\" class=\"dataframe\">\n",
       "  <thead>\n",
       "    <tr style=\"text-align: right;\">\n",
       "      <th></th>\n",
       "      <th>Event.Id</th>\n",
       "      <th>Investigation.Type</th>\n",
       "      <th>Accident.Number</th>\n",
       "      <th>Event.Date</th>\n",
       "      <th>Location</th>\n",
       "      <th>Country</th>\n",
       "      <th>Latitude</th>\n",
       "      <th>Longitude</th>\n",
       "      <th>Airport.Code</th>\n",
       "      <th>Airport.Name</th>\n",
       "      <th>...</th>\n",
       "      <th>Purpose.of.flight</th>\n",
       "      <th>Air.carrier</th>\n",
       "      <th>Total.Fatal.Injuries</th>\n",
       "      <th>Total.Serious.Injuries</th>\n",
       "      <th>Total.Minor.Injuries</th>\n",
       "      <th>Total.Uninjured</th>\n",
       "      <th>Weather.Condition</th>\n",
       "      <th>Broad.phase.of.flight</th>\n",
       "      <th>Report.Status</th>\n",
       "      <th>Publication.Date</th>\n",
       "    </tr>\n",
       "  </thead>\n",
       "  <tbody>\n",
       "    <tr>\n",
       "      <th>0</th>\n",
       "      <td>20001218X45444</td>\n",
       "      <td>Accident</td>\n",
       "      <td>SEA87LA080</td>\n",
       "      <td>1948-10-24</td>\n",
       "      <td>MOOSE CREEK, ID</td>\n",
       "      <td>United States</td>\n",
       "      <td>NaN</td>\n",
       "      <td>NaN</td>\n",
       "      <td>NaN</td>\n",
       "      <td>NaN</td>\n",
       "      <td>...</td>\n",
       "      <td>Personal</td>\n",
       "      <td>NaN</td>\n",
       "      <td>2.0</td>\n",
       "      <td>0.0</td>\n",
       "      <td>0.0</td>\n",
       "      <td>0.0</td>\n",
       "      <td>UNK</td>\n",
       "      <td>Cruise</td>\n",
       "      <td>Probable Cause</td>\n",
       "      <td>NaN</td>\n",
       "    </tr>\n",
       "    <tr>\n",
       "      <th>1</th>\n",
       "      <td>20001218X45447</td>\n",
       "      <td>Accident</td>\n",
       "      <td>LAX94LA336</td>\n",
       "      <td>1962-07-19</td>\n",
       "      <td>BRIDGEPORT, CA</td>\n",
       "      <td>United States</td>\n",
       "      <td>NaN</td>\n",
       "      <td>NaN</td>\n",
       "      <td>NaN</td>\n",
       "      <td>NaN</td>\n",
       "      <td>...</td>\n",
       "      <td>Personal</td>\n",
       "      <td>NaN</td>\n",
       "      <td>4.0</td>\n",
       "      <td>0.0</td>\n",
       "      <td>0.0</td>\n",
       "      <td>0.0</td>\n",
       "      <td>UNK</td>\n",
       "      <td>Unknown</td>\n",
       "      <td>Probable Cause</td>\n",
       "      <td>19-09-1996</td>\n",
       "    </tr>\n",
       "    <tr>\n",
       "      <th>2</th>\n",
       "      <td>20061025X01555</td>\n",
       "      <td>Accident</td>\n",
       "      <td>NYC07LA005</td>\n",
       "      <td>1974-08-30</td>\n",
       "      <td>Saltville, VA</td>\n",
       "      <td>United States</td>\n",
       "      <td>36.9222</td>\n",
       "      <td>-81.8781</td>\n",
       "      <td>NaN</td>\n",
       "      <td>NaN</td>\n",
       "      <td>...</td>\n",
       "      <td>Personal</td>\n",
       "      <td>NaN</td>\n",
       "      <td>3.0</td>\n",
       "      <td>NaN</td>\n",
       "      <td>NaN</td>\n",
       "      <td>NaN</td>\n",
       "      <td>IMC</td>\n",
       "      <td>Cruise</td>\n",
       "      <td>Probable Cause</td>\n",
       "      <td>26-02-2007</td>\n",
       "    </tr>\n",
       "    <tr>\n",
       "      <th>3</th>\n",
       "      <td>20001218X45448</td>\n",
       "      <td>Accident</td>\n",
       "      <td>LAX96LA321</td>\n",
       "      <td>1977-06-19</td>\n",
       "      <td>EUREKA, CA</td>\n",
       "      <td>United States</td>\n",
       "      <td>NaN</td>\n",
       "      <td>NaN</td>\n",
       "      <td>NaN</td>\n",
       "      <td>NaN</td>\n",
       "      <td>...</td>\n",
       "      <td>Personal</td>\n",
       "      <td>NaN</td>\n",
       "      <td>2.0</td>\n",
       "      <td>0.0</td>\n",
       "      <td>0.0</td>\n",
       "      <td>0.0</td>\n",
       "      <td>IMC</td>\n",
       "      <td>Cruise</td>\n",
       "      <td>Probable Cause</td>\n",
       "      <td>12-09-2000</td>\n",
       "    </tr>\n",
       "    <tr>\n",
       "      <th>4</th>\n",
       "      <td>20041105X01764</td>\n",
       "      <td>Accident</td>\n",
       "      <td>CHI79FA064</td>\n",
       "      <td>1979-08-02</td>\n",
       "      <td>Canton, OH</td>\n",
       "      <td>United States</td>\n",
       "      <td>NaN</td>\n",
       "      <td>NaN</td>\n",
       "      <td>NaN</td>\n",
       "      <td>NaN</td>\n",
       "      <td>...</td>\n",
       "      <td>Personal</td>\n",
       "      <td>NaN</td>\n",
       "      <td>1.0</td>\n",
       "      <td>2.0</td>\n",
       "      <td>NaN</td>\n",
       "      <td>0.0</td>\n",
       "      <td>VMC</td>\n",
       "      <td>Approach</td>\n",
       "      <td>Probable Cause</td>\n",
       "      <td>16-04-1980</td>\n",
       "    </tr>\n",
       "    <tr>\n",
       "      <th>...</th>\n",
       "      <td>...</td>\n",
       "      <td>...</td>\n",
       "      <td>...</td>\n",
       "      <td>...</td>\n",
       "      <td>...</td>\n",
       "      <td>...</td>\n",
       "      <td>...</td>\n",
       "      <td>...</td>\n",
       "      <td>...</td>\n",
       "      <td>...</td>\n",
       "      <td>...</td>\n",
       "      <td>...</td>\n",
       "      <td>...</td>\n",
       "      <td>...</td>\n",
       "      <td>...</td>\n",
       "      <td>...</td>\n",
       "      <td>...</td>\n",
       "      <td>...</td>\n",
       "      <td>...</td>\n",
       "      <td>...</td>\n",
       "      <td>...</td>\n",
       "    </tr>\n",
       "    <tr>\n",
       "      <th>88884</th>\n",
       "      <td>20221227106491</td>\n",
       "      <td>Accident</td>\n",
       "      <td>ERA23LA093</td>\n",
       "      <td>2022-12-26</td>\n",
       "      <td>Annapolis, MD</td>\n",
       "      <td>United States</td>\n",
       "      <td>NaN</td>\n",
       "      <td>NaN</td>\n",
       "      <td>NaN</td>\n",
       "      <td>NaN</td>\n",
       "      <td>...</td>\n",
       "      <td>Personal</td>\n",
       "      <td>NaN</td>\n",
       "      <td>0.0</td>\n",
       "      <td>1.0</td>\n",
       "      <td>0.0</td>\n",
       "      <td>0.0</td>\n",
       "      <td>NaN</td>\n",
       "      <td>NaN</td>\n",
       "      <td>NaN</td>\n",
       "      <td>29-12-2022</td>\n",
       "    </tr>\n",
       "    <tr>\n",
       "      <th>88885</th>\n",
       "      <td>20221227106494</td>\n",
       "      <td>Accident</td>\n",
       "      <td>ERA23LA095</td>\n",
       "      <td>2022-12-26</td>\n",
       "      <td>Hampton, NH</td>\n",
       "      <td>United States</td>\n",
       "      <td>NaN</td>\n",
       "      <td>NaN</td>\n",
       "      <td>NaN</td>\n",
       "      <td>NaN</td>\n",
       "      <td>...</td>\n",
       "      <td>NaN</td>\n",
       "      <td>NaN</td>\n",
       "      <td>0.0</td>\n",
       "      <td>0.0</td>\n",
       "      <td>0.0</td>\n",
       "      <td>0.0</td>\n",
       "      <td>NaN</td>\n",
       "      <td>NaN</td>\n",
       "      <td>NaN</td>\n",
       "      <td>NaN</td>\n",
       "    </tr>\n",
       "    <tr>\n",
       "      <th>88886</th>\n",
       "      <td>20221227106497</td>\n",
       "      <td>Accident</td>\n",
       "      <td>WPR23LA075</td>\n",
       "      <td>2022-12-26</td>\n",
       "      <td>Payson, AZ</td>\n",
       "      <td>United States</td>\n",
       "      <td>341525N</td>\n",
       "      <td>1112021W</td>\n",
       "      <td>PAN</td>\n",
       "      <td>PAYSON</td>\n",
       "      <td>...</td>\n",
       "      <td>Personal</td>\n",
       "      <td>NaN</td>\n",
       "      <td>0.0</td>\n",
       "      <td>0.0</td>\n",
       "      <td>0.0</td>\n",
       "      <td>1.0</td>\n",
       "      <td>VMC</td>\n",
       "      <td>NaN</td>\n",
       "      <td>NaN</td>\n",
       "      <td>27-12-2022</td>\n",
       "    </tr>\n",
       "    <tr>\n",
       "      <th>88887</th>\n",
       "      <td>20221227106498</td>\n",
       "      <td>Accident</td>\n",
       "      <td>WPR23LA076</td>\n",
       "      <td>2022-12-26</td>\n",
       "      <td>Morgan, UT</td>\n",
       "      <td>United States</td>\n",
       "      <td>NaN</td>\n",
       "      <td>NaN</td>\n",
       "      <td>NaN</td>\n",
       "      <td>NaN</td>\n",
       "      <td>...</td>\n",
       "      <td>Personal</td>\n",
       "      <td>MC CESSNA 210N LLC</td>\n",
       "      <td>0.0</td>\n",
       "      <td>0.0</td>\n",
       "      <td>0.0</td>\n",
       "      <td>0.0</td>\n",
       "      <td>NaN</td>\n",
       "      <td>NaN</td>\n",
       "      <td>NaN</td>\n",
       "      <td>NaN</td>\n",
       "    </tr>\n",
       "    <tr>\n",
       "      <th>88888</th>\n",
       "      <td>20221230106513</td>\n",
       "      <td>Accident</td>\n",
       "      <td>ERA23LA097</td>\n",
       "      <td>2022-12-29</td>\n",
       "      <td>Athens, GA</td>\n",
       "      <td>United States</td>\n",
       "      <td>NaN</td>\n",
       "      <td>NaN</td>\n",
       "      <td>NaN</td>\n",
       "      <td>NaN</td>\n",
       "      <td>...</td>\n",
       "      <td>Personal</td>\n",
       "      <td>NaN</td>\n",
       "      <td>0.0</td>\n",
       "      <td>1.0</td>\n",
       "      <td>0.0</td>\n",
       "      <td>1.0</td>\n",
       "      <td>NaN</td>\n",
       "      <td>NaN</td>\n",
       "      <td>NaN</td>\n",
       "      <td>30-12-2022</td>\n",
       "    </tr>\n",
       "  </tbody>\n",
       "</table>\n",
       "<p>88889 rows × 31 columns</p>\n",
       "</div>"
      ],
      "text/plain": [
       "             Event.Id Investigation.Type Accident.Number  Event.Date  \\\n",
       "0      20001218X45444           Accident      SEA87LA080  1948-10-24   \n",
       "1      20001218X45447           Accident      LAX94LA336  1962-07-19   \n",
       "2      20061025X01555           Accident      NYC07LA005  1974-08-30   \n",
       "3      20001218X45448           Accident      LAX96LA321  1977-06-19   \n",
       "4      20041105X01764           Accident      CHI79FA064  1979-08-02   \n",
       "...               ...                ...             ...         ...   \n",
       "88884  20221227106491           Accident      ERA23LA093  2022-12-26   \n",
       "88885  20221227106494           Accident      ERA23LA095  2022-12-26   \n",
       "88886  20221227106497           Accident      WPR23LA075  2022-12-26   \n",
       "88887  20221227106498           Accident      WPR23LA076  2022-12-26   \n",
       "88888  20221230106513           Accident      ERA23LA097  2022-12-29   \n",
       "\n",
       "              Location        Country Latitude Longitude Airport.Code  \\\n",
       "0      MOOSE CREEK, ID  United States      NaN       NaN          NaN   \n",
       "1       BRIDGEPORT, CA  United States      NaN       NaN          NaN   \n",
       "2        Saltville, VA  United States  36.9222  -81.8781          NaN   \n",
       "3           EUREKA, CA  United States      NaN       NaN          NaN   \n",
       "4           Canton, OH  United States      NaN       NaN          NaN   \n",
       "...                ...            ...      ...       ...          ...   \n",
       "88884    Annapolis, MD  United States      NaN       NaN          NaN   \n",
       "88885      Hampton, NH  United States      NaN       NaN          NaN   \n",
       "88886       Payson, AZ  United States  341525N  1112021W          PAN   \n",
       "88887       Morgan, UT  United States      NaN       NaN          NaN   \n",
       "88888       Athens, GA  United States      NaN       NaN          NaN   \n",
       "\n",
       "      Airport.Name  ... Purpose.of.flight         Air.carrier  \\\n",
       "0              NaN  ...          Personal                 NaN   \n",
       "1              NaN  ...          Personal                 NaN   \n",
       "2              NaN  ...          Personal                 NaN   \n",
       "3              NaN  ...          Personal                 NaN   \n",
       "4              NaN  ...          Personal                 NaN   \n",
       "...            ...  ...               ...                 ...   \n",
       "88884          NaN  ...          Personal                 NaN   \n",
       "88885          NaN  ...               NaN                 NaN   \n",
       "88886       PAYSON  ...          Personal                 NaN   \n",
       "88887          NaN  ...          Personal  MC CESSNA 210N LLC   \n",
       "88888          NaN  ...          Personal                 NaN   \n",
       "\n",
       "      Total.Fatal.Injuries Total.Serious.Injuries Total.Minor.Injuries  \\\n",
       "0                      2.0                    0.0                  0.0   \n",
       "1                      4.0                    0.0                  0.0   \n",
       "2                      3.0                    NaN                  NaN   \n",
       "3                      2.0                    0.0                  0.0   \n",
       "4                      1.0                    2.0                  NaN   \n",
       "...                    ...                    ...                  ...   \n",
       "88884                  0.0                    1.0                  0.0   \n",
       "88885                  0.0                    0.0                  0.0   \n",
       "88886                  0.0                    0.0                  0.0   \n",
       "88887                  0.0                    0.0                  0.0   \n",
       "88888                  0.0                    1.0                  0.0   \n",
       "\n",
       "      Total.Uninjured Weather.Condition  Broad.phase.of.flight  \\\n",
       "0                 0.0               UNK                 Cruise   \n",
       "1                 0.0               UNK                Unknown   \n",
       "2                 NaN               IMC                 Cruise   \n",
       "3                 0.0               IMC                 Cruise   \n",
       "4                 0.0               VMC               Approach   \n",
       "...               ...               ...                    ...   \n",
       "88884             0.0               NaN                    NaN   \n",
       "88885             0.0               NaN                    NaN   \n",
       "88886             1.0               VMC                    NaN   \n",
       "88887             0.0               NaN                    NaN   \n",
       "88888             1.0               NaN                    NaN   \n",
       "\n",
       "        Report.Status Publication.Date  \n",
       "0      Probable Cause              NaN  \n",
       "1      Probable Cause       19-09-1996  \n",
       "2      Probable Cause       26-02-2007  \n",
       "3      Probable Cause       12-09-2000  \n",
       "4      Probable Cause       16-04-1980  \n",
       "...               ...              ...  \n",
       "88884             NaN       29-12-2022  \n",
       "88885             NaN              NaN  \n",
       "88886             NaN       27-12-2022  \n",
       "88887             NaN              NaN  \n",
       "88888             NaN       30-12-2022  \n",
       "\n",
       "[88889 rows x 31 columns]"
      ]
     },
     "execution_count": 111,
     "metadata": {},
     "output_type": "execute_result"
    }
   ],
   "source": [
    "# Dropping the duplicates\n",
    "Aviation_data.drop_duplicates()"
   ]
  },
  {
   "cell_type": "markdown",
   "metadata": {
    "id": "huzmQCwQ1N3-"
   },
   "source": [
    "### Checking for missing values"
   ]
  },
  {
   "cell_type": "code",
   "execution_count": 112,
   "metadata": {
    "colab": {
     "base_uri": "https://localhost:8080/",
     "height": 1000
    },
    "id": "fs0_UUYZ1N3-",
    "outputId": "c03618c1-5b77-434e-9435-46c0a3926ceb"
   },
   "outputs": [
    {
     "data": {
      "text/plain": [
       "Event.Id                      0\n",
       "Investigation.Type            0\n",
       "Accident.Number               0\n",
       "Event.Date                    0\n",
       "Location                     52\n",
       "Country                     226\n",
       "Latitude                  54507\n",
       "Longitude                 54516\n",
       "Airport.Code              38640\n",
       "Airport.Name              36099\n",
       "Injury.Severity            1000\n",
       "Aircraft.damage            3194\n",
       "Aircraft.Category         56602\n",
       "Registration.Number        1317\n",
       "Make                         63\n",
       "Model                        92\n",
       "Amateur.Built               102\n",
       "Number.of.Engines          6084\n",
       "Engine.Type                7077\n",
       "FAR.Description           56866\n",
       "Schedule                  76307\n",
       "Purpose.of.flight          6192\n",
       "Air.carrier               72241\n",
       "Total.Fatal.Injuries      11401\n",
       "Total.Serious.Injuries    12510\n",
       "Total.Minor.Injuries      11933\n",
       "Total.Uninjured            5912\n",
       "Weather.Condition          4492\n",
       "Broad.phase.of.flight     27165\n",
       "Report.Status              6381\n",
       "Publication.Date          13771\n",
       "dtype: int64"
      ]
     },
     "execution_count": 112,
     "metadata": {},
     "output_type": "execute_result"
    }
   ],
   "source": [
    "#Checking and summing the  missing values in the dataframe\n",
    "Aviation_data.isnull().sum()"
   ]
  },
  {
   "cell_type": "markdown",
   "metadata": {
    "id": "d-3jB-KD1N3-"
   },
   "source": [
    "A few observation columns were dropped since they were not going to be used in the analysis;\n",
    "* Latitude and Longitude\n",
    "* Schedule\n",
    "* Air carrier\n",
    "* Airport Name\n",
    "* Airport code\n",
    "* Publication Date\n",
    "* Report Status\n",
    "* Broad phase of flight"
   ]
  },
  {
   "cell_type": "code",
   "execution_count": 113,
   "metadata": {
    "colab": {
     "base_uri": "https://localhost:8080/"
    },
    "id": "FcTkYEtk1N3-",
    "outputId": "8034aaf4-3a0d-4177-a33f-b6fb1acd64ba"
   },
   "outputs": [
    {
     "data": {
      "text/plain": [
       "Index(['Event.Id', 'Investigation.Type', 'Accident.Number', 'Event.Date',\n",
       "       'Location', 'Country', 'Latitude', 'Longitude', 'Airport.Code',\n",
       "       'Airport.Name', 'Injury.Severity', 'Aircraft.damage',\n",
       "       'Aircraft.Category', 'Registration.Number', 'Make', 'Model',\n",
       "       'Amateur.Built', 'Number.of.Engines', 'Engine.Type', 'FAR.Description',\n",
       "       'Schedule', 'Purpose.of.flight', 'Air.carrier', 'Total.Fatal.Injuries',\n",
       "       'Total.Serious.Injuries', 'Total.Minor.Injuries', 'Total.Uninjured',\n",
       "       'Weather.Condition', 'Broad.phase.of.flight', 'Report.Status',\n",
       "       'Publication.Date'],\n",
       "      dtype='object')"
      ]
     },
     "execution_count": 113,
     "metadata": {},
     "output_type": "execute_result"
    }
   ],
   "source": [
    "# Dropping irrelevant observations\n",
    "Aviation_data.drop(columns=['Latitude','Longitude', 'Schedule', 'Air.carrier', 'Airport.Name','Airport.Code',\n",
    "                               'Publication.Date','Report.Status','Registration.Number','FAR.Description', 'Broad.phase.of.flight'],inplace=True)\n",
    "#Checking the remaining columns\n",
    "Aviation_data_df.columns"
   ]
  },
  {
   "cell_type": "markdown",
   "metadata": {
    "id": "T9hody8c1N3_"
   },
   "source": [
    "Cleaning the 'Event.Date' column.\n",
    "* Converting the date values into datetime object for easier analysis\n",
    "* Extracting the year"
   ]
  },
  {
   "cell_type": "code",
   "execution_count": 114,
   "metadata": {
    "colab": {
     "base_uri": "https://localhost:8080/",
     "height": 458
    },
    "id": "I32dvIE-1N3_",
    "outputId": "5fc63adc-be6f-4b02-b7bd-d134f6a18a00",
    "scrolled": true
   },
   "outputs": [
    {
     "data": {
      "text/plain": [
       "0       1948-10-24\n",
       "1       1962-07-19\n",
       "2       1974-08-30\n",
       "3       1977-06-19\n",
       "4       1979-08-02\n",
       "           ...    \n",
       "88884   2022-12-26\n",
       "88885   2022-12-26\n",
       "88886   2022-12-26\n",
       "88887   2022-12-26\n",
       "88888   2022-12-29\n",
       "Name: Event.Date, Length: 88889, dtype: datetime64[ns]"
      ]
     },
     "execution_count": 114,
     "metadata": {},
     "output_type": "execute_result"
    }
   ],
   "source": [
    "# Event Date Column\n",
    "# Convert the values into date format\n",
    "Aviation_data['Event.Date'] = pd.to_datetime(Aviation_data['Event.Date'])\n",
    "Aviation_data['Event.Date']"
   ]
  },
  {
   "cell_type": "code",
   "execution_count": 115,
   "metadata": {
    "colab": {
     "base_uri": "https://localhost:8080/",
     "height": 547
    },
    "id": "MnrnD8uk1N3_",
    "outputId": "b3ab6467-c2ff-4bbf-e3d9-71c9d82aff01",
    "scrolled": true
   },
   "outputs": [
    {
     "data": {
      "text/plain": [
       "0        1948\n",
       "1        1962\n",
       "2        1974\n",
       "3        1977\n",
       "4        1979\n",
       "         ... \n",
       "88884    2022\n",
       "88885    2022\n",
       "88886    2022\n",
       "88887    2022\n",
       "88888    2022\n",
       "Name: Year, Length: 88889, dtype: int64"
      ]
     },
     "execution_count": 115,
     "metadata": {},
     "output_type": "execute_result"
    }
   ],
   "source": [
    "# Creating a 'Year' column\n",
    "Aviation_data['Year']=Aviation_data['Event.Date'].dt.year # .dt.year extracts the year from the date\n",
    "Aviation_data['Year']"
   ]
  },
  {
   "cell_type": "code",
   "execution_count": 116,
   "metadata": {
    "id": "eBCd3p571N3_"
   },
   "outputs": [],
   "source": [
    "# Dropping the Event.Date column\n",
    "Aviation_data.drop(columns=['Event.Date'], axis=1, inplace=True)"
   ]
  },
  {
   "cell_type": "markdown",
   "metadata": {
    "id": "Lz6aKWaC1N3_"
   },
   "source": [
    "**Injury Severity column**\n",
    "* Removing the extra characters i.e. (int). The numbers inside the parentheses are captured under 'Total.Fatal.Injuries' column"
   ]
  },
  {
   "cell_type": "code",
   "execution_count": 117,
   "metadata": {
    "colab": {
     "base_uri": "https://localhost:8080/"
    },
    "id": "n1QOOT401N4D",
    "outputId": "a2d40477-71bc-45e3-fb6a-32081dd6aac8"
   },
   "outputs": [
    {
     "data": {
      "text/plain": [
       "array(['Fatal', 'Non-Fatal', 'Incident', 'Unavailable', nan, 'Minor',\n",
       "       'Serious'], dtype=object)"
      ]
     },
     "execution_count": 117,
     "metadata": {},
     "output_type": "execute_result"
    }
   ],
   "source": [
    "#Replacing the () and any value inside the parentheses with an empty string\n",
    "Aviation_data['Injury.Severity']=Aviation_data['Injury.Severity'].str.replace(r'\\(.*\\)', '', regex=True).str.strip()\n",
    "Aviation_data['Injury.Severity'].unique()"
   ]
  },
  {
   "cell_type": "markdown",
   "metadata": {
    "id": "KdMP8ZIL1N4D"
   },
   "source": [
    "**Location Column**\n",
    "* Converting all values to uppercase letters for uniformity\n",
    "* Splitting City and State"
   ]
  },
  {
   "cell_type": "code",
   "execution_count": 118,
   "metadata": {
    "id": "uKX_RK3y1N4D",
    "scrolled": true
   },
   "outputs": [],
   "source": [
    "# Converting all the values to uppercase\n",
    "Aviation_data['Location']= Aviation_data['Location'].str.upper()\n",
    "\n",
    "# Split the City and State\n",
    "# Splitting the value at comma, and accessing the string at index 0\n",
    "Aviation_data['City'] = Aviation_data['Location'].str.split(',').str[0]\n",
    "\n",
    "# Splitting the value at comma, and accessing the string at index 1\n",
    "Aviation_data['State'] = Aviation_data['Location'].str.split(',').str[1]\n",
    "\n",
    "# Removing characters at the start and end of the values\n",
    "Aviation_data['State'] = Aviation_data['State'].str.strip()\n"
   ]
  },
  {
   "cell_type": "markdown",
   "metadata": {
    "id": "HrQ3cvp81N4D"
   },
   "source": [
    "**Make Column**\n",
    "* Converting values to uppercase\n",
    "* Stripping the values of any characters at the start and end\n",
    "* Harmonizing the names to have less unique values"
   ]
  },
  {
   "cell_type": "code",
   "execution_count": 119,
   "metadata": {
    "colab": {
     "base_uri": "https://localhost:8080/"
    },
    "id": "wWhyvW8B1N4D",
    "outputId": "36beae0b-f377-42a9-c59b-4a4a61773de3"
   },
   "outputs": [
    {
     "data": {
      "text/plain": [
       "array(['STINSON', 'PIPER', 'CESSNA', ..., 'RHINEHART', 'DETRICK', 'SEACE'],\n",
       "      dtype=object)"
      ]
     },
     "execution_count": 119,
     "metadata": {},
     "output_type": "execute_result"
    }
   ],
   "source": [
    "# Converting the values into upper case\n",
    "Aviation_data['Make']=Aviation_data['Make'].str.upper()\n",
    "\n",
    "# Removing any extra characters at the start and end of each value\n",
    "Aviation_data['Make'] = Aviation_data['Make'].str.strip(',\".')\n",
    "\n",
    "# Creating function to extract the first word\n",
    "def extract_first_word(value):\n",
    "    if isinstance(value, str):  # Check if the value is a string\n",
    "        return value.split()[0]  # Split and return the first word\n",
    "    else:\n",
    "        return value\n",
    "    # Apply function to 'Make' column\n",
    "Aviation_data['Make']=Aviation_data['Make'].apply(extract_first_word)\n",
    "Aviation_data['Make'].unique() # Getting the unique values"
   ]
  },
  {
   "cell_type": "markdown",
   "metadata": {
    "id": "sJey9CJ01N4E"
   },
   "source": [
    "**Aircraft Category**\n",
    "* Harmonizing the data by renaming categories that appear to be the same\n"
   ]
  },
  {
   "cell_type": "code",
   "execution_count": 120,
   "metadata": {
    "colab": {
     "base_uri": "https://localhost:8080/"
    },
    "id": "MR5AwMOf1N4E",
    "outputId": "af51f519-78bb-4235-a53d-96bcc5fb93f9"
   },
   "outputs": [
    {
     "data": {
      "text/plain": [
       "array([nan, 'Airplane', 'Helicopter', 'Glider', 'Balloon', 'Gyrocraft',\n",
       "       'Ultralight', 'Unknown', 'Blimp', 'Powered-Lift', 'Weight-Shift',\n",
       "       'Powered Parachute', 'Rocket'], dtype=object)"
      ]
     },
     "execution_count": 120,
     "metadata": {},
     "output_type": "execute_result"
    }
   ],
   "source": [
    "# Aircraft Category\n",
    "\n",
    "Aviation_data['Aircraft.Category'].replace({'UNK':'Unknown', 'ULTR':'Ultralight', 'WSFT':'Weight-Shift'}, inplace=True)\n",
    "Aviation_data['Aircraft.Category'].unique()"
   ]
  },
  {
   "cell_type": "markdown",
   "metadata": {
    "id": "73WKabiz1N4E"
   },
   "source": [
    "**Weather Condition**\n",
    "* Harmonizing values"
   ]
  },
  {
   "cell_type": "code",
   "execution_count": 121,
   "metadata": {
    "colab": {
     "base_uri": "https://localhost:8080/"
    },
    "id": "Sj4yJiYo1N4E",
    "outputId": "023db6ca-6ad1-4afa-abc3-6e7ef346f296"
   },
   "outputs": [
    {
     "data": {
      "text/plain": [
       "array(['Unknown', 'IMC', 'VMC', nan], dtype=object)"
      ]
     },
     "execution_count": 121,
     "metadata": {},
     "output_type": "execute_result"
    }
   ],
   "source": [
    "Aviation_data['Weather.Condition'] = Aviation_data['Weather.Condition'].replace({'Unk':'Unknown','UNK':'Unknown','Personal':'Unknown'})\n",
    "Aviation_data['Weather.Condition'].unique()"
   ]
  },
  {
   "cell_type": "markdown",
   "metadata": {
    "id": "TAlD1QQo1N4E"
   },
   "source": [
    "**Purpose of Flight**\n",
    "* Harmonizing the value names\n"
   ]
  },
  {
   "cell_type": "code",
   "execution_count": 122,
   "metadata": {
    "colab": {
     "base_uri": "https://localhost:8080/"
    },
    "id": "OtnULWQ21N4E",
    "outputId": "369f33cc-fb33-4e56-de7e-250e8e58afc5"
   },
   "outputs": [
    {
     "data": {
      "text/plain": [
       "array(['Personal', nan, 'Executive/corporate', 'Instructional', 'Unknown',\n",
       "       'Ferry', 'Aerial Observation', 'Public Aircraft', 'Skydiving',\n",
       "       'Positioning', 'Flight Test', 'Air Race show', 'Air Drop',\n",
       "       'Glider Tow', 'Firefighting', 'PUBS', 'ASHO', 'Public'],\n",
       "      dtype=object)"
      ]
     },
     "execution_count": 122,
     "metadata": {},
     "output_type": "execute_result"
    }
   ],
   "source": [
    "# 'Purpose of flight' column\n",
    "Aviation_data['Purpose.of.flight'].replace({'Other Work Use':'Unknown', 'Aerial Application':'Aerial Observation',\n",
    "                'Air Race/show':'Air Race show', 'Business':'Executive/corporate', 'PUBL':'Public', 'Public Aircraft - Local':'Public Aircraft',\n",
    "                  'Public Aircraft - State':'Public Aircraft' , 'Public Aircraft - Federal':'Public Aircraft','External Load':'Ferry' , 'Banner Tow':'Glider Tow',\n",
    "                          'Public':'Public Aircraft'}, inplace=True)\n",
    "Aviation_data['Purpose.of.flight'].unique()"
   ]
  },
  {
   "cell_type": "markdown",
   "metadata": {
    "id": "JNf9_uPM4t92"
   },
   "source": [
    "**Engine Type**"
   ]
  },
  {
   "cell_type": "code",
   "execution_count": 123,
   "metadata": {
    "colab": {
     "base_uri": "https://localhost:8080/"
    },
    "id": "aYzDHjcH1N4E",
    "outputId": "42a16cd2-dad6-408d-ba0f-b7712dcc620e"
   },
   "outputs": [
    {
     "data": {
      "text/plain": [
       "array(['Reciprocating', nan, 'Turbo Fan', 'Turbo Shaft', 'Unknown',\n",
       "       'Turbo Prop', 'Turbo Jet', 'None', 'Electric', 'Hybrid Rocket',\n",
       "       'LR', 'NONE'], dtype=object)"
      ]
     },
     "execution_count": 123,
     "metadata": {},
     "output_type": "execute_result"
    }
   ],
   "source": [
    "# Engine Type\n",
    "Aviation_data['Engine.Type']=Aviation_data_df['Engine.Type'].replace({'UNK':'Unknown', 'Geared Turbofan':'Turbo Fan'})\n",
    "Aviation_data['Engine.Type'].unique()"
   ]
  },
  {
   "cell_type": "markdown",
   "metadata": {
    "id": "cK21YlUM1N4E"
   },
   "source": [
    "#### Cleaning the States_df"
   ]
  },
  {
   "cell_type": "code",
   "execution_count": 124,
   "metadata": {
    "id": "XxQJLQvu1N4E"
   },
   "outputs": [],
   "source": [
    "# Removing characters at the start and end of the values\n",
    "States_df['Abbreviation'] = States_df['Abbreviation'].str.strip()"
   ]
  },
  {
   "cell_type": "markdown",
   "metadata": {
    "id": "ASRtCSY-1N4F"
   },
   "source": [
    "## Handling Missing Values"
   ]
  },
  {
   "cell_type": "markdown",
   "metadata": {},
   "source": [
    "**Injury Severity Column**"
   ]
  },
  {
   "cell_type": "code",
   "execution_count": 125,
   "metadata": {
    "colab": {
     "base_uri": "https://localhost:8080/",
     "height": 241
    },
    "id": "0VIhXse11N4F",
    "outputId": "d0ff91f9-1ef3-4981-b00b-c9fa1c7cadb4"
   },
   "outputs": [
    {
     "data": {
      "text/plain": [
       "Non-Fatal      68357\n",
       "Fatal          17826\n",
       "Incident        2219\n",
       "Minor            218\n",
       "Serious          173\n",
       "Unavailable       96\n",
       "Name: Injury.Severity, dtype: int64"
      ]
     },
     "execution_count": 125,
     "metadata": {},
     "output_type": "execute_result"
    }
   ],
   "source": [
    "# Fill the missing values with the most common severity\n",
    "most_injury_severity= Aviation_data['Injury.Severity'].mode()[0] # Most common severity\n",
    "\n",
    "Aviation_data.fillna({'Injury.Severity':most_injury_severity}, inplace=True)\n",
    "\n",
    "Aviation_data['Injury.Severity'].value_counts() # Getting the count of the unique values"
   ]
  },
  {
   "cell_type": "markdown",
   "metadata": {},
   "source": [
    "**Location Column**"
   ]
  },
  {
   "cell_type": "code",
   "execution_count": 126,
   "metadata": {
    "id": "ewi26KWy1N4F"
   },
   "outputs": [],
   "source": [
    "# Filling the missing values\n",
    "Aviation_data['Location'].fillna('Unknown',inplace=True)\n"
   ]
  },
  {
   "cell_type": "markdown",
   "metadata": {},
   "source": [
    "**Make Column**"
   ]
  },
  {
   "cell_type": "code",
   "execution_count": 127,
   "metadata": {
    "id": "1fUepyJ71N4F"
   },
   "outputs": [],
   "source": [
    "# Filling the missing values with unknown\n",
    "Aviation_data['Make'].fillna('Unknown', inplace=True)\n"
   ]
  },
  {
   "cell_type": "markdown",
   "metadata": {},
   "source": [
    "**Aircraft Category**"
   ]
  },
  {
   "cell_type": "code",
   "execution_count": 128,
   "metadata": {
    "colab": {
     "base_uri": "https://localhost:8080/"
    },
    "id": "cwz4keES1N4F",
    "outputId": "819fc18f-280b-490c-ca5b-545c63b63efc"
   },
   "outputs": [
    {
     "data": {
      "text/plain": [
       "array(['Airplane', 'Helicopter', 'Glider', 'Balloon', 'Gyrocraft',\n",
       "       'Ultralight', 'Unknown', 'Blimp', 'Powered-Lift', 'Weight-Shift',\n",
       "       'Powered Parachute', 'Rocket'], dtype=object)"
      ]
     },
     "execution_count": 128,
     "metadata": {},
     "output_type": "execute_result"
    }
   ],
   "source": [
    "# Finding the most common category\n",
    "most_common_cat=Aviation_data['Aircraft.Category'].mode()[0]\n",
    "\n",
    "# Filling the missing values with the most common value\n",
    "Aviation_data['Aircraft.Category'].fillna(most_common_cat, inplace=True)\n",
    "Aviation_data['Aircraft.Category'].unique()\n"
   ]
  },
  {
   "cell_type": "markdown",
   "metadata": {
    "id": "qjUjySsx1N4F"
   },
   "source": [
    "**Amateur Built**"
   ]
  },
  {
   "cell_type": "code",
   "execution_count": 129,
   "metadata": {
    "id": "6oSty4qV1N4F"
   },
   "outputs": [],
   "source": [
    "# Getting the most common response\n",
    "most_common_response= Aviation_data['Amateur.Built'].mode()[0]\n",
    "\n",
    "# Filling the values with the most common response\n",
    "Aviation_data.fillna({'Amateur.Built':most_common_response}, inplace=True)"
   ]
  },
  {
   "cell_type": "markdown",
   "metadata": {},
   "source": [
    "**Weather Condition**"
   ]
  },
  {
   "cell_type": "code",
   "execution_count": 130,
   "metadata": {
    "id": "Ih52JvZh1N4H"
   },
   "outputs": [],
   "source": [
    "# Most common weather condition\n",
    "most_common_weather=Aviation_data['Weather.Condition'].mode()[0]\n",
    "\n",
    "# Filling the missing values with the most common\n",
    "Aviation_data['Weather.Condition'].fillna(most_common_weather, inplace=True)\n"
   ]
  },
  {
   "cell_type": "markdown",
   "metadata": {},
   "source": [
    "**Purpose of Flight**"
   ]
  },
  {
   "cell_type": "code",
   "execution_count": 131,
   "metadata": {
    "colab": {
     "base_uri": "https://localhost:8080/",
     "height": 609
    },
    "id": "Jd510VMs1N4H",
    "outputId": "5ec455bf-7dd6-4370-9e07-fb2a3ff75583"
   },
   "outputs": [],
   "source": [
    "# Filling the missing values with the most common purpose\n",
    "common_purpose=Aviation_data['Purpose.of.flight'].mode()[0]\n",
    "\n",
    "# Fill the missing values with the most common purpose\n",
    "Aviation_data.fillna(common_purpose, inplace=True)\n"
   ]
  },
  {
   "cell_type": "markdown",
   "metadata": {
    "id": "stCMBDOf1N4G"
   },
   "source": [
    "**Total Uninjured Column**"
   ]
  },
  {
   "cell_type": "code",
   "execution_count": 132,
   "metadata": {
    "id": "nU7wF10t1N4G"
   },
   "outputs": [],
   "source": [
    "# Filling the NaN values with 0\n",
    "Aviation_data['Total.Uninjured'].fillna(0, inplace=True)"
   ]
  },
  {
   "cell_type": "markdown",
   "metadata": {
    "id": "ozmgefhh1N4G"
   },
   "source": [
    "**Total Fatal Injuries**"
   ]
  },
  {
   "cell_type": "code",
   "execution_count": 133,
   "metadata": {
    "id": "G_4exdZF1N4G"
   },
   "outputs": [],
   "source": [
    "# Fill missing values based on Injury Severity\n",
    "Aviation_data.loc[(Aviation_data['Injury.Severity'] == 'Fatal') &\n",
    "(Aviation_data['Total.Fatal.Injuries'].isnull()),\n",
    "    'Total.Fatal.Injuries'\n",
    "] = 1\n",
    "Aviation_data.loc[(Aviation_data['Injury.Severity'] == 'Non-Fatal') &\n",
    "(Aviation_data['Total.Fatal.Injuries'].isnull()),\n",
    "    'Total.Fatal.Injuries'\n",
    "] = 0\n",
    "Aviation_data.loc[(Aviation_data['Injury.Severity'] == 'Incident') &\n",
    "(Aviation_data['Total.Fatal.Injuries'].isnull()),\n",
    "    'Total.Fatal.Injuries'\n",
    "] = 0\n",
    "Aviation_data.loc[(Aviation_data['Injury.Severity'] == 'Minor') &\n",
    "(Aviation_data['Total.Fatal.Injuries'].isnull()),\n",
    "    'Total.Fatal.Injuries'\n",
    "] = 1\n",
    "Aviation_data.loc[(Aviation_data['Injury.Severity'] == 'Serious') &\n",
    "(Aviation_data['Total.Fatal.Injuries'].isnull()),\n",
    "    'Total.Fatal.Injuries'\n",
    "] = 1\n",
    "Aviation_data.loc[(Aviation_data['Injury.Severity'] == 'Unavailable') &\n",
    "(Aviation_data['Total.Fatal.Injuries'].isnull()),\n",
    "    'Total.Fatal.Injuries'\n",
    "] = 0\n"
   ]
  },
  {
   "cell_type": "markdown",
   "metadata": {},
   "source": [
    "**Total Serious Injuries Column**"
   ]
  },
  {
   "cell_type": "code",
   "execution_count": 134,
   "metadata": {
    "id": "xTmet8hT1N4G"
   },
   "outputs": [],
   "source": [
    "# Filling the missing values with 0\n",
    "Aviation_data['Total.Serious.Injuries'].fillna(0, inplace=True)"
   ]
  },
  {
   "cell_type": "markdown",
   "metadata": {},
   "source": [
    "**Total Minor Injuries**"
   ]
  },
  {
   "cell_type": "code",
   "execution_count": 135,
   "metadata": {
    "id": "SHlnlWBC1N4G"
   },
   "outputs": [],
   "source": [
    "# Filling the missing values with 0\n",
    "Aviation_data['Total.Minor.Injuries'].fillna(0,inplace=True)"
   ]
  },
  {
   "cell_type": "markdown",
   "metadata": {
    "id": "sPlUCh6z1N4H"
   },
   "source": [
    "#### Creating a Total Injuries Column\n",
    "This contains an aggregation of Total Fatal,Serious and Minor injuries"
   ]
  },
  {
   "cell_type": "code",
   "execution_count": 136,
   "metadata": {
    "colab": {
     "base_uri": "https://localhost:8080/",
     "height": 408
    },
    "id": "j4w0DR2n1N4H",
    "outputId": "1c16c3c7-6faa-4bca-d6bf-b2ed0b2e438e"
   },
   "outputs": [
    {
     "data": {
      "text/plain": [
       "0        2.0\n",
       "1        4.0\n",
       "2        NaN\n",
       "3        2.0\n",
       "4        NaN\n",
       "        ... \n",
       "88884    1.0\n",
       "88885    0.0\n",
       "88886    0.0\n",
       "88887    0.0\n",
       "88888    1.0\n",
       "Name: Total.Injuries, Length: 88889, dtype: float64"
      ]
     },
     "execution_count": 136,
     "metadata": {},
     "output_type": "execute_result"
    }
   ],
   "source": [
    "# Convert the columns to float64\n",
    "Aviation_data['Total.Minor.Injuries'] = pd.to_numeric(Aviation_data['Total.Minor.Injuries'], errors='coerce')\n",
    "Aviation_data['Total.Fatal.Injuries'] = pd.to_numeric(Aviation_data['Total.Fatal.Injuries'], errors='coerce')\n",
    "Aviation_data['Total.Serious.Injuries'] = pd.to_numeric(Aviation_data['Total.Serious.Injuries'], errors='coerce')\n",
    "\n",
    "# Creating a new column with Total recorded injuries\n",
    "Aviation_data['Total.Injuries']=(Aviation_data['Total.Fatal.Injuries']+Aviation_data['Total.Serious.Injuries']+\n",
    "                                    Aviation_data['Total.Minor.Injuries'])\n",
    "\n",
    "Aviation_data['Total.Injuries']"
   ]
  },
  {
   "cell_type": "markdown",
   "metadata": {
    "id": "6f-Lm4YS1N4H"
   },
   "source": [
    "Dropping the Total fatal,minor and serious injuries. The 'Total.Injuries' column will be used for analysis"
   ]
  },
  {
   "cell_type": "code",
   "execution_count": 137,
   "metadata": {
    "id": "Go9BJssp1N4H",
    "scrolled": false
   },
   "outputs": [],
   "source": [
    "# Dropping the Total fatal,minor and serious injuries\n",
    "Aviation_data.drop(columns=['Total.Minor.Injuries','Total.Fatal.Injuries','Total.Serious.Injuries'], inplace=True)"
   ]
  },
  {
   "cell_type": "code",
   "execution_count": 138,
   "metadata": {
    "id": "SHWMECGt1N4H"
   },
   "outputs": [
    {
     "data": {
      "text/plain": [
       "0        ID\n",
       "1        CA\n",
       "2        VA\n",
       "3        CA\n",
       "4        OH\n",
       "         ..\n",
       "88884    MD\n",
       "88885    NH\n",
       "88886    AZ\n",
       "88887    UT\n",
       "88888    GA\n",
       "Name: State, Length: 88889, dtype: object"
      ]
     },
     "execution_count": 138,
     "metadata": {},
     "output_type": "execute_result"
    }
   ],
   "source": [
    "# State column\n",
    "Aviation_data['State'].dropna() # Drop null rows"
   ]
  },
  {
   "cell_type": "markdown",
   "metadata": {
    "id": "QbJEdWTX1N4H"
   },
   "source": [
    "The research will be limited to United States. The following code filters data within the United States"
   ]
  },
  {
   "cell_type": "code",
   "execution_count": 139,
   "metadata": {
    "id": "DIWCYWYk1N4I"
   },
   "outputs": [
    {
     "data": {
      "text/html": [
       "<div>\n",
       "<style scoped>\n",
       "    .dataframe tbody tr th:only-of-type {\n",
       "        vertical-align: middle;\n",
       "    }\n",
       "\n",
       "    .dataframe tbody tr th {\n",
       "        vertical-align: top;\n",
       "    }\n",
       "\n",
       "    .dataframe thead th {\n",
       "        text-align: right;\n",
       "    }\n",
       "</style>\n",
       "<table border=\"1\" class=\"dataframe\">\n",
       "  <thead>\n",
       "    <tr style=\"text-align: right;\">\n",
       "      <th></th>\n",
       "      <th>Event.Id</th>\n",
       "      <th>Investigation.Type</th>\n",
       "      <th>Accident.Number</th>\n",
       "      <th>Location</th>\n",
       "      <th>Country</th>\n",
       "      <th>Injury.Severity</th>\n",
       "      <th>Aircraft.damage</th>\n",
       "      <th>Aircraft.Category</th>\n",
       "      <th>Make</th>\n",
       "      <th>Model</th>\n",
       "      <th>Amateur.Built</th>\n",
       "      <th>Number.of.Engines</th>\n",
       "      <th>Engine.Type</th>\n",
       "      <th>Purpose.of.flight</th>\n",
       "      <th>Total.Uninjured</th>\n",
       "      <th>Weather.Condition</th>\n",
       "      <th>Year</th>\n",
       "      <th>City</th>\n",
       "      <th>State</th>\n",
       "      <th>Total.Injuries</th>\n",
       "    </tr>\n",
       "  </thead>\n",
       "  <tbody>\n",
       "    <tr>\n",
       "      <th>0</th>\n",
       "      <td>20001218X45444</td>\n",
       "      <td>Accident</td>\n",
       "      <td>SEA87LA080</td>\n",
       "      <td>MOOSE CREEK, ID</td>\n",
       "      <td>United States</td>\n",
       "      <td>Fatal</td>\n",
       "      <td>Destroyed</td>\n",
       "      <td>Airplane</td>\n",
       "      <td>STINSON</td>\n",
       "      <td>108-3</td>\n",
       "      <td>No</td>\n",
       "      <td>1</td>\n",
       "      <td>Reciprocating</td>\n",
       "      <td>Personal</td>\n",
       "      <td>0</td>\n",
       "      <td>Unknown</td>\n",
       "      <td>1948</td>\n",
       "      <td>MOOSE CREEK</td>\n",
       "      <td>ID</td>\n",
       "      <td>2.0</td>\n",
       "    </tr>\n",
       "    <tr>\n",
       "      <th>1</th>\n",
       "      <td>20001218X45447</td>\n",
       "      <td>Accident</td>\n",
       "      <td>LAX94LA336</td>\n",
       "      <td>BRIDGEPORT, CA</td>\n",
       "      <td>United States</td>\n",
       "      <td>Fatal</td>\n",
       "      <td>Destroyed</td>\n",
       "      <td>Airplane</td>\n",
       "      <td>PIPER</td>\n",
       "      <td>PA24-180</td>\n",
       "      <td>No</td>\n",
       "      <td>1</td>\n",
       "      <td>Reciprocating</td>\n",
       "      <td>Personal</td>\n",
       "      <td>0</td>\n",
       "      <td>Unknown</td>\n",
       "      <td>1962</td>\n",
       "      <td>BRIDGEPORT</td>\n",
       "      <td>CA</td>\n",
       "      <td>4.0</td>\n",
       "    </tr>\n",
       "    <tr>\n",
       "      <th>2</th>\n",
       "      <td>20061025X01555</td>\n",
       "      <td>Accident</td>\n",
       "      <td>NYC07LA005</td>\n",
       "      <td>SALTVILLE, VA</td>\n",
       "      <td>United States</td>\n",
       "      <td>Fatal</td>\n",
       "      <td>Destroyed</td>\n",
       "      <td>Airplane</td>\n",
       "      <td>CESSNA</td>\n",
       "      <td>172M</td>\n",
       "      <td>No</td>\n",
       "      <td>1</td>\n",
       "      <td>Reciprocating</td>\n",
       "      <td>Personal</td>\n",
       "      <td>Personal</td>\n",
       "      <td>IMC</td>\n",
       "      <td>1974</td>\n",
       "      <td>SALTVILLE</td>\n",
       "      <td>VA</td>\n",
       "      <td>NaN</td>\n",
       "    </tr>\n",
       "    <tr>\n",
       "      <th>3</th>\n",
       "      <td>20001218X45448</td>\n",
       "      <td>Accident</td>\n",
       "      <td>LAX96LA321</td>\n",
       "      <td>EUREKA, CA</td>\n",
       "      <td>United States</td>\n",
       "      <td>Fatal</td>\n",
       "      <td>Destroyed</td>\n",
       "      <td>Airplane</td>\n",
       "      <td>ROCKWELL</td>\n",
       "      <td>112</td>\n",
       "      <td>No</td>\n",
       "      <td>1</td>\n",
       "      <td>Reciprocating</td>\n",
       "      <td>Personal</td>\n",
       "      <td>0</td>\n",
       "      <td>IMC</td>\n",
       "      <td>1977</td>\n",
       "      <td>EUREKA</td>\n",
       "      <td>CA</td>\n",
       "      <td>2.0</td>\n",
       "    </tr>\n",
       "    <tr>\n",
       "      <th>4</th>\n",
       "      <td>20041105X01764</td>\n",
       "      <td>Accident</td>\n",
       "      <td>CHI79FA064</td>\n",
       "      <td>CANTON, OH</td>\n",
       "      <td>United States</td>\n",
       "      <td>Fatal</td>\n",
       "      <td>Destroyed</td>\n",
       "      <td>Airplane</td>\n",
       "      <td>CESSNA</td>\n",
       "      <td>501</td>\n",
       "      <td>No</td>\n",
       "      <td>Personal</td>\n",
       "      <td>Personal</td>\n",
       "      <td>Personal</td>\n",
       "      <td>0</td>\n",
       "      <td>VMC</td>\n",
       "      <td>1979</td>\n",
       "      <td>CANTON</td>\n",
       "      <td>OH</td>\n",
       "      <td>NaN</td>\n",
       "    </tr>\n",
       "    <tr>\n",
       "      <th>...</th>\n",
       "      <td>...</td>\n",
       "      <td>...</td>\n",
       "      <td>...</td>\n",
       "      <td>...</td>\n",
       "      <td>...</td>\n",
       "      <td>...</td>\n",
       "      <td>...</td>\n",
       "      <td>...</td>\n",
       "      <td>...</td>\n",
       "      <td>...</td>\n",
       "      <td>...</td>\n",
       "      <td>...</td>\n",
       "      <td>...</td>\n",
       "      <td>...</td>\n",
       "      <td>...</td>\n",
       "      <td>...</td>\n",
       "      <td>...</td>\n",
       "      <td>...</td>\n",
       "      <td>...</td>\n",
       "      <td>...</td>\n",
       "    </tr>\n",
       "    <tr>\n",
       "      <th>88884</th>\n",
       "      <td>20221227106491</td>\n",
       "      <td>Accident</td>\n",
       "      <td>ERA23LA093</td>\n",
       "      <td>ANNAPOLIS, MD</td>\n",
       "      <td>United States</td>\n",
       "      <td>Minor</td>\n",
       "      <td>Personal</td>\n",
       "      <td>Airplane</td>\n",
       "      <td>PIPER</td>\n",
       "      <td>PA-28-151</td>\n",
       "      <td>No</td>\n",
       "      <td>Personal</td>\n",
       "      <td>Personal</td>\n",
       "      <td>Personal</td>\n",
       "      <td>0</td>\n",
       "      <td>VMC</td>\n",
       "      <td>2022</td>\n",
       "      <td>ANNAPOLIS</td>\n",
       "      <td>MD</td>\n",
       "      <td>1.0</td>\n",
       "    </tr>\n",
       "    <tr>\n",
       "      <th>88885</th>\n",
       "      <td>20221227106494</td>\n",
       "      <td>Accident</td>\n",
       "      <td>ERA23LA095</td>\n",
       "      <td>HAMPTON, NH</td>\n",
       "      <td>United States</td>\n",
       "      <td>Non-Fatal</td>\n",
       "      <td>Personal</td>\n",
       "      <td>Airplane</td>\n",
       "      <td>BELLANCA</td>\n",
       "      <td>7ECA</td>\n",
       "      <td>No</td>\n",
       "      <td>Personal</td>\n",
       "      <td>Personal</td>\n",
       "      <td>Personal</td>\n",
       "      <td>0</td>\n",
       "      <td>VMC</td>\n",
       "      <td>2022</td>\n",
       "      <td>HAMPTON</td>\n",
       "      <td>NH</td>\n",
       "      <td>0.0</td>\n",
       "    </tr>\n",
       "    <tr>\n",
       "      <th>88886</th>\n",
       "      <td>20221227106497</td>\n",
       "      <td>Accident</td>\n",
       "      <td>WPR23LA075</td>\n",
       "      <td>PAYSON, AZ</td>\n",
       "      <td>United States</td>\n",
       "      <td>Non-Fatal</td>\n",
       "      <td>Substantial</td>\n",
       "      <td>Airplane</td>\n",
       "      <td>AMERICAN</td>\n",
       "      <td>8GCBC</td>\n",
       "      <td>No</td>\n",
       "      <td>1</td>\n",
       "      <td>Personal</td>\n",
       "      <td>Personal</td>\n",
       "      <td>1</td>\n",
       "      <td>VMC</td>\n",
       "      <td>2022</td>\n",
       "      <td>PAYSON</td>\n",
       "      <td>AZ</td>\n",
       "      <td>0.0</td>\n",
       "    </tr>\n",
       "    <tr>\n",
       "      <th>88887</th>\n",
       "      <td>20221227106498</td>\n",
       "      <td>Accident</td>\n",
       "      <td>WPR23LA076</td>\n",
       "      <td>MORGAN, UT</td>\n",
       "      <td>United States</td>\n",
       "      <td>Non-Fatal</td>\n",
       "      <td>Personal</td>\n",
       "      <td>Airplane</td>\n",
       "      <td>CESSNA</td>\n",
       "      <td>210N</td>\n",
       "      <td>No</td>\n",
       "      <td>Personal</td>\n",
       "      <td>Personal</td>\n",
       "      <td>Personal</td>\n",
       "      <td>0</td>\n",
       "      <td>VMC</td>\n",
       "      <td>2022</td>\n",
       "      <td>MORGAN</td>\n",
       "      <td>UT</td>\n",
       "      <td>0.0</td>\n",
       "    </tr>\n",
       "    <tr>\n",
       "      <th>88888</th>\n",
       "      <td>20221230106513</td>\n",
       "      <td>Accident</td>\n",
       "      <td>ERA23LA097</td>\n",
       "      <td>ATHENS, GA</td>\n",
       "      <td>United States</td>\n",
       "      <td>Minor</td>\n",
       "      <td>Personal</td>\n",
       "      <td>Airplane</td>\n",
       "      <td>PIPER</td>\n",
       "      <td>PA-24-260</td>\n",
       "      <td>No</td>\n",
       "      <td>Personal</td>\n",
       "      <td>Personal</td>\n",
       "      <td>Personal</td>\n",
       "      <td>1</td>\n",
       "      <td>VMC</td>\n",
       "      <td>2022</td>\n",
       "      <td>ATHENS</td>\n",
       "      <td>GA</td>\n",
       "      <td>1.0</td>\n",
       "    </tr>\n",
       "  </tbody>\n",
       "</table>\n",
       "<p>79906 rows × 20 columns</p>\n",
       "</div>"
      ],
      "text/plain": [
       "             Event.Id Investigation.Type Accident.Number         Location  \\\n",
       "0      20001218X45444           Accident      SEA87LA080  MOOSE CREEK, ID   \n",
       "1      20001218X45447           Accident      LAX94LA336   BRIDGEPORT, CA   \n",
       "2      20061025X01555           Accident      NYC07LA005    SALTVILLE, VA   \n",
       "3      20001218X45448           Accident      LAX96LA321       EUREKA, CA   \n",
       "4      20041105X01764           Accident      CHI79FA064       CANTON, OH   \n",
       "...               ...                ...             ...              ...   \n",
       "88884  20221227106491           Accident      ERA23LA093    ANNAPOLIS, MD   \n",
       "88885  20221227106494           Accident      ERA23LA095      HAMPTON, NH   \n",
       "88886  20221227106497           Accident      WPR23LA075       PAYSON, AZ   \n",
       "88887  20221227106498           Accident      WPR23LA076       MORGAN, UT   \n",
       "88888  20221230106513           Accident      ERA23LA097       ATHENS, GA   \n",
       "\n",
       "             Country Injury.Severity Aircraft.damage Aircraft.Category  \\\n",
       "0      United States           Fatal       Destroyed          Airplane   \n",
       "1      United States           Fatal       Destroyed          Airplane   \n",
       "2      United States           Fatal       Destroyed          Airplane   \n",
       "3      United States           Fatal       Destroyed          Airplane   \n",
       "4      United States           Fatal       Destroyed          Airplane   \n",
       "...              ...             ...             ...               ...   \n",
       "88884  United States           Minor        Personal          Airplane   \n",
       "88885  United States       Non-Fatal        Personal          Airplane   \n",
       "88886  United States       Non-Fatal     Substantial          Airplane   \n",
       "88887  United States       Non-Fatal        Personal          Airplane   \n",
       "88888  United States           Minor        Personal          Airplane   \n",
       "\n",
       "           Make      Model Amateur.Built Number.of.Engines    Engine.Type  \\\n",
       "0       STINSON      108-3            No                 1  Reciprocating   \n",
       "1         PIPER   PA24-180            No                 1  Reciprocating   \n",
       "2        CESSNA       172M            No                 1  Reciprocating   \n",
       "3      ROCKWELL        112            No                 1  Reciprocating   \n",
       "4        CESSNA        501            No          Personal       Personal   \n",
       "...         ...        ...           ...               ...            ...   \n",
       "88884     PIPER  PA-28-151            No          Personal       Personal   \n",
       "88885  BELLANCA       7ECA            No          Personal       Personal   \n",
       "88886  AMERICAN      8GCBC            No                 1       Personal   \n",
       "88887    CESSNA       210N            No          Personal       Personal   \n",
       "88888     PIPER  PA-24-260            No          Personal       Personal   \n",
       "\n",
       "      Purpose.of.flight Total.Uninjured Weather.Condition  Year         City  \\\n",
       "0              Personal               0           Unknown  1948  MOOSE CREEK   \n",
       "1              Personal               0           Unknown  1962   BRIDGEPORT   \n",
       "2              Personal        Personal               IMC  1974    SALTVILLE   \n",
       "3              Personal               0               IMC  1977       EUREKA   \n",
       "4              Personal               0               VMC  1979       CANTON   \n",
       "...                 ...             ...               ...   ...          ...   \n",
       "88884          Personal               0               VMC  2022    ANNAPOLIS   \n",
       "88885          Personal               0               VMC  2022      HAMPTON   \n",
       "88886          Personal               1               VMC  2022       PAYSON   \n",
       "88887          Personal               0               VMC  2022       MORGAN   \n",
       "88888          Personal               1               VMC  2022       ATHENS   \n",
       "\n",
       "      State  Total.Injuries  \n",
       "0        ID             2.0  \n",
       "1        CA             4.0  \n",
       "2        VA             NaN  \n",
       "3        CA             2.0  \n",
       "4        OH             NaN  \n",
       "...     ...             ...  \n",
       "88884    MD             1.0  \n",
       "88885    NH             0.0  \n",
       "88886    AZ             0.0  \n",
       "88887    UT             0.0  \n",
       "88888    GA             1.0  \n",
       "\n",
       "[79906 rows x 20 columns]"
      ]
     },
     "execution_count": 139,
     "metadata": {},
     "output_type": "execute_result"
    }
   ],
   "source": [
    "# Country column\n",
    "Aviation_data = Aviation_data[(Aviation_data['Country'] == 'United States')& (Aviation_data['Investigation.Type']=='Accident')]\n",
    "Aviation_data\n"
   ]
  },
  {
   "cell_type": "markdown",
   "metadata": {
    "id": "p940waN51N4I"
   },
   "source": [
    "## Visualizations"
   ]
  },
  {
   "cell_type": "markdown",
   "metadata": {
    "id": "sZmYzx7E1N4I"
   },
   "source": [
    "### 1. Which aircraft makes are associated with the fewest total injuries in recorded accidents?\n",
    " * Which makes of aircrafts are most common?\n",
    " * Among the common makes, which category is most common?\n",
    " * Among the common makes, which ones have the lowest accident rates?\n"
   ]
  },
  {
   "cell_type": "markdown",
   "metadata": {
    "id": "mUjxPiYZ1N4I"
   },
   "source": [
    "**Most Common Makes**"
   ]
  },
  {
   "cell_type": "code",
   "execution_count": 140,
   "metadata": {
    "id": "_yqpVCJR1N4I"
   },
   "outputs": [
    {
     "data": {
      "text/plain": [
       "['CESSNA',\n",
       " 'PIPER',\n",
       " 'BEECH',\n",
       " 'BELL',\n",
       " 'GRUMMAN',\n",
       " 'ROBINSON',\n",
       " 'MOONEY',\n",
       " 'BELLANCA',\n",
       " 'BOEING',\n",
       " 'AIR']"
      ]
     },
     "execution_count": 140,
     "metadata": {},
     "output_type": "execute_result"
    }
   ],
   "source": [
    "# Most common aircrafts\n",
    "# Extracting the sum of the unique values and sorting them in ascending order\n",
    "top_10_makes=Aviation_data['Make'].value_counts().sort_values(ascending=False)[:10] # Selecting the 10 most common makes\n",
    "top_10_makes_list=top_10_makes.index.to_list() # Converting the dataframe into a list\n",
    "top_10_makes_list\n",
    "\n"
   ]
  },
  {
   "cell_type": "code",
   "execution_count": 141,
   "metadata": {},
   "outputs": [
    {
     "data": {
      "text/html": [
       "<div>\n",
       "<style scoped>\n",
       "    .dataframe tbody tr th:only-of-type {\n",
       "        vertical-align: middle;\n",
       "    }\n",
       "\n",
       "    .dataframe tbody tr th {\n",
       "        vertical-align: top;\n",
       "    }\n",
       "\n",
       "    .dataframe thead th {\n",
       "        text-align: right;\n",
       "    }\n",
       "</style>\n",
       "<table border=\"1\" class=\"dataframe\">\n",
       "  <thead>\n",
       "    <tr style=\"text-align: right;\">\n",
       "      <th></th>\n",
       "      <th>Event.Id</th>\n",
       "      <th>Investigation.Type</th>\n",
       "      <th>Accident.Number</th>\n",
       "      <th>Location</th>\n",
       "      <th>Country</th>\n",
       "      <th>Injury.Severity</th>\n",
       "      <th>Aircraft.damage</th>\n",
       "      <th>Aircraft.Category</th>\n",
       "      <th>Make</th>\n",
       "      <th>Model</th>\n",
       "      <th>Amateur.Built</th>\n",
       "      <th>Number.of.Engines</th>\n",
       "      <th>Engine.Type</th>\n",
       "      <th>Purpose.of.flight</th>\n",
       "      <th>Total.Uninjured</th>\n",
       "      <th>Weather.Condition</th>\n",
       "      <th>Year</th>\n",
       "      <th>City</th>\n",
       "      <th>State</th>\n",
       "      <th>Total.Injuries</th>\n",
       "    </tr>\n",
       "  </thead>\n",
       "  <tbody>\n",
       "    <tr>\n",
       "      <th>1</th>\n",
       "      <td>20001218X45447</td>\n",
       "      <td>Accident</td>\n",
       "      <td>LAX94LA336</td>\n",
       "      <td>BRIDGEPORT, CA</td>\n",
       "      <td>United States</td>\n",
       "      <td>Fatal</td>\n",
       "      <td>Destroyed</td>\n",
       "      <td>Airplane</td>\n",
       "      <td>PIPER</td>\n",
       "      <td>PA24-180</td>\n",
       "      <td>No</td>\n",
       "      <td>1</td>\n",
       "      <td>Reciprocating</td>\n",
       "      <td>Personal</td>\n",
       "      <td>0</td>\n",
       "      <td>Unknown</td>\n",
       "      <td>1962</td>\n",
       "      <td>BRIDGEPORT</td>\n",
       "      <td>CA</td>\n",
       "      <td>4.0</td>\n",
       "    </tr>\n",
       "    <tr>\n",
       "      <th>2</th>\n",
       "      <td>20061025X01555</td>\n",
       "      <td>Accident</td>\n",
       "      <td>NYC07LA005</td>\n",
       "      <td>SALTVILLE, VA</td>\n",
       "      <td>United States</td>\n",
       "      <td>Fatal</td>\n",
       "      <td>Destroyed</td>\n",
       "      <td>Airplane</td>\n",
       "      <td>CESSNA</td>\n",
       "      <td>172M</td>\n",
       "      <td>No</td>\n",
       "      <td>1</td>\n",
       "      <td>Reciprocating</td>\n",
       "      <td>Personal</td>\n",
       "      <td>Personal</td>\n",
       "      <td>IMC</td>\n",
       "      <td>1974</td>\n",
       "      <td>SALTVILLE</td>\n",
       "      <td>VA</td>\n",
       "      <td>NaN</td>\n",
       "    </tr>\n",
       "    <tr>\n",
       "      <th>4</th>\n",
       "      <td>20041105X01764</td>\n",
       "      <td>Accident</td>\n",
       "      <td>CHI79FA064</td>\n",
       "      <td>CANTON, OH</td>\n",
       "      <td>United States</td>\n",
       "      <td>Fatal</td>\n",
       "      <td>Destroyed</td>\n",
       "      <td>Airplane</td>\n",
       "      <td>CESSNA</td>\n",
       "      <td>501</td>\n",
       "      <td>No</td>\n",
       "      <td>Personal</td>\n",
       "      <td>Personal</td>\n",
       "      <td>Personal</td>\n",
       "      <td>0</td>\n",
       "      <td>VMC</td>\n",
       "      <td>1979</td>\n",
       "      <td>CANTON</td>\n",
       "      <td>OH</td>\n",
       "      <td>NaN</td>\n",
       "    </tr>\n",
       "    <tr>\n",
       "      <th>6</th>\n",
       "      <td>20001218X45446</td>\n",
       "      <td>Accident</td>\n",
       "      <td>CHI81LA106</td>\n",
       "      <td>COTTON, MN</td>\n",
       "      <td>United States</td>\n",
       "      <td>Fatal</td>\n",
       "      <td>Destroyed</td>\n",
       "      <td>Airplane</td>\n",
       "      <td>CESSNA</td>\n",
       "      <td>180</td>\n",
       "      <td>No</td>\n",
       "      <td>1</td>\n",
       "      <td>Reciprocating</td>\n",
       "      <td>Personal</td>\n",
       "      <td>0</td>\n",
       "      <td>IMC</td>\n",
       "      <td>1981</td>\n",
       "      <td>COTTON</td>\n",
       "      <td>MN</td>\n",
       "      <td>4.0</td>\n",
       "    </tr>\n",
       "    <tr>\n",
       "      <th>7</th>\n",
       "      <td>20020909X01562</td>\n",
       "      <td>Accident</td>\n",
       "      <td>SEA82DA022</td>\n",
       "      <td>PULLMAN, WA</td>\n",
       "      <td>United States</td>\n",
       "      <td>Non-Fatal</td>\n",
       "      <td>Substantial</td>\n",
       "      <td>Airplane</td>\n",
       "      <td>CESSNA</td>\n",
       "      <td>140</td>\n",
       "      <td>No</td>\n",
       "      <td>1</td>\n",
       "      <td>Reciprocating</td>\n",
       "      <td>Personal</td>\n",
       "      <td>2</td>\n",
       "      <td>VMC</td>\n",
       "      <td>1982</td>\n",
       "      <td>PULLMAN</td>\n",
       "      <td>WA</td>\n",
       "      <td>0.0</td>\n",
       "    </tr>\n",
       "    <tr>\n",
       "      <th>...</th>\n",
       "      <td>...</td>\n",
       "      <td>...</td>\n",
       "      <td>...</td>\n",
       "      <td>...</td>\n",
       "      <td>...</td>\n",
       "      <td>...</td>\n",
       "      <td>...</td>\n",
       "      <td>...</td>\n",
       "      <td>...</td>\n",
       "      <td>...</td>\n",
       "      <td>...</td>\n",
       "      <td>...</td>\n",
       "      <td>...</td>\n",
       "      <td>...</td>\n",
       "      <td>...</td>\n",
       "      <td>...</td>\n",
       "      <td>...</td>\n",
       "      <td>...</td>\n",
       "      <td>...</td>\n",
       "      <td>...</td>\n",
       "    </tr>\n",
       "    <tr>\n",
       "      <th>88882</th>\n",
       "      <td>20221222106486</td>\n",
       "      <td>Accident</td>\n",
       "      <td>CEN23LA068</td>\n",
       "      <td>RESERVE, LA</td>\n",
       "      <td>United States</td>\n",
       "      <td>Minor</td>\n",
       "      <td>Personal</td>\n",
       "      <td>Airplane</td>\n",
       "      <td>GRUMMAN</td>\n",
       "      <td>AA-5B</td>\n",
       "      <td>No</td>\n",
       "      <td>Personal</td>\n",
       "      <td>Personal</td>\n",
       "      <td>Instructional</td>\n",
       "      <td>1</td>\n",
       "      <td>VMC</td>\n",
       "      <td>2022</td>\n",
       "      <td>RESERVE</td>\n",
       "      <td>LA</td>\n",
       "      <td>1.0</td>\n",
       "    </tr>\n",
       "    <tr>\n",
       "      <th>88884</th>\n",
       "      <td>20221227106491</td>\n",
       "      <td>Accident</td>\n",
       "      <td>ERA23LA093</td>\n",
       "      <td>ANNAPOLIS, MD</td>\n",
       "      <td>United States</td>\n",
       "      <td>Minor</td>\n",
       "      <td>Personal</td>\n",
       "      <td>Airplane</td>\n",
       "      <td>PIPER</td>\n",
       "      <td>PA-28-151</td>\n",
       "      <td>No</td>\n",
       "      <td>Personal</td>\n",
       "      <td>Personal</td>\n",
       "      <td>Personal</td>\n",
       "      <td>0</td>\n",
       "      <td>VMC</td>\n",
       "      <td>2022</td>\n",
       "      <td>ANNAPOLIS</td>\n",
       "      <td>MD</td>\n",
       "      <td>1.0</td>\n",
       "    </tr>\n",
       "    <tr>\n",
       "      <th>88885</th>\n",
       "      <td>20221227106494</td>\n",
       "      <td>Accident</td>\n",
       "      <td>ERA23LA095</td>\n",
       "      <td>HAMPTON, NH</td>\n",
       "      <td>United States</td>\n",
       "      <td>Non-Fatal</td>\n",
       "      <td>Personal</td>\n",
       "      <td>Airplane</td>\n",
       "      <td>BELLANCA</td>\n",
       "      <td>7ECA</td>\n",
       "      <td>No</td>\n",
       "      <td>Personal</td>\n",
       "      <td>Personal</td>\n",
       "      <td>Personal</td>\n",
       "      <td>0</td>\n",
       "      <td>VMC</td>\n",
       "      <td>2022</td>\n",
       "      <td>HAMPTON</td>\n",
       "      <td>NH</td>\n",
       "      <td>0.0</td>\n",
       "    </tr>\n",
       "    <tr>\n",
       "      <th>88887</th>\n",
       "      <td>20221227106498</td>\n",
       "      <td>Accident</td>\n",
       "      <td>WPR23LA076</td>\n",
       "      <td>MORGAN, UT</td>\n",
       "      <td>United States</td>\n",
       "      <td>Non-Fatal</td>\n",
       "      <td>Personal</td>\n",
       "      <td>Airplane</td>\n",
       "      <td>CESSNA</td>\n",
       "      <td>210N</td>\n",
       "      <td>No</td>\n",
       "      <td>Personal</td>\n",
       "      <td>Personal</td>\n",
       "      <td>Personal</td>\n",
       "      <td>0</td>\n",
       "      <td>VMC</td>\n",
       "      <td>2022</td>\n",
       "      <td>MORGAN</td>\n",
       "      <td>UT</td>\n",
       "      <td>0.0</td>\n",
       "    </tr>\n",
       "    <tr>\n",
       "      <th>88888</th>\n",
       "      <td>20221230106513</td>\n",
       "      <td>Accident</td>\n",
       "      <td>ERA23LA097</td>\n",
       "      <td>ATHENS, GA</td>\n",
       "      <td>United States</td>\n",
       "      <td>Minor</td>\n",
       "      <td>Personal</td>\n",
       "      <td>Airplane</td>\n",
       "      <td>PIPER</td>\n",
       "      <td>PA-24-260</td>\n",
       "      <td>No</td>\n",
       "      <td>Personal</td>\n",
       "      <td>Personal</td>\n",
       "      <td>Personal</td>\n",
       "      <td>1</td>\n",
       "      <td>VMC</td>\n",
       "      <td>2022</td>\n",
       "      <td>ATHENS</td>\n",
       "      <td>GA</td>\n",
       "      <td>1.0</td>\n",
       "    </tr>\n",
       "  </tbody>\n",
       "</table>\n",
       "<p>53916 rows × 20 columns</p>\n",
       "</div>"
      ],
      "text/plain": [
       "             Event.Id Investigation.Type Accident.Number        Location  \\\n",
       "1      20001218X45447           Accident      LAX94LA336  BRIDGEPORT, CA   \n",
       "2      20061025X01555           Accident      NYC07LA005   SALTVILLE, VA   \n",
       "4      20041105X01764           Accident      CHI79FA064      CANTON, OH   \n",
       "6      20001218X45446           Accident      CHI81LA106      COTTON, MN   \n",
       "7      20020909X01562           Accident      SEA82DA022     PULLMAN, WA   \n",
       "...               ...                ...             ...             ...   \n",
       "88882  20221222106486           Accident      CEN23LA068     RESERVE, LA   \n",
       "88884  20221227106491           Accident      ERA23LA093   ANNAPOLIS, MD   \n",
       "88885  20221227106494           Accident      ERA23LA095     HAMPTON, NH   \n",
       "88887  20221227106498           Accident      WPR23LA076      MORGAN, UT   \n",
       "88888  20221230106513           Accident      ERA23LA097      ATHENS, GA   \n",
       "\n",
       "             Country Injury.Severity Aircraft.damage Aircraft.Category  \\\n",
       "1      United States           Fatal       Destroyed          Airplane   \n",
       "2      United States           Fatal       Destroyed          Airplane   \n",
       "4      United States           Fatal       Destroyed          Airplane   \n",
       "6      United States           Fatal       Destroyed          Airplane   \n",
       "7      United States       Non-Fatal     Substantial          Airplane   \n",
       "...              ...             ...             ...               ...   \n",
       "88882  United States           Minor        Personal          Airplane   \n",
       "88884  United States           Minor        Personal          Airplane   \n",
       "88885  United States       Non-Fatal        Personal          Airplane   \n",
       "88887  United States       Non-Fatal        Personal          Airplane   \n",
       "88888  United States           Minor        Personal          Airplane   \n",
       "\n",
       "           Make      Model Amateur.Built Number.of.Engines    Engine.Type  \\\n",
       "1         PIPER   PA24-180            No                 1  Reciprocating   \n",
       "2        CESSNA       172M            No                 1  Reciprocating   \n",
       "4        CESSNA        501            No          Personal       Personal   \n",
       "6        CESSNA        180            No                 1  Reciprocating   \n",
       "7        CESSNA        140            No                 1  Reciprocating   \n",
       "...         ...        ...           ...               ...            ...   \n",
       "88882   GRUMMAN      AA-5B            No          Personal       Personal   \n",
       "88884     PIPER  PA-28-151            No          Personal       Personal   \n",
       "88885  BELLANCA       7ECA            No          Personal       Personal   \n",
       "88887    CESSNA       210N            No          Personal       Personal   \n",
       "88888     PIPER  PA-24-260            No          Personal       Personal   \n",
       "\n",
       "      Purpose.of.flight Total.Uninjured Weather.Condition  Year        City  \\\n",
       "1              Personal               0           Unknown  1962  BRIDGEPORT   \n",
       "2              Personal        Personal               IMC  1974   SALTVILLE   \n",
       "4              Personal               0               VMC  1979      CANTON   \n",
       "6              Personal               0               IMC  1981      COTTON   \n",
       "7              Personal               2               VMC  1982     PULLMAN   \n",
       "...                 ...             ...               ...   ...         ...   \n",
       "88882     Instructional               1               VMC  2022     RESERVE   \n",
       "88884          Personal               0               VMC  2022   ANNAPOLIS   \n",
       "88885          Personal               0               VMC  2022     HAMPTON   \n",
       "88887          Personal               0               VMC  2022      MORGAN   \n",
       "88888          Personal               1               VMC  2022      ATHENS   \n",
       "\n",
       "      State  Total.Injuries  \n",
       "1        CA             4.0  \n",
       "2        VA             NaN  \n",
       "4        OH             NaN  \n",
       "6        MN             4.0  \n",
       "7        WA             0.0  \n",
       "...     ...             ...  \n",
       "88882    LA             1.0  \n",
       "88884    MD             1.0  \n",
       "88885    NH             0.0  \n",
       "88887    UT             0.0  \n",
       "88888    GA             1.0  \n",
       "\n",
       "[53916 rows x 20 columns]"
      ]
     },
     "execution_count": 141,
     "metadata": {},
     "output_type": "execute_result"
    }
   ],
   "source": [
    "filtered_Aviation_data_df = Aviation_data[Aviation_data['Make'].isin(top_10_makes_list)]\n",
    "filtered_Aviation_data_df"
   ]
  },
  {
   "cell_type": "code",
   "execution_count": 142,
   "metadata": {
    "id": "yYW2W1bZ1N4I"
   },
   "outputs": [
    {
     "data": {
      "image/png": "[encoded data removed]",
      "text/plain": [
       "<Figure size 720x432 with 1 Axes>"
      ]
     },
     "metadata": {
      "needs_background": "light"
     },
     "output_type": "display_data"
    }
   ],
   "source": [
    "# Plotting the data\n",
    "fig, ax = plt.subplots(figsize=(10, 6))\n",
    "\n",
    "# Random Colors to use in plotting\n",
    "colors = np.random.rand(len(top_10_makes_list), 3)\n",
    "\n",
    "# Create the bar plot\n",
    "ax.bar(top_10_makes_list,top_10_makes, color=colors)\n",
    "\n",
    "# Add labels and title\n",
    "ax.set_xlabel('Aircraft Makes', fontsize=12)\n",
    "ax.set_ylabel('Number of Occurrences', fontsize=12)\n",
    "ax.set_title('Top 10 Most Common Aircraft Makes', fontsize=15)\n",
    "\n",
    "# Rotate the x-axis labels for readability\n",
    "plt.xticks(rotation=45, ha='right')\n",
    "\n",
    "# Adjust layout to prevent label cutoff\n",
    "fig.tight_layout()\n",
    "\n",
    "# Show the plot\n",
    "plt.show()"
   ]
  },
  {
   "cell_type": "markdown",
   "metadata": {},
   "source": [
    "**Observation**\n",
    "* The top 10 most common aircraft makes involved in accidents are: Cessna, Piper, Beech, Bell, Grumman, Robinson, Mooney, Bellanca, Boeing and Air\n"
   ]
  },
  {
   "cell_type": "markdown",
   "metadata": {},
   "source": [
    "**Total Injuries by Make**"
   ]
  },
  {
   "cell_type": "code",
   "execution_count": 143,
   "metadata": {},
   "outputs": [
    {
     "data": {
      "text/plain": [
       "Make\n",
       "AIR           332.0\n",
       "BELLANCA      686.0\n",
       "ROBINSON      749.0\n",
       "GRUMMAN       766.0\n",
       "MOONEY       1089.0\n",
       "BELL         2022.0\n",
       "BOEING       2787.0\n",
       "BEECH        4513.0\n",
       "PIPER       10574.0\n",
       "CESSNA      15746.0\n",
       "Name: Total.Injuries, dtype: float64"
      ]
     },
     "execution_count": 143,
     "metadata": {},
     "output_type": "execute_result"
    }
   ],
   "source": [
    "# Grouping dataframe by Make and summing the Total injuries in the grouped data\n",
    "injuries_by_make = filtered_Aviation_data_df.groupby('Make')['Total.Injuries'].sum()\n",
    "\n",
    "# Filter the df to inlcude only the aircraft makes present in top_10_makes_list\n",
    "filtered_injuries = injuries_by_make[top_10_makes_list].sort_values()\n",
    "\n",
    "# Print the filtered dataframe\n",
    "filtered_injuries\n"
   ]
  },
  {
   "cell_type": "code",
   "execution_count": 144,
   "metadata": {},
   "outputs": [
    {
     "data": {
      "image/png": "[encoded data removed]",
      "text/plain": [
       "<Figure size 720x432 with 1 Axes>"
      ]
     },
     "metadata": {
      "needs_background": "light"
     },
     "output_type": "display_data"
    }
   ],
   "source": [
    "# Plotting Aircraft make and their injuries\n",
    "# Plot the figure\n",
    "fig, ax=plt.subplots(figsize=(10,6))\n",
    "\n",
    "# Bar plot\n",
    "ax.bar(top_10_makes_list,filtered_injuries, color=colors)\n",
    "\n",
    "# Set the x-axis label and title\n",
    "ax.set_xlabel('Top 10 Aircraft Makes')\n",
    "ax.set_ylabel('Number of Injuries')\n",
    "ax.set_title('Aircraft Make Versus Total Injuries')\n",
    "\n",
    "# Rotating the x-axis labels for readability\n",
    "plt.xticks(rotation=45, ha='right')\n",
    "\n",
    "# Adjust the layout\n",
    "fig.tight_layout()\n",
    "\n",
    "#Show the plot\n",
    "plt.show()"
   ]
  },
  {
   "cell_type": "markdown",
   "metadata": {},
   "source": [
    "**Observation**\n",
    "* CESSNA has the highest number of accidents but also a high number of aircraft in operation, which could skew the perception of risk.\n",
    "\n",
    "* GRUMMAN, ROBINSON, BELLANCA, MOONEY and AIR have lower total injuries, indicating potentially safer records."
   ]
  },
  {
   "cell_type": "code",
   "execution_count": 145,
   "metadata": {},
   "outputs": [
    {
     "data": {
      "text/plain": [
       "['AIR', 'BELLANCA', 'ROBINSON', 'GRUMMAN', 'MOONEY']"
      ]
     },
     "execution_count": 145,
     "metadata": {},
     "output_type": "execute_result"
    }
   ],
   "source": [
    "# Top 5 aircraft makes with lower injuries\n",
    "aircraft_makes = filtered_injuries.index.tolist()[:5]\n",
    "low_injury_makes=filtered_injuries.sort_values()[0:5]\n",
    "low_injury_makes\n",
    "aircraft_makes"
   ]
  },
  {
   "cell_type": "code",
   "execution_count": 146,
   "metadata": {},
   "outputs": [
    {
     "data": {
      "image/png": "[encoded data removed]",
      "text/plain": [
       "<Figure size 720x432 with 1 Axes>"
      ]
     },
     "metadata": {
      "needs_background": "light"
     },
     "output_type": "display_data"
    }
   ],
   "source": [
    "# Plot the figure\n",
    "fig, ax=plt.subplots(figsize=(10,6))\n",
    "\n",
    "# Bar plot\n",
    "ax.bar(aircraft_makes,low_injury_makes, color=colors)\n",
    "\n",
    "# Set the x-axis label and title\n",
    "ax.set_xlabel('Low Injury Aircraft Makes')\n",
    "ax.set_ylabel('Number of Injuries')\n",
    "ax.set_title('Aircraft Makes with Lower injuries')\n",
    "\n",
    "# Rotating the x-axis labels for readability\n",
    "plt.xticks(rotation=45, ha='right')\n",
    "\n",
    "# Adjust the layout\n",
    "fig.tight_layout()\n",
    "\n",
    "#Show the plot\n",
    "plt.show()"
   ]
  },
  {
   "cell_type": "markdown",
   "metadata": {},
   "source": [
    "**Most Common Category**"
   ]
  },
  {
   "cell_type": "code",
   "execution_count": 147,
   "metadata": {
    "id": "BEglW7HH1N4J"
   },
   "outputs": [
    {
     "data": {
      "text/plain": [
       "array([nan, 'Airplane', 'Helicopter', 'Glider', 'Balloon', 'Gyrocraft',\n",
       "       'Ultralight', 'Unknown', 'Blimp', 'Powered-Lift', 'Weight-Shift',\n",
       "       'Powered Parachute', 'Rocket', 'WSFT', 'UNK', 'ULTR'], dtype=object)"
      ]
     },
     "execution_count": 147,
     "metadata": {},
     "output_type": "execute_result"
    }
   ],
   "source": [
    "Aviation_data_df['Aircraft.Category'].unique()"
   ]
  },
  {
   "cell_type": "code",
   "execution_count": 148,
   "metadata": {
    "id": "5TCVa_Xt1N4J"
   },
   "outputs": [
    {
     "data": {
      "text/plain": [
       "['Airplane',\n",
       " 'Helicopter',\n",
       " 'Glider',\n",
       " 'Balloon',\n",
       " 'Gyrocraft',\n",
       " 'Weight-Shift',\n",
       " 'Powered Parachute',\n",
       " 'Ultralight',\n",
       " 'Unknown',\n",
       " 'WSFT']"
      ]
     },
     "execution_count": 148,
     "metadata": {},
     "output_type": "execute_result"
    }
   ],
   "source": [
    "# Top 10 categories \n",
    "top_10_categories=Aviation_data_df['Aircraft.Category'].value_counts().sort_values(ascending=False)[:10] # Selecting the 10 categories\n",
    "top_10_categories_list=top_10_categories.index.to_list() # Converting the dataframe into a list\n",
    "top_10_categories_list"
   ]
  },
  {
   "cell_type": "code",
   "execution_count": 149,
   "metadata": {},
   "outputs": [
    {
     "data": {
      "image/png": "[encoded data removed]",
      "text/plain": [
       "<Figure size 720x432 with 1 Axes>"
      ]
     },
     "metadata": {
      "needs_background": "light"
     },
     "output_type": "display_data"
    }
   ],
   "source": [
    "# Plot the figure\n",
    "fig, ax=plt.subplots(figsize=(10,6))\n",
    "\n",
    "# Plot the bar plot\n",
    "ax.scatter(top_10_categories_list,top_10_categories, color=colors)\n",
    "\n",
    "# Set labels and Title\n",
    "ax.set_xlabel('Aircraft Categories', fontsize=12)\n",
    "ax.set_ylabel('Number of Occurrences', fontsize=12)\n",
    "ax.set_title('Top 10 Most Common Aircraft Categories', fontsize=15)\n",
    "\n",
    "# Rotate the x-axis labels for readability\n",
    "plt.xticks(rotation=45, ha='right')\n",
    "\n",
    "# Adjust layout to prevent label cutoff\n",
    "fig.tight_layout()\n",
    "\n",
    "# Show the plot\n",
    "plt.show()"
   ]
  },
  {
   "cell_type": "markdown",
   "metadata": {},
   "source": [
    "**Observation**\n",
    ">Airplanes are the most common aircraft category involved in accidents.\n"
   ]
  },
  {
   "cell_type": "code",
   "execution_count": 150,
   "metadata": {},
   "outputs": [
    {
     "data": {
      "text/plain": [
       "Make      Aircraft.Category\n",
       "CESSNA    Airplane             25604\n",
       "PIPER     Airplane             14040\n",
       "BEECH     Airplane              4892\n",
       "BELL      Airplane              1585\n",
       "GRUMMAN   Airplane              1474\n",
       "MOONEY    Airplane              1320\n",
       "BELLANCA  Airplane              1038\n",
       "BOEING    Airplane               989\n",
       "AIR       Airplane               910\n",
       "ROBINSON  Helicopter             739\n",
       "Name: Aircraft.Category, dtype: int64"
      ]
     },
     "execution_count": 150,
     "metadata": {},
     "output_type": "execute_result"
    }
   ],
   "source": [
    "# Aircraft Category by make\n",
    "\n",
    "top_10_categories_make=filtered_Aviation_data_df.groupby('Make')['Aircraft.Category'].value_counts().sort_values(ascending=False)[:10] # Selecting the 10 categories\n",
    "top_10_categories_make"
   ]
  },
  {
   "cell_type": "code",
   "execution_count": 151,
   "metadata": {},
   "outputs": [
    {
     "data": {
      "text/plain": [
       "Text(0.5, 1.0, 'Top 10 Aircraft Categories by Make')"
      ]
     },
     "execution_count": 151,
     "metadata": {},
     "output_type": "execute_result"
    },
    {
     "data": {
      "image/png": "[encoded data removed]",
      "text/plain": [
       "<Figure size 720x432 with 1 Axes>"
      ]
     },
     "metadata": {
      "needs_background": "light"
     },
     "output_type": "display_data"
    }
   ],
   "source": [
    "top_10_categories_make_df=pd.DataFrame(top_10_categories_make)\n",
    "# Extracting 'Make' and 'Aircraft Category' from the MultiIndex for labeling\n",
    "makes_categories = [f'{make} - {category}' for make, category in top_10_categories_make.index]\n",
    "\n",
    "# Plotting\n",
    "plt.figure(figsize=(10,6))\n",
    "\n",
    "# Horizontal Bar Plot\n",
    "plt.barh(makes_categories, top_10_categories_make.values, color=colors)\n",
    "\n",
    "# Set labels and Title\n",
    "plt.xlabel('Count')\n",
    "plt.ylabel('Make - Category')\n",
    "plt.title('Top 10 Aircraft Categories by Make')"
   ]
  },
  {
   "cell_type": "markdown",
   "metadata": {},
   "source": [
    "**Observation**\n",
    "* Within the top makes, ROBINSON is notable for being primarily associated with Helicopters."
   ]
  },
  {
   "cell_type": "code",
   "execution_count": 152,
   "metadata": {},
   "outputs": [],
   "source": [
    "# Top "
   ]
  },
  {
   "cell_type": "markdown",
   "metadata": {},
   "source": [
    "**Injuries and Aircraft Category**"
   ]
  },
  {
   "cell_type": "code",
   "execution_count": 153,
   "metadata": {},
   "outputs": [
    {
     "data": {
      "text/plain": [
       "Make      Aircraft.Category\n",
       "CESSNA    Airplane             15746.0\n",
       "PIPER     Airplane             10574.0\n",
       "BEECH     Airplane              4513.0\n",
       "BOEING    Airplane              2785.0\n",
       "BELL      Airplane              1470.0\n",
       "MOONEY    Airplane              1089.0\n",
       "GRUMMAN   Airplane               766.0\n",
       "BELLANCA  Airplane               686.0\n",
       "BELL      Helicopter             552.0\n",
       "ROBINSON  Helicopter             478.0\n",
       "Name: Total.Injuries, dtype: float64"
      ]
     },
     "execution_count": 153,
     "metadata": {},
     "output_type": "execute_result"
    }
   ],
   "source": [
    "category_injuries=filtered_Aviation_data_df.groupby(['Make', 'Aircraft.Category'])['Total.Injuries'].sum().sort_values(ascending=False)[:10]\n",
    "category_injuries"
   ]
  },
  {
   "cell_type": "code",
   "execution_count": 154,
   "metadata": {},
   "outputs": [
    {
     "data": {
      "text/plain": [
       "([0, 1, 2, 3, 4, 5, 6, 7, 8, 9],\n",
       " [Text(0, 0, ''),\n",
       "  Text(0, 0, ''),\n",
       "  Text(0, 0, ''),\n",
       "  Text(0, 0, ''),\n",
       "  Text(0, 0, ''),\n",
       "  Text(0, 0, ''),\n",
       "  Text(0, 0, ''),\n",
       "  Text(0, 0, ''),\n",
       "  Text(0, 0, ''),\n",
       "  Text(0, 0, '')])"
      ]
     },
     "execution_count": 154,
     "metadata": {},
     "output_type": "execute_result"
    },
    {
     "data": {
      "image/png": "[encoded data removed]",
      "text/plain": [
       "<Figure size 720x432 with 1 Axes>"
      ]
     },
     "metadata": {
      "needs_background": "light"
     },
     "output_type": "display_data"
    }
   ],
   "source": [
    "# Plotting\n",
    "plt.figure(figsize=(10,6))\n",
    "\n",
    "# Horizontal Bar Plot\n",
    "plt.bar(makes_categories, category_injuries, color=colors)\n",
    "\n",
    "# Set labels and Title\n",
    "plt.xlabel('Make-Category')\n",
    "plt.ylabel('Total Injuries')\n",
    "plt.title('Injuries by Aircraft Category and Make')\n",
    "\n",
    "# Rotate the x-axis labels for readability\n",
    "plt.xticks(rotation=45, ha='right')"
   ]
  },
  {
   "cell_type": "markdown",
   "metadata": {
    "id": "C0W4TTCW1N4J"
   },
   "source": [
    "**Aircraft Damage**"
   ]
  },
  {
   "cell_type": "code",
   "execution_count": 155,
   "metadata": {
    "id": "Le4vWeM61N4J"
   },
   "outputs": [],
   "source": [
    "# Aircraft Damage by make\n",
    "aircraft_damage= filtered_Aviation_data_df.groupby(['Make','Aircraft.damage']).size().unstack(fill_value=0)\n",
    "aircraft_damage\n",
    "\n",
    "# Filter the df to inlcude only the aircraft makes present in top_10_makes_list\n",
    "filtered_damage = aircraft_damage.loc[top_10_makes_list]"
   ]
  },
  {
   "cell_type": "code",
   "execution_count": 156,
   "metadata": {
    "id": "jzDVVJEM1N4J"
   },
   "outputs": [
    {
     "data": {
      "image/png": "[encoded data removed]",
      "text/plain": [
       "<Figure size 720x432 with 1 Axes>"
      ]
     },
     "metadata": {
      "needs_background": "light"
     },
     "output_type": "display_data"
    }
   ],
   "source": [
    "fig, ax = plt.subplots(figsize=(10, 6))\n",
    "\n",
    "# Plot each damage category as a stacked bar\n",
    "ax.bar(top_10_makes_list, filtered_damage['Destroyed'], label='Destroyed', color='#FF9100')\n",
    "ax.bar(top_10_makes_list, filtered_damage['Substantial'], bottom=filtered_damage['Destroyed'], label='Substantial', color=colors[1])\n",
    "ax.bar(top_10_makes_list, filtered_damage['Minor'],\n",
    "       bottom=filtered_damage['Destroyed'] + filtered_damage['Substantial'], label='Minor', color=colors[2])\n",
    "\n",
    "# Set the x-axis label, y-axis label, and title\n",
    "ax.set_xlabel('Top 10 Aircraft Makes')\n",
    "ax.set_ylabel('Number of Damage Cases')\n",
    "ax.set_title('Aircraft Make Versus Total Damage')\n",
    "\n",
    "# Rotate the x-axis labels for readability\n",
    "plt.xticks(rotation=45, ha='right')\n",
    "\n",
    "# Add a legend to distinguish the damage types\n",
    "ax.legend()\n",
    "\n",
    "# Adjust layout to prevent overlap\n",
    "fig.tight_layout()\n",
    "\n",
    "# Show the plot\n",
    "plt.show()"
   ]
  },
  {
   "cell_type": "markdown",
   "metadata": {},
   "source": [
    "**Observation**\n",
    "> All aircrafts makes underwent substantial damage after the accident"
   ]
  },
  {
   "cell_type": "markdown",
   "metadata": {
    "id": "i_mmx3yT1N4J"
   },
   "source": [
    "## Causes of Aviation Accidents.\n",
    "We will consider:\n",
    "* Weather condition\n",
    "* Amateur Built\n",
    "* Purpose of the flight\n"
   ]
  },
  {
   "cell_type": "code",
   "execution_count": 157,
   "metadata": {
    "id": "iPZWT-w81N4K"
   },
   "outputs": [
    {
     "data": {
      "image/png": "[encoded data removed]",
      "text/plain": [
       "<Figure size 864x576 with 1 Axes>"
      ]
     },
     "metadata": {
      "needs_background": "light"
     },
     "output_type": "display_data"
    }
   ],
   "source": [
    "# Filtering the top 10 makes from the original dataframe\n",
    "filtered_df = filtered_Aviation_data_df[filtered_Aviation_data_df['Make'].isin(top_10_makes_list)]\n",
    "\n",
    "# injuries by make and weather condition\n",
    "weather_injury= filtered_df.groupby(['Make', 'Weather.Condition'])['Total.Injuries'].sum().unstack()\n",
    "\n",
    "# Plot the figure and axes\n",
    "fig, ax = plt.subplots(figsize=(12, 8))\n",
    "\n",
    "# Plotting each make's injuries by weather condition\n",
    "weather_injury.plot(kind='bar', ax=ax)\n",
    "\n",
    "# Add labels and title\n",
    "ax.set_xlabel('Make')\n",
    "ax.set_ylabel('Total Injuries')\n",
    "ax.set_title('Total Injuries by Make and Weather Condition')\n",
    "\n",
    "# Rotating the x-axis labels for readability\n",
    "plt.xticks(rotation=45, ha='right')\n",
    "\n",
    "# Adjust layout\n",
    "fig.tight_layout()\n",
    "\n",
    "# Show the plot\n",
    "plt.show()"
   ]
  },
  {
   "cell_type": "markdown",
   "metadata": {},
   "source": [
    "**Observation**\n",
    ">A majority of accidents occur under Visual Meteorological Conditions (VMC) rather than Instrument Meteorological Conditions (IMC) or Unknown conditions.\n",
    ">Injuries sustained during VMC are significantly higher across all top aircraft makes.\n",
    ">CESSNA and PIPER have higher injuries under VMC, suggesting other factors like human error or mechanical issues."
   ]
  },
  {
   "cell_type": "code",
   "execution_count": 158,
   "metadata": {},
   "outputs": [
    {
     "data": {
      "text/html": [
       "<div>\n",
       "<style scoped>\n",
       "    .dataframe tbody tr th:only-of-type {\n",
       "        vertical-align: middle;\n",
       "    }\n",
       "\n",
       "    .dataframe tbody tr th {\n",
       "        vertical-align: top;\n",
       "    }\n",
       "\n",
       "    .dataframe thead th {\n",
       "        text-align: right;\n",
       "    }\n",
       "</style>\n",
       "<table border=\"1\" class=\"dataframe\">\n",
       "  <thead>\n",
       "    <tr style=\"text-align: right;\">\n",
       "      <th>Amateur.Built</th>\n",
       "      <th>No</th>\n",
       "      <th>Yes</th>\n",
       "    </tr>\n",
       "    <tr>\n",
       "      <th>Make</th>\n",
       "      <th></th>\n",
       "      <th></th>\n",
       "    </tr>\n",
       "  </thead>\n",
       "  <tbody>\n",
       "    <tr>\n",
       "      <th>AIR</th>\n",
       "      <td>314.0</td>\n",
       "      <td>18.0</td>\n",
       "    </tr>\n",
       "    <tr>\n",
       "      <th>BEECH</th>\n",
       "      <td>4492.0</td>\n",
       "      <td>21.0</td>\n",
       "    </tr>\n",
       "    <tr>\n",
       "      <th>BELL</th>\n",
       "      <td>1999.0</td>\n",
       "      <td>23.0</td>\n",
       "    </tr>\n",
       "    <tr>\n",
       "      <th>BELLANCA</th>\n",
       "      <td>685.0</td>\n",
       "      <td>1.0</td>\n",
       "    </tr>\n",
       "    <tr>\n",
       "      <th>BOEING</th>\n",
       "      <td>2786.0</td>\n",
       "      <td>1.0</td>\n",
       "    </tr>\n",
       "    <tr>\n",
       "      <th>CESSNA</th>\n",
       "      <td>15674.0</td>\n",
       "      <td>72.0</td>\n",
       "    </tr>\n",
       "    <tr>\n",
       "      <th>GRUMMAN</th>\n",
       "      <td>763.0</td>\n",
       "      <td>3.0</td>\n",
       "    </tr>\n",
       "    <tr>\n",
       "      <th>MOONEY</th>\n",
       "      <td>1083.0</td>\n",
       "      <td>6.0</td>\n",
       "    </tr>\n",
       "    <tr>\n",
       "      <th>PIPER</th>\n",
       "      <td>10543.0</td>\n",
       "      <td>31.0</td>\n",
       "    </tr>\n",
       "    <tr>\n",
       "      <th>ROBINSON</th>\n",
       "      <td>743.0</td>\n",
       "      <td>6.0</td>\n",
       "    </tr>\n",
       "  </tbody>\n",
       "</table>\n",
       "</div>"
      ],
      "text/plain": [
       "Amateur.Built       No   Yes\n",
       "Make                        \n",
       "AIR              314.0  18.0\n",
       "BEECH           4492.0  21.0\n",
       "BELL            1999.0  23.0\n",
       "BELLANCA         685.0   1.0\n",
       "BOEING          2786.0   1.0\n",
       "CESSNA         15674.0  72.0\n",
       "GRUMMAN          763.0   3.0\n",
       "MOONEY          1083.0   6.0\n",
       "PIPER          10543.0  31.0\n",
       "ROBINSON         743.0   6.0"
      ]
     },
     "execution_count": 158,
     "metadata": {},
     "output_type": "execute_result"
    }
   ],
   "source": [
    "# Amateur Built\n",
    "# Injuries by make andAmateur Built\n",
    "Amateur_injuries=filtered_Aviation_data_df.groupby(['Make','Amateur.Built'])['Total.Injuries'].sum().unstack()\n",
    "Amateur_injuries\n",
    "\n"
   ]
  },
  {
   "cell_type": "code",
   "execution_count": 159,
   "metadata": {},
   "outputs": [
    {
     "data": {
      "image/png": "[encoded data removed]",
      "text/plain": [
       "<Figure size 864x576 with 1 Axes>"
      ]
     },
     "metadata": {
      "needs_background": "light"
     },
     "output_type": "display_data"
    }
   ],
   "source": [
    "# Plot the stacked bar chart\n",
    "Amateur_injuries.plot(kind='bar', stacked=True, figsize=(12, 8))\n",
    "\n",
    "# Set title and labels\n",
    "plt.title('Total Injuries by Make and Amateur Built (Stacked)')\n",
    "plt.xlabel('Aircraft Make')\n",
    "plt.ylabel('Total Injuries')\n",
    "\n",
    "\n",
    "# Rotate x-axis labels for better readability\n",
    "plt.xticks(rotation=45, ha='right')\n",
    "\n",
    "# Show the plot\n",
    "plt.tight_layout()\n",
    "plt.show()"
   ]
  },
  {
   "cell_type": "markdown",
   "metadata": {},
   "source": [
    "**Observation**\n",
    "> The majority of accidents involved professionally manufactured aircrafts, given they are more common, but Amateur Built aircraft may have higher risk due to variability in construction quality"
   ]
  },
  {
   "cell_type": "code",
   "execution_count": 160,
   "metadata": {},
   "outputs": [
    {
     "data": {
      "text/html": [
       "<div>\n",
       "<style scoped>\n",
       "    .dataframe tbody tr th:only-of-type {\n",
       "        vertical-align: middle;\n",
       "    }\n",
       "\n",
       "    .dataframe tbody tr th {\n",
       "        vertical-align: top;\n",
       "    }\n",
       "\n",
       "    .dataframe thead th {\n",
       "        text-align: right;\n",
       "    }\n",
       "</style>\n",
       "<table border=\"1\" class=\"dataframe\">\n",
       "  <thead>\n",
       "    <tr style=\"text-align: right;\">\n",
       "      <th>Purpose.of.flight</th>\n",
       "      <th>ASHO</th>\n",
       "      <th>Aerial Observation</th>\n",
       "      <th>Air Drop</th>\n",
       "      <th>Air Race show</th>\n",
       "      <th>Executive/corporate</th>\n",
       "      <th>Ferry</th>\n",
       "      <th>Firefighting</th>\n",
       "      <th>Flight Test</th>\n",
       "      <th>Glider Tow</th>\n",
       "      <th>Instructional</th>\n",
       "      <th>PUBS</th>\n",
       "      <th>Personal</th>\n",
       "      <th>Positioning</th>\n",
       "      <th>Public</th>\n",
       "      <th>Public Aircraft</th>\n",
       "      <th>Skydiving</th>\n",
       "      <th>Unknown</th>\n",
       "    </tr>\n",
       "    <tr>\n",
       "      <th>Make</th>\n",
       "      <th></th>\n",
       "      <th></th>\n",
       "      <th></th>\n",
       "      <th></th>\n",
       "      <th></th>\n",
       "      <th></th>\n",
       "      <th></th>\n",
       "      <th></th>\n",
       "      <th></th>\n",
       "      <th></th>\n",
       "      <th></th>\n",
       "      <th></th>\n",
       "      <th></th>\n",
       "      <th></th>\n",
       "      <th></th>\n",
       "      <th></th>\n",
       "      <th></th>\n",
       "    </tr>\n",
       "  </thead>\n",
       "  <tbody>\n",
       "    <tr>\n",
       "      <th>AIR</th>\n",
       "      <td>NaN</td>\n",
       "      <td>255.0</td>\n",
       "      <td>NaN</td>\n",
       "      <td>NaN</td>\n",
       "      <td>4.0</td>\n",
       "      <td>1.0</td>\n",
       "      <td>4.0</td>\n",
       "      <td>2.0</td>\n",
       "      <td>NaN</td>\n",
       "      <td>6.0</td>\n",
       "      <td>NaN</td>\n",
       "      <td>41.0</td>\n",
       "      <td>10.0</td>\n",
       "      <td>NaN</td>\n",
       "      <td>3.0</td>\n",
       "      <td>NaN</td>\n",
       "      <td>6.0</td>\n",
       "    </tr>\n",
       "    <tr>\n",
       "      <th>BEECH</th>\n",
       "      <td>NaN</td>\n",
       "      <td>3.0</td>\n",
       "      <td>NaN</td>\n",
       "      <td>NaN</td>\n",
       "      <td>552.0</td>\n",
       "      <td>42.0</td>\n",
       "      <td>2.0</td>\n",
       "      <td>4.0</td>\n",
       "      <td>NaN</td>\n",
       "      <td>300.0</td>\n",
       "      <td>NaN</td>\n",
       "      <td>3086.0</td>\n",
       "      <td>66.0</td>\n",
       "      <td>NaN</td>\n",
       "      <td>42.0</td>\n",
       "      <td>15.0</td>\n",
       "      <td>401.0</td>\n",
       "    </tr>\n",
       "    <tr>\n",
       "      <th>BELL</th>\n",
       "      <td>6.0</td>\n",
       "      <td>329.0</td>\n",
       "      <td>0.0</td>\n",
       "      <td>NaN</td>\n",
       "      <td>175.0</td>\n",
       "      <td>39.0</td>\n",
       "      <td>5.0</td>\n",
       "      <td>6.0</td>\n",
       "      <td>0.0</td>\n",
       "      <td>64.0</td>\n",
       "      <td>NaN</td>\n",
       "      <td>324.0</td>\n",
       "      <td>112.0</td>\n",
       "      <td>0.0</td>\n",
       "      <td>212.0</td>\n",
       "      <td>NaN</td>\n",
       "      <td>750.0</td>\n",
       "    </tr>\n",
       "    <tr>\n",
       "      <th>BELLANCA</th>\n",
       "      <td>NaN</td>\n",
       "      <td>15.0</td>\n",
       "      <td>NaN</td>\n",
       "      <td>NaN</td>\n",
       "      <td>51.0</td>\n",
       "      <td>3.0</td>\n",
       "      <td>NaN</td>\n",
       "      <td>NaN</td>\n",
       "      <td>5.0</td>\n",
       "      <td>66.0</td>\n",
       "      <td>NaN</td>\n",
       "      <td>496.0</td>\n",
       "      <td>2.0</td>\n",
       "      <td>NaN</td>\n",
       "      <td>8.0</td>\n",
       "      <td>NaN</td>\n",
       "      <td>40.0</td>\n",
       "    </tr>\n",
       "    <tr>\n",
       "      <th>BOEING</th>\n",
       "      <td>6.0</td>\n",
       "      <td>12.0</td>\n",
       "      <td>NaN</td>\n",
       "      <td>4.0</td>\n",
       "      <td>8.0</td>\n",
       "      <td>4.0</td>\n",
       "      <td>NaN</td>\n",
       "      <td>2.0</td>\n",
       "      <td>NaN</td>\n",
       "      <td>3.0</td>\n",
       "      <td>NaN</td>\n",
       "      <td>827.0</td>\n",
       "      <td>4.0</td>\n",
       "      <td>NaN</td>\n",
       "      <td>5.0</td>\n",
       "      <td>0.0</td>\n",
       "      <td>1912.0</td>\n",
       "    </tr>\n",
       "    <tr>\n",
       "      <th>CESSNA</th>\n",
       "      <td>1.0</td>\n",
       "      <td>432.0</td>\n",
       "      <td>0.0</td>\n",
       "      <td>2.0</td>\n",
       "      <td>1180.0</td>\n",
       "      <td>110.0</td>\n",
       "      <td>1.0</td>\n",
       "      <td>11.0</td>\n",
       "      <td>14.0</td>\n",
       "      <td>1698.0</td>\n",
       "      <td>1.0</td>\n",
       "      <td>10576.0</td>\n",
       "      <td>177.0</td>\n",
       "      <td>NaN</td>\n",
       "      <td>99.0</td>\n",
       "      <td>85.0</td>\n",
       "      <td>1359.0</td>\n",
       "    </tr>\n",
       "    <tr>\n",
       "      <th>GRUMMAN</th>\n",
       "      <td>NaN</td>\n",
       "      <td>218.0</td>\n",
       "      <td>NaN</td>\n",
       "      <td>1.0</td>\n",
       "      <td>38.0</td>\n",
       "      <td>4.0</td>\n",
       "      <td>NaN</td>\n",
       "      <td>1.0</td>\n",
       "      <td>0.0</td>\n",
       "      <td>43.0</td>\n",
       "      <td>NaN</td>\n",
       "      <td>402.0</td>\n",
       "      <td>7.0</td>\n",
       "      <td>NaN</td>\n",
       "      <td>6.0</td>\n",
       "      <td>NaN</td>\n",
       "      <td>46.0</td>\n",
       "    </tr>\n",
       "    <tr>\n",
       "      <th>MOONEY</th>\n",
       "      <td>NaN</td>\n",
       "      <td>2.0</td>\n",
       "      <td>NaN</td>\n",
       "      <td>NaN</td>\n",
       "      <td>84.0</td>\n",
       "      <td>5.0</td>\n",
       "      <td>NaN</td>\n",
       "      <td>1.0</td>\n",
       "      <td>NaN</td>\n",
       "      <td>32.0</td>\n",
       "      <td>NaN</td>\n",
       "      <td>948.0</td>\n",
       "      <td>6.0</td>\n",
       "      <td>NaN</td>\n",
       "      <td>2.0</td>\n",
       "      <td>NaN</td>\n",
       "      <td>9.0</td>\n",
       "    </tr>\n",
       "    <tr>\n",
       "      <th>PIPER</th>\n",
       "      <td>NaN</td>\n",
       "      <td>231.0</td>\n",
       "      <td>0.0</td>\n",
       "      <td>0.0</td>\n",
       "      <td>807.0</td>\n",
       "      <td>66.0</td>\n",
       "      <td>NaN</td>\n",
       "      <td>10.0</td>\n",
       "      <td>36.0</td>\n",
       "      <td>830.0</td>\n",
       "      <td>0.0</td>\n",
       "      <td>7716.0</td>\n",
       "      <td>67.0</td>\n",
       "      <td>NaN</td>\n",
       "      <td>40.0</td>\n",
       "      <td>NaN</td>\n",
       "      <td>771.0</td>\n",
       "    </tr>\n",
       "    <tr>\n",
       "      <th>ROBINSON</th>\n",
       "      <td>NaN</td>\n",
       "      <td>82.0</td>\n",
       "      <td>NaN</td>\n",
       "      <td>NaN</td>\n",
       "      <td>65.0</td>\n",
       "      <td>13.0</td>\n",
       "      <td>NaN</td>\n",
       "      <td>2.0</td>\n",
       "      <td>NaN</td>\n",
       "      <td>197.0</td>\n",
       "      <td>NaN</td>\n",
       "      <td>310.0</td>\n",
       "      <td>10.0</td>\n",
       "      <td>NaN</td>\n",
       "      <td>7.0</td>\n",
       "      <td>NaN</td>\n",
       "      <td>63.0</td>\n",
       "    </tr>\n",
       "  </tbody>\n",
       "</table>\n",
       "</div>"
      ],
      "text/plain": [
       "Purpose.of.flight  ASHO  Aerial Observation  Air Drop  Air Race show  \\\n",
       "Make                                                                   \n",
       "AIR                 NaN               255.0       NaN            NaN   \n",
       "BEECH               NaN                 3.0       NaN            NaN   \n",
       "BELL                6.0               329.0       0.0            NaN   \n",
       "BELLANCA            NaN                15.0       NaN            NaN   \n",
       "BOEING              6.0                12.0       NaN            4.0   \n",
       "CESSNA              1.0               432.0       0.0            2.0   \n",
       "GRUMMAN             NaN               218.0       NaN            1.0   \n",
       "MOONEY              NaN                 2.0       NaN            NaN   \n",
       "PIPER               NaN               231.0       0.0            0.0   \n",
       "ROBINSON            NaN                82.0       NaN            NaN   \n",
       "\n",
       "Purpose.of.flight  Executive/corporate  Ferry  Firefighting  Flight Test  \\\n",
       "Make                                                                       \n",
       "AIR                                4.0    1.0           4.0          2.0   \n",
       "BEECH                            552.0   42.0           2.0          4.0   \n",
       "BELL                             175.0   39.0           5.0          6.0   \n",
       "BELLANCA                          51.0    3.0           NaN          NaN   \n",
       "BOEING                             8.0    4.0           NaN          2.0   \n",
       "CESSNA                          1180.0  110.0           1.0         11.0   \n",
       "GRUMMAN                           38.0    4.0           NaN          1.0   \n",
       "MOONEY                            84.0    5.0           NaN          1.0   \n",
       "PIPER                            807.0   66.0           NaN         10.0   \n",
       "ROBINSON                          65.0   13.0           NaN          2.0   \n",
       "\n",
       "Purpose.of.flight  Glider Tow  Instructional  PUBS  Personal  Positioning  \\\n",
       "Make                                                                        \n",
       "AIR                       NaN            6.0   NaN      41.0         10.0   \n",
       "BEECH                     NaN          300.0   NaN    3086.0         66.0   \n",
       "BELL                      0.0           64.0   NaN     324.0        112.0   \n",
       "BELLANCA                  5.0           66.0   NaN     496.0          2.0   \n",
       "BOEING                    NaN            3.0   NaN     827.0          4.0   \n",
       "CESSNA                   14.0         1698.0   1.0   10576.0        177.0   \n",
       "GRUMMAN                   0.0           43.0   NaN     402.0          7.0   \n",
       "MOONEY                    NaN           32.0   NaN     948.0          6.0   \n",
       "PIPER                    36.0          830.0   0.0    7716.0         67.0   \n",
       "ROBINSON                  NaN          197.0   NaN     310.0         10.0   \n",
       "\n",
       "Purpose.of.flight  Public  Public Aircraft  Skydiving  Unknown  \n",
       "Make                                                            \n",
       "AIR                   NaN              3.0        NaN      6.0  \n",
       "BEECH                 NaN             42.0       15.0    401.0  \n",
       "BELL                  0.0            212.0        NaN    750.0  \n",
       "BELLANCA              NaN              8.0        NaN     40.0  \n",
       "BOEING                NaN              5.0        0.0   1912.0  \n",
       "CESSNA                NaN             99.0       85.0   1359.0  \n",
       "GRUMMAN               NaN              6.0        NaN     46.0  \n",
       "MOONEY                NaN              2.0        NaN      9.0  \n",
       "PIPER                 NaN             40.0        NaN    771.0  \n",
       "ROBINSON              NaN              7.0        NaN     63.0  "
      ]
     },
     "execution_count": 160,
     "metadata": {},
     "output_type": "execute_result"
    }
   ],
   "source": [
    "# Purpose of the flight\n",
    "\n",
    "# Injuries by make and purpose of flight\n",
    "purpose_injuries=filtered_Aviation_data_df.groupby(['Make','Purpose.of.flight'])['Total.Injuries'].sum().unstack()\n",
    "purpose_injuries\n"
   ]
  },
  {
   "cell_type": "code",
   "execution_count": 161,
   "metadata": {},
   "outputs": [
    {
     "data": {
      "image/png": "[encoded data removed]",
      "text/plain": [
       "<Figure size 864x576 with 1 Axes>"
      ]
     },
     "metadata": {
      "needs_background": "light"
     },
     "output_type": "display_data"
    }
   ],
   "source": [
    "# Plot the stacked bar chart\n",
    "purpose_injuries.plot(kind='bar', stacked=True, figsize=(12, 8))\n",
    "\n",
    "# Rotate x-axis labels for better readability\n",
    "plt.xticks(rotation=45, ha='right')\n",
    "\n",
    "# Set title and labels\n",
    "plt.title('Total Injuries by Make and Purpose of Flight (Stacked)')\n",
    "plt.xlabel('Make')\n",
    "plt.ylabel('Total Injuries')\n",
    "\n",
    "# Show the plot\n",
    "plt.tight_layout()\n",
    "plt.show()"
   ]
  },
  {
   "cell_type": "markdown",
   "metadata": {},
   "source": [
    "**Observation**\n",
    ">The most common purpose at the time of accidents is Personal flights.\n",
    ">Instructional flights also show a significant number of accidents, highlighting the risks during training."
   ]
  },
  {
   "cell_type": "markdown",
   "metadata": {
    "id": "6mMyrTK_1N4K"
   },
   "source": [
    "### Regions associated with higher risks\n",
    "* Which regions have high number of injuries?"
   ]
  },
  {
   "cell_type": "code",
   "execution_count": 162,
   "metadata": {
    "id": "B49N_5eT1N4K"
   },
   "outputs": [
    {
     "data": {
      "text/plain": [
       "(79800, 20)"
      ]
     },
     "execution_count": 162,
     "metadata": {},
     "output_type": "execute_result"
    }
   ],
   "source": [
    "filtered_states= Aviation_data[Aviation_data['State'].isin(States_df['Abbreviation'])]\n",
    "filtered_states.shape"
   ]
  },
  {
   "cell_type": "code",
   "execution_count": 163,
   "metadata": {
    "id": "fiXmiEEG1N4K"
   },
   "outputs": [
    {
     "data": {
      "text/plain": [
       "State\n",
       "CA    7360.0\n",
       "TX    4353.0\n",
       "FL    4017.0\n",
       "AK    3108.0\n",
       "NY    2055.0\n",
       "AZ    2048.0\n",
       "CO    1999.0\n",
       "WA    1672.0\n",
       "PA    1601.0\n",
       "MI    1579.0\n",
       "Name: Total.Injuries, dtype: float64"
      ]
     },
     "execution_count": 163,
     "metadata": {},
     "output_type": "execute_result"
    }
   ],
   "source": [
    "# Group data by region\n",
    "# Group by 'State' and sum the 'Total Injuries'\n",
    "injuries_by_state =filtered_states.groupby('State')['Total.Injuries'].sum()\n",
    "\n",
    "# Sort the results and select the top 10\n",
    "sorted_injuries_by_state = injuries_by_state.sort_values(ascending=False).head(10)\n",
    "sorted_injuries_by_state\n"
   ]
  },
  {
   "cell_type": "code",
   "execution_count": 164,
   "metadata": {
    "id": "0PjGzWjX1N4K"
   },
   "outputs": [
    {
     "data": {
      "image/png": "[encoded data removed]",
      "text/plain": [
       "<Figure size 864x576 with 1 Axes>"
      ]
     },
     "metadata": {
      "needs_background": "light"
     },
     "output_type": "display_data"
    }
   ],
   "source": [
    "# Plot the total injuries by state\n",
    "fig, ax = plt.subplots(figsize=(12, 8))\n",
    "\n",
    "# Plot\n",
    "sorted_injuries_by_state.head(10).plot(kind='bar', ax=ax, color=colors)\n",
    "\n",
    "# Set labels and title\n",
    "ax.set_xlabel('State')\n",
    "ax.set_ylabel('Total Injuries')\n",
    "ax.set_title('Top 10 States with Highest Total Injuries')\n",
    "\n",
    "# Rotate x-axis labels for better readability\n",
    "plt.xticks(rotation=45, ha='right')\n",
    "\n",
    "# Show the plot\n",
    "plt.tight_layout()\n",
    "plt.show()"
   ]
  },
  {
   "cell_type": "markdown",
   "metadata": {
    "id": "Yqq3oTJY1N4K"
   },
   "source": [
    "**Observation**\n",
    "* The States of California(CA), Texas(TX)  and Florida(FL) have the highest number of fatalities while Washington(WA) has the lowest injuries/fatalities"
   ]
  },
  {
   "cell_type": "code",
   "execution_count": 165,
   "metadata": {},
   "outputs": [],
   "source": [
    "cleaned_data=filtered_Aviation_data_df.to_excel('Cleaned_Aviation_Data.xlsx', index=False)"
   ]
  }
 ],
 "metadata": {
  "colab": {
   "provenance": []
  },
  "kernelspec": {
   "display_name": "Python 3",
   "language": "python",
   "name": "python3"
  },
  "language_info": {
   "codemirror_mode": {
    "name": "ipython",
    "version": 3
   },
   "file_extension": ".py",
   "mimetype": "text/x-python",
   "name": "python",
   "nbconvert_exporter": "python",
   "pygments_lexer": "ipython3",
   "version": "3.8.5"
  }
 },
 "nbformat": 4,
 "nbformat_minor": 1
}
