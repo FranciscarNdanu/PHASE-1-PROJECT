{
  "cells": [
    {
      "cell_type": "markdown",
      "metadata": {
        "id": "Ps-_ZAuv1N33"
      },
      "source": [
        "# Overview\n",
        "This project aims to analyze aviation accident data from the National Transportation Safety Board (NTSB) to identify the safest aircraft and provide actionable insights that will guide the company’s acquisition strategy.\n",
        "The analysis will focus on aviation accidents and incidents from 1962 to 2023, covering civil aviation in the United States. The investigation type taken into consideration is accidents. Key areas of investigation will include accident rates by aircraft type, common causes of accidents, and regional risk factors. The goal is to translate these findings into three concrete business recommendations that will help the head of the new aviation division make informed decisions on which aircraft to purchase."
      ]
    },
    {
      "cell_type": "markdown",
      "metadata": {
        "id": "DMDZREbQ1N35"
      },
      "source": [
        "# Business Problem\n",
        "Your company is expanding in to new industries to diversify its portfolio. Specifically, they are interested in purchasing and operating airplanes for commercial and private enterprises, but do not know anything about the potential risks of aircraft. You are charged with determining which aircraft are the lowest risk for the company to start this new business endeavor. You must then translate your findings into actionable insights that the head of the new aviation division can use to help decide which aircraft to purchase.\n"
      ]
    },
    {
      "cell_type": "markdown",
      "metadata": {
        "id": "9CLR9nf41N35"
      },
      "source": [
        "#### Stakeholders\n",
        "The main stakeholder of this project is the Head of the Aviation Division."
      ]
    },
    {
      "cell_type": "markdown",
      "metadata": {
        "id": "qqs5TsYT1N35"
      },
      "source": [
        "# Data\n",
        "Two datasets were obtained for this project.\n",
        "* A .csv file from the National Transportation Safety Board that includes aviation accident data from 1962 to 2023 about civil aviation accidents and selected incidents in the United States and international waters.\n",
        "* A .csv file with the United States names and their abbreviations\n",
        "#### Data Sources\n",
        "The data was obtained from Kaggle (https://www.kaggle.com/datasets/khsamaha/aviation-accident-database-synopses)"
      ]
    },
    {
      "cell_type": "markdown",
      "metadata": {
        "id": "QITKQ2431N35"
      },
      "source": [
        "# Key Business Questions\n",
        "* Which aircraft makes are associated with the fewest total injuries in recorded accidents?\n",
        "* What are the most common causes of aviation accidents?\n",
        "* Which regions  are associated with higher risks?"
      ]
    },
    {
      "cell_type": "markdown",
      "metadata": {
        "id": "rH3uJDvJ1N35"
      },
      "source": [
        "# Data Cleaning"
      ]
    },
    {
      "cell_type": "markdown",
      "metadata": {
        "id": "S0OyCBWY1N35"
      },
      "source": [
        "# 1.0 Importing our Libraries"
      ]
    },
    {
      "cell_type": "code",
      "execution_count": 2,
      "metadata": {
        "id": "THRbc6q91N35"
      },
      "outputs": [],
      "source": [
        "# Importing the necessary modules\n",
        "import pandas as pd\n",
        "import numpy as np\n",
        "import matplotlib.pyplot as plt\n",
        "import seaborn as sns\n",
        "\n",
        "\n",
        "%matplotlib inline"
      ]
    },
    {
      "cell_type": "markdown",
      "metadata": {
        "id": "XwPmVbUn1N36"
      },
      "source": [
        "# 1.1  Loading Data"
      ]
    },
    {
      "cell_type": "code",
      "execution_count": null,
      "metadata": {
        "id": "wB04T-Aw1N36"
      },
      "outputs": [],
      "source": [
        "# Reading our data from a csv into a dataframe\n",
        "# First Dataframe\n",
        "Aviation_data_df=pd.read_csv('AviationData.csv', encoding='ISO-8859-1')\n",
        "\n",
        "# Second Dataframe\n",
        "States_df=pd.read_csv('USState_Codes.csv', encoding='ISO-8859-1')\n"
      ]
    },
    {
      "cell_type": "code",
      "execution_count": 4,
      "metadata": {},
      "outputs": [],
      "source": [
        "Aviation_data=Aviation_data_df.copy(deep=True)"
      ]
    },
    {
      "cell_type": "markdown",
      "metadata": {
        "id": "TwwquxS71N37"
      },
      "source": [
        "# 1.2 Previewing our Data\n",
        "\n",
        "#### Aviation_data_df"
      ]
    },
    {
      "cell_type": "code",
      "execution_count": null,
      "metadata": {
        "colab": {
          "base_uri": "https://localhost:8080/",
          "height": 342
        },
        "id": "sYxvQO2J1N37",
        "outputId": "5a1152aa-5f79-488f-a629-e0bf7695a07f"
      },
      "outputs": [],
      "source": [
        "# Previewing the first 5 rows\n",
        "Aviation_data.head()"
      ]
    },
    {
      "cell_type": "code",
      "execution_count": null,
      "metadata": {
        "colab": {
          "base_uri": "https://localhost:8080/",
          "height": 342
        },
        "id": "kOfrQo3x1N37",
        "outputId": "1958e53a-f7b9-43b7-9dba-a068c9f55dda"
      },
      "outputs": [],
      "source": [
        "# Previewing the last 5 rows\n",
        "Aviation_data.tail()"
      ]
    },
    {
      "cell_type": "markdown",
      "metadata": {
        "id": "OI__PhqP1N37"
      },
      "source": [
        "# 1.3 Accessing information about our data"
      ]
    },
    {
      "cell_type": "code",
      "execution_count": null,
      "metadata": {
        "colab": {
          "base_uri": "https://localhost:8080/"
        },
        "id": "F2JAVBT_1N37",
        "outputId": "95cb7cd5-9f87-43df-ac6d-df1b390af198"
      },
      "outputs": [],
      "source": [
        "# Dataset information\n",
        "Aviation_data.info()"
      ]
    },
    {
      "cell_type": "code",
      "execution_count": null,
      "metadata": {
        "colab": {
          "base_uri": "https://localhost:8080/",
          "height": 300
        },
        "id": "jzu-ajxP1N38",
        "outputId": "e7fa0af0-923b-49fb-fe90-98f1cbfbe041"
      },
      "outputs": [],
      "source": [
        "# Summary Statistics of the data\n",
        "Aviation_data.describe()"
      ]
    },
    {
      "cell_type": "code",
      "execution_count": null,
      "metadata": {
        "colab": {
          "base_uri": "https://localhost:8080/"
        },
        "id": "dfhnDv-91N38",
        "outputId": "946eac39-4362-4790-dc70-a19d537441c4"
      },
      "outputs": [],
      "source": [
        "# Shape of the  data\n",
        "Aviation_data.shape"
      ]
    },
    {
      "cell_type": "code",
      "execution_count": null,
      "metadata": {
        "colab": {
          "base_uri": "https://localhost:8080/",
          "height": 1000
        },
        "id": "IvMXSO4e-esk",
        "outputId": "dbb7a4d8-b087-4e3c-bfce-644c092dad24"
      },
      "outputs": [],
      "source": [
        "# Data types of the columns\n",
        "Aviation_data.dtypes"
      ]
    },
    {
      "cell_type": "markdown",
      "metadata": {
        "id": "PGods3zf1N38"
      },
      "source": [
        "#### States_df"
      ]
    },
    {
      "cell_type": "code",
      "execution_count": null,
      "metadata": {
        "colab": {
          "base_uri": "https://localhost:8080/",
          "height": 423
        },
        "id": "ln3Qlp3y1N38",
        "outputId": "e8caf3ed-6a91-410f-a976-8d3272fb8ce2"
      },
      "outputs": [],
      "source": [
        "States_df"
      ]
    },
    {
      "cell_type": "code",
      "execution_count": null,
      "metadata": {
        "colab": {
          "base_uri": "https://localhost:8080/"
        },
        "id": "K1gQihrE1N38",
        "outputId": "284b7624-8b2e-4f70-a9b3-bfe864872517"
      },
      "outputs": [],
      "source": [
        "# Shape\n",
        "States_df.shape"
      ]
    },
    {
      "cell_type": "code",
      "execution_count": null,
      "metadata": {
        "colab": {
          "base_uri": "https://localhost:8080/",
          "height": 175
        },
        "id": "NWaPD9FY1N38",
        "outputId": "bd93682f-56ec-4e74-fd3e-8167765c76f2"
      },
      "outputs": [],
      "source": [
        "# Summary statistics\n",
        "States_df.describe()"
      ]
    },
    {
      "cell_type": "markdown",
      "metadata": {
        "id": "GfYhiks-1N38"
      },
      "source": [
        "# 1.4 Data Cleaning\n",
        "This step is crucial for ensuring data accuracy and consistency, making the dataset ready for analysis.\n"
      ]
    },
    {
      "cell_type": "markdown",
      "metadata": {
        "id": "j1j8PBm71N39"
      },
      "source": [
        "#### States_df"
      ]
    },
    {
      "cell_type": "code",
      "execution_count": null,
      "metadata": {
        "colab": {
          "base_uri": "https://localhost:8080/"
        },
        "id": "5i1RR9dw1N39",
        "outputId": "0a95f440-31dc-4271-e176-d7a711dd081f"
      },
      "outputs": [],
      "source": [
        "# Checking for duplicates\n",
        "States_df.duplicated().sum()"
      ]
    },
    {
      "cell_type": "code",
      "execution_count": null,
      "metadata": {
        "colab": {
          "base_uri": "https://localhost:8080/",
          "height": 147
        },
        "id": "qBzQXnUm1N39",
        "outputId": "049fdbec-8093-4cfb-bebd-29a8eb779a05"
      },
      "outputs": [],
      "source": [
        "# Checking for null values\n",
        "States_df.isnull().sum()"
      ]
    },
    {
      "cell_type": "markdown",
      "metadata": {
        "id": "75Q1yLYk1N39"
      },
      "source": [
        "### Checking for Duplicates"
      ]
    },
    {
      "cell_type": "code",
      "execution_count": null,
      "metadata": {
        "colab": {
          "base_uri": "https://localhost:8080/"
        },
        "id": "31dDGT6r1N3-",
        "outputId": "da5646d0-483f-465f-ff6d-ed34745eceff"
      },
      "outputs": [],
      "source": [
        "# Checking for duplicates in the dataframe\n",
        "duplicates=Aviation_data.duplicated().sum() # This checks for the duplicates and sums them up\n",
        "print(f'Number of Duplicated rows: {duplicates}')"
      ]
    },
    {
      "cell_type": "code",
      "execution_count": null,
      "metadata": {
        "colab": {
          "base_uri": "https://localhost:8080/",
          "height": 617
        },
        "id": "YZxMnstP1N3-",
        "outputId": "74b0ba14-8274-403f-b98f-bda924e7da07"
      },
      "outputs": [],
      "source": [
        "# Dropping the duplicates\n",
        "Aviation_data.drop_duplicates()"
      ]
    },
    {
      "cell_type": "markdown",
      "metadata": {
        "id": "huzmQCwQ1N3-"
      },
      "source": [
        "### Checking for missing values"
      ]
    },
    {
      "cell_type": "code",
      "execution_count": null,
      "metadata": {
        "colab": {
          "base_uri": "https://localhost:8080/",
          "height": 1000
        },
        "id": "fs0_UUYZ1N3-",
        "outputId": "c03618c1-5b77-434e-9435-46c0a3926ceb"
      },
      "outputs": [],
      "source": [
        "#Checking and summing the  missing values in the dataframe\n",
        "Aviation_data.isnull().sum()"
      ]
    },
    {
      "cell_type": "markdown",
      "metadata": {
        "id": "d-3jB-KD1N3-"
      },
      "source": [
        "A few observation columns were dropped since they were not going to be used in the analysis;\n",
        "* Latitude and Longitude\n",
        "* Schedule\n",
        "* Air carrier\n",
        "* Airport Name\n",
        "* Airport code\n",
        "* Publication Date\n",
        "* Report Status\n",
        "* Broad phase of flight"
      ]
    },
    {
      "cell_type": "code",
      "execution_count": null,
      "metadata": {
        "colab": {
          "base_uri": "https://localhost:8080/"
        },
        "id": "FcTkYEtk1N3-",
        "outputId": "8034aaf4-3a0d-4177-a33f-b6fb1acd64ba"
      },
      "outputs": [],
      "source": [
        "# Dropping irrelevant observations\n",
        "Aviation_data.drop(columns=['Latitude','Longitude', 'Schedule', 'Air.carrier', 'Airport.Name','Airport.Code',\n",
        "                               'Publication.Date','Report.Status','Registration.Number','FAR.Description', 'Broad.phase.of.flight'],inplace=True)\n",
        "#Checking the remaining columns\n",
        "Aviation_data_df.columns"
      ]
    },
    {
      "cell_type": "markdown",
      "metadata": {
        "id": "T9hody8c1N3_"
      },
      "source": [
        "Cleaning the 'Event.Date' column.\n",
        "* Converting the date values into datetime object for easier analysis\n",
        "* Extracting the year"
      ]
    },
    {
      "cell_type": "code",
      "execution_count": null,
      "metadata": {
        "colab": {
          "base_uri": "https://localhost:8080/",
          "height": 458
        },
        "id": "I32dvIE-1N3_",
        "outputId": "5fc63adc-be6f-4b02-b7bd-d134f6a18a00",
        "scrolled": true
      },
      "outputs": [],
      "source": [
        "# Event Date Column\n",
        "# Convert the values into date format\n",
        "Aviation_data['Event.Date'] = pd.to_datetime(Aviation_data['Event.Date'])\n",
        "Aviation_data['Event.Date']"
      ]
    },
    {
      "cell_type": "code",
      "execution_count": null,
      "metadata": {
        "colab": {
          "base_uri": "https://localhost:8080/",
          "height": 547
        },
        "id": "MnrnD8uk1N3_",
        "outputId": "b3ab6467-c2ff-4bbf-e3d9-71c9d82aff01",
        "scrolled": true
      },
      "outputs": [],
      "source": [
        "# Creating a 'Year' column\n",
        "Aviation_data['Year']=Aviation_data['Event.Date'].dt.year # .dt.year extracts the year from the date\n",
        "Aviation_data['Year']"
      ]
    },
    {
      "cell_type": "code",
      "execution_count": 22,
      "metadata": {
        "id": "eBCd3p571N3_"
      },
      "outputs": [],
      "source": [
        "# Dropping the Event.Date column\n",
        "Aviation_data.drop(columns=['Event.Date'], axis=1, inplace=True)"
      ]
    },
    {
      "cell_type": "markdown",
      "metadata": {
        "id": "Lz6aKWaC1N3_"
      },
      "source": [
        "**Injury Severity column**\n",
        "* Removing the extra characters i.e. (int). The numbers inside the parentheses are captured under 'Total.Fatal.Injuries' column"
      ]
    },
    {
      "cell_type": "code",
      "execution_count": null,
      "metadata": {
        "colab": {
          "base_uri": "https://localhost:8080/"
        },
        "id": "n1QOOT401N4D",
        "outputId": "a2d40477-71bc-45e3-fb6a-32081dd6aac8"
      },
      "outputs": [],
      "source": [
        "#Replacing the () and any value inside the parentheses with an empty string\n",
        "Aviation_data['Injury.Severity']=Aviation_data['Injury.Severity'].str.replace(r'\\(.*\\)', '', regex=True).str.strip()\n",
        "Aviation_data['Injury.Severity'].unique()"
      ]
    },
    {
      "cell_type": "markdown",
      "metadata": {
        "id": "KdMP8ZIL1N4D"
      },
      "source": [
        "**Location Column**\n",
        "* Converting all values to uppercase letters for uniformity\n",
        "* Splitting City and State"
      ]
    },
    {
      "cell_type": "code",
      "execution_count": 24,
      "metadata": {
        "id": "uKX_RK3y1N4D",
        "scrolled": true
      },
      "outputs": [],
      "source": [
        "# Converting all the values to uppercase\n",
        "Aviation_data['Location']= Aviation_data['Location'].str.upper()\n",
        "\n",
        "# Split the City and State\n",
        "# Splitting the value at comma, and accessing the string at index 0\n",
        "Aviation_data['City'] = Aviation_data['Location'].str.split(',').str[0]\n",
        "\n",
        "# Splitting the value at comma, and accessing the string at index 1\n",
        "Aviation_data['State'] = Aviation_data['Location'].str.split(',').str[1]\n",
        "\n",
        "# Removing characters at the start and end of the values\n",
        "Aviation_data['State'] = Aviation_data['State'].str.strip()\n"
      ]
    },
    {
      "cell_type": "markdown",
      "metadata": {
        "id": "HrQ3cvp81N4D"
      },
      "source": [
        "**Make Column**\n",
        "* Converting values to uppercase\n",
        "* Stripping the values of any characters at the start and end\n",
        "* Harmonizing the names to have less unique values"
      ]
    },
    {
      "cell_type": "code",
      "execution_count": null,
      "metadata": {
        "colab": {
          "base_uri": "https://localhost:8080/"
        },
        "id": "wWhyvW8B1N4D",
        "outputId": "36beae0b-f377-42a9-c59b-4a4a61773de3"
      },
      "outputs": [],
      "source": [
        "# Converting the values into upper case\n",
        "Aviation_data['Make']=Aviation_data['Make'].str.upper()\n",
        "\n",
        "# Removing any extra characters at the start and end of each value\n",
        "Aviation_data['Make'] = Aviation_data['Make'].str.strip(',\".')\n",
        "\n",
        "# Creating function to extract the first word\n",
        "def extract_first_word(value):\n",
        "    if isinstance(value, str):  # Check if the value is a string\n",
        "        return value.split()[0]  # Split and return the first word\n",
        "    else:\n",
        "        return value\n",
        "    # Apply function to 'Make' column\n",
        "Aviation_data['Make']=Aviation_data['Make'].apply(extract_first_word)\n",
        "Aviation_data['Make'].unique() # Getting the unique values"
      ]
    },
    {
      "cell_type": "markdown",
      "metadata": {
        "id": "sJey9CJ01N4E"
      },
      "source": [
        "**Aircraft Category**\n",
        "* Harmonizing the data by renaming categories that appear to be the same\n"
      ]
    },
    {
      "cell_type": "code",
      "execution_count": null,
      "metadata": {
        "colab": {
          "base_uri": "https://localhost:8080/"
        },
        "id": "MR5AwMOf1N4E",
        "outputId": "af51f519-78bb-4235-a53d-96bcc5fb93f9"
      },
      "outputs": [],
      "source": [
        "# Aircraft Category\n",
        "\n",
        "Aviation_data['Aircraft.Category'].replace({'UNK':'Unknown', 'ULTR':'Ultralight', 'WSFT':'Weight-Shift'}, inplace=True)\n",
        "Aviation_data['Aircraft.Category'].unique()"
      ]
    },
    {
      "cell_type": "markdown",
      "metadata": {
        "id": "73WKabiz1N4E"
      },
      "source": [
        "**Weather Condition**\n",
        "* Harmonizing values"
      ]
    },
    {
      "cell_type": "code",
      "execution_count": null,
      "metadata": {
        "colab": {
          "base_uri": "https://localhost:8080/"
        },
        "id": "Sj4yJiYo1N4E",
        "outputId": "023db6ca-6ad1-4afa-abc3-6e7ef346f296"
      },
      "outputs": [],
      "source": [
        "Aviation_data['Weather.Condition'] = Aviation_data['Weather.Condition'].replace({'Unk':'Unknown','UNK':'Unknown','Personal':'Unknown'})\n",
        "Aviation_data['Weather.Condition'].unique()"
      ]
    },
    {
      "cell_type": "markdown",
      "metadata": {
        "id": "TAlD1QQo1N4E"
      },
      "source": [
        "**Purpose of Flight**\n",
        "* Harmonizing the value names\n"
      ]
    },
    {
      "cell_type": "code",
      "execution_count": null,
      "metadata": {
        "colab": {
          "base_uri": "https://localhost:8080/"
        },
        "id": "OtnULWQ21N4E",
        "outputId": "369f33cc-fb33-4e56-de7e-250e8e58afc5"
      },
      "outputs": [],
      "source": [
        "# 'Purpose of flight' column\n",
        "Aviation_data['Purpose.of.flight'].replace({'Other Work Use':'Unknown', 'Aerial Application':'Aerial Observation',\n",
        "                'Air Race/show':'Air Race show', 'Business':'Executive/corporate', 'PUBL':'Public', 'Public Aircraft - Local':'Public Aircraft',\n",
        "                  'Public Aircraft - State':'Public Aircraft' , 'Public Aircraft - Federal':'Public Aircraft','External Load':'Ferry' , 'Banner Tow':'Glider Tow',\n",
        "                          'Public':'Public Aircraft'}, inplace=True)\n",
        "Aviation_data['Purpose.of.flight'].unique()"
      ]
    },
    {
      "cell_type": "markdown",
      "metadata": {
        "id": "JNf9_uPM4t92"
      },
      "source": [
        "**Engine Type**"
      ]
    },
    {
      "cell_type": "code",
      "execution_count": null,
      "metadata": {
        "colab": {
          "base_uri": "https://localhost:8080/"
        },
        "id": "aYzDHjcH1N4E",
        "outputId": "42a16cd2-dad6-408d-ba0f-b7712dcc620e"
      },
      "outputs": [],
      "source": [
        "# Engine Type\n",
        "Aviation_data['Engine.Type']=Aviation_data_df['Engine.Type'].replace({'UNK':'Unknown', 'Geared Turbofan':'Turbo Fan'})\n",
        "Aviation_data['Engine.Type'].unique()"
      ]
    },
    {
      "cell_type": "markdown",
      "metadata": {
        "id": "cK21YlUM1N4E"
      },
      "source": [
        "#### Cleaning the States_df"
      ]
    },
    {
      "cell_type": "code",
      "execution_count": 30,
      "metadata": {
        "id": "XxQJLQvu1N4E"
      },
      "outputs": [],
      "source": [
        "# Removing characters at the start and end of the values\n",
        "States_df['Abbreviation'] = States_df['Abbreviation'].str.strip()"
      ]
    },
    {
      "cell_type": "markdown",
      "metadata": {
        "id": "ASRtCSY-1N4F"
      },
      "source": [
        "## Handling Missing Values"
      ]
    },
    {
      "cell_type": "markdown",
      "metadata": {},
      "source": [
        "**Injury Severity Column**"
      ]
    },
    {
      "cell_type": "code",
      "execution_count": null,
      "metadata": {
        "colab": {
          "base_uri": "https://localhost:8080/",
          "height": 241
        },
        "id": "0VIhXse11N4F",
        "outputId": "d0ff91f9-1ef3-4981-b00b-c9fa1c7cadb4"
      },
      "outputs": [],
      "source": [
        "# Fill the missing values with the most common severity\n",
        "most_injury_severity= Aviation_data['Injury.Severity'].mode()[0] # Most common severity\n",
        "\n",
        "Aviation_data.fillna({'Injury.Severity':most_injury_severity}, inplace=True)\n",
        "\n",
        "Aviation_data['Injury.Severity'].value_counts() # Getting the count of the unique values"
      ]
    },
    {
      "cell_type": "markdown",
      "metadata": {},
      "source": [
        "**Location Column**"
      ]
    },
    {
      "cell_type": "code",
      "execution_count": 32,
      "metadata": {
        "id": "ewi26KWy1N4F"
      },
      "outputs": [],
      "source": [
        "# Filling the missing values\n",
        "Aviation_data['Location'].fillna('Unknown',inplace=True)\n"
      ]
    },
    {
      "cell_type": "markdown",
      "metadata": {},
      "source": [
        "**Make Column**"
      ]
    },
    {
      "cell_type": "code",
      "execution_count": 33,
      "metadata": {
        "id": "1fUepyJ71N4F"
      },
      "outputs": [],
      "source": [
        "# Filling the missing values with unknown\n",
        "Aviation_data['Make'].fillna('Unknown', inplace=True)\n"
      ]
    },
    {
      "cell_type": "markdown",
      "metadata": {},
      "source": [
        "**Aircraft Category**"
      ]
    },
    {
      "cell_type": "code",
      "execution_count": null,
      "metadata": {
        "colab": {
          "base_uri": "https://localhost:8080/"
        },
        "id": "cwz4keES1N4F",
        "outputId": "819fc18f-280b-490c-ca5b-545c63b63efc"
      },
      "outputs": [],
      "source": [
        "# Finding the most common category\n",
        "most_common_cat=Aviation_data['Aircraft.Category'].mode()[0]\n",
        "\n",
        "# Filling the missing values with the most common value\n",
        "Aviation_data['Aircraft.Category'].fillna(most_common_cat, inplace=True)\n",
        "Aviation_data['Aircraft.Category'].unique()\n"
      ]
    },
    {
      "cell_type": "markdown",
      "metadata": {
        "id": "qjUjySsx1N4F"
      },
      "source": [
        "**Amateur Built**"
      ]
    },
    {
      "cell_type": "code",
      "execution_count": 35,
      "metadata": {
        "id": "6oSty4qV1N4F"
      },
      "outputs": [],
      "source": [
        "# Getting the most common response\n",
        "most_common_response= Aviation_data['Amateur.Built'].mode()[0]\n",
        "\n",
        "# Filling the values with the most common response\n",
        "Aviation_data.fillna({'Amateur.Built':most_common_response}, inplace=True)"
      ]
    },
    {
      "cell_type": "markdown",
      "metadata": {},
      "source": [
        "**Weather Condition**"
      ]
    },
    {
      "cell_type": "code",
      "execution_count": 36,
      "metadata": {
        "id": "Ih52JvZh1N4H"
      },
      "outputs": [],
      "source": [
        "# Most common weather condition\n",
        "most_common_weather=Aviation_data['Weather.Condition'].mode()[0]\n",
        "\n",
        "# Filling the missing values with the most common\n",
        "Aviation_data['Weather.Condition'].fillna(most_common_weather, inplace=True)\n"
      ]
    },
    {
      "cell_type": "markdown",
      "metadata": {},
      "source": [
        "**Purpose of Flight**"
      ]
    },
    {
      "cell_type": "code",
      "execution_count": 37,
      "metadata": {
        "colab": {
          "base_uri": "https://localhost:8080/",
          "height": 609
        },
        "id": "Jd510VMs1N4H",
        "outputId": "5ec455bf-7dd6-4370-9e07-fb2a3ff75583"
      },
      "outputs": [],
      "source": [
        "# Filling the missing values with the most common purpose\n",
        "common_purpose=Aviation_data['Purpose.of.flight'].mode()[0]\n",
        "\n",
        "# Fill the missing values with the most common purpose\n",
        "Aviation_data.fillna(common_purpose, inplace=True)\n"
      ]
    },
    {
      "cell_type": "markdown",
      "metadata": {
        "id": "stCMBDOf1N4G"
      },
      "source": [
        "**Total Uninjured Column**"
      ]
    },
    {
      "cell_type": "code",
      "execution_count": 38,
      "metadata": {
        "id": "nU7wF10t1N4G"
      },
      "outputs": [],
      "source": [
        "# Filling the NaN values with 0\n",
        "Aviation_data['Total.Uninjured'].fillna(0, inplace=True)"
      ]
    },
    {
      "cell_type": "markdown",
      "metadata": {
        "id": "ozmgefhh1N4G"
      },
      "source": [
        "**Total Fatal Injuries**"
      ]
    },
    {
      "cell_type": "code",
      "execution_count": 39,
      "metadata": {
        "id": "G_4exdZF1N4G"
      },
      "outputs": [],
      "source": [
        "# Fill missing values based on Injury Severity\n",
        "Aviation_data.loc[(Aviation_data['Injury.Severity'] == 'Fatal') &\n",
        "(Aviation_data['Total.Fatal.Injuries'].isnull()),\n",
        "    'Total.Fatal.Injuries'\n",
        "] = 1\n",
        "Aviation_data.loc[(Aviation_data['Injury.Severity'] == 'Non-Fatal') &\n",
        "(Aviation_data['Total.Fatal.Injuries'].isnull()),\n",
        "    'Total.Fatal.Injuries'\n",
        "] = 0\n",
        "Aviation_data.loc[(Aviation_data['Injury.Severity'] == 'Incident') &\n",
        "(Aviation_data['Total.Fatal.Injuries'].isnull()),\n",
        "    'Total.Fatal.Injuries'\n",
        "] = 0\n",
        "Aviation_data.loc[(Aviation_data['Injury.Severity'] == 'Minor') &\n",
        "(Aviation_data['Total.Fatal.Injuries'].isnull()),\n",
        "    'Total.Fatal.Injuries'\n",
        "] = 1\n",
        "Aviation_data.loc[(Aviation_data['Injury.Severity'] == 'Serious') &\n",
        "(Aviation_data['Total.Fatal.Injuries'].isnull()),\n",
        "    'Total.Fatal.Injuries'\n",
        "] = 1\n",
        "Aviation_data.loc[(Aviation_data['Injury.Severity'] == 'Unavailable') &\n",
        "(Aviation_data['Total.Fatal.Injuries'].isnull()),\n",
        "    'Total.Fatal.Injuries'\n",
        "] = 0\n"
      ]
    },
    {
      "cell_type": "markdown",
      "metadata": {},
      "source": [
        "**Total Serious Injuries Column**"
      ]
    },
    {
      "cell_type": "code",
      "execution_count": 40,
      "metadata": {
        "id": "xTmet8hT1N4G"
      },
      "outputs": [],
      "source": [
        "# Filling the missing values with 0\n",
        "Aviation_data['Total.Serious.Injuries'].fillna(0, inplace=True)"
      ]
    },
    {
      "cell_type": "markdown",
      "metadata": {},
      "source": [
        "**Total Minor Injuries**"
      ]
    },
    {
      "cell_type": "code",
      "execution_count": 41,
      "metadata": {
        "id": "SHlnlWBC1N4G"
      },
      "outputs": [],
      "source": [
        "# Filling the missing values with 0\n",
        "Aviation_data['Total.Minor.Injuries'].fillna(0,inplace=True)"
      ]
    },
    {
      "cell_type": "markdown",
      "metadata": {
        "id": "sPlUCh6z1N4H"
      },
      "source": [
        "#### Creating a Total Injuries Column\n",
        "This contains an aggregation of Total Fatal,Serious and Minor injuries"
      ]
    },
    {
      "cell_type": "code",
      "execution_count": null,
      "metadata": {
        "colab": {
          "base_uri": "https://localhost:8080/",
          "height": 408
        },
        "id": "j4w0DR2n1N4H",
        "outputId": "1c16c3c7-6faa-4bca-d6bf-b2ed0b2e438e"
      },
      "outputs": [],
      "source": [
        "# Convert the columns to float64\n",
        "Aviation_data['Total.Minor.Injuries'] = pd.to_numeric(Aviation_data['Total.Minor.Injuries'], errors='coerce')\n",
        "Aviation_data['Total.Fatal.Injuries'] = pd.to_numeric(Aviation_data['Total.Fatal.Injuries'], errors='coerce')\n",
        "Aviation_data['Total.Serious.Injuries'] = pd.to_numeric(Aviation_data['Total.Serious.Injuries'], errors='coerce')\n",
        "\n",
        "# Creating a new column with Total recorded injuries\n",
        "Aviation_data['Total.Injuries']=(Aviation_data['Total.Fatal.Injuries']+Aviation_data['Total.Serious.Injuries']+\n",
        "                                    Aviation_data['Total.Minor.Injuries'])\n",
        "\n",
        "Aviation_data['Total.Injuries']"
      ]
    },
    {
      "cell_type": "markdown",
      "metadata": {
        "id": "6f-Lm4YS1N4H"
      },
      "source": [
        "Dropping the Total fatal,minor and serious injuries. The 'Total.Injuries' column will be used for analysis"
      ]
    },
    {
      "cell_type": "code",
      "execution_count": 43,
      "metadata": {
        "id": "Go9BJssp1N4H",
        "scrolled": false
      },
      "outputs": [],
      "source": [
        "# Dropping the Total fatal,minor and serious injuries\n",
        "Aviation_data.drop(columns=['Total.Minor.Injuries','Total.Fatal.Injuries','Total.Serious.Injuries'], inplace=True)"
      ]
    },
    {
      "cell_type": "code",
      "execution_count": null,
      "metadata": {
        "id": "SHWMECGt1N4H"
      },
      "outputs": [],
      "source": [
        "# State column\n",
        "Aviation_data['State'].dropna() # Drop null rows"
      ]
    },
    {
      "cell_type": "markdown",
      "metadata": {
        "id": "QbJEdWTX1N4H"
      },
      "source": [
        "The research will be limited to United States. The following code filters data within the United States"
      ]
    },
    {
      "cell_type": "code",
      "execution_count": null,
      "metadata": {
        "id": "DIWCYWYk1N4I"
      },
      "outputs": [],
      "source": [
        "# Country column\n",
        "Aviation_data = Aviation_data[(Aviation_data['Country'] == 'United States')& (Aviation_data['Investigation.Type']=='Accident')]\n",
        "Aviation_data\n"
      ]
    },
    {
      "cell_type": "markdown",
      "metadata": {
        "id": "p940waN51N4I"
      },
      "source": [
        "## Visualizations"
      ]
    },
    {
      "cell_type": "markdown",
      "metadata": {
        "id": "sZmYzx7E1N4I"
      },
      "source": [
        "### 1. Which aircraft makes are associated with the fewest total injuries in recorded accidents?\n",
        " * Which makes of aircrafts are most common?\n",
        " * Among the common makes, which category is most common?\n",
        " * Among the common makes, which ones have the lowest accident rates?\n"
      ]
    },
    {
      "cell_type": "markdown",
      "metadata": {
        "id": "mUjxPiYZ1N4I"
      },
      "source": [
        "**Most Common Makes**"
      ]
    },
    {
      "cell_type": "code",
      "execution_count": null,
      "metadata": {
        "id": "_yqpVCJR1N4I"
      },
      "outputs": [],
      "source": [
        "# Most common aircrafts\n",
        "# Extracting the sum of the unique values and sorting them in ascending order\n",
        "top_10_makes=Aviation_data['Make'].value_counts().sort_values(ascending=False)[:10] # Selecting the 10 most common makes\n",
        "top_10_makes_list=top_10_makes.index.to_list() # Converting the dataframe into a list\n",
        "top_10_makes_list\n",
        "\n"
      ]
    },
    {
      "cell_type": "code",
      "execution_count": null,
      "metadata": {},
      "outputs": [],
      "source": [
        "filtered_Aviation_data_df = Aviation_data[Aviation_data['Make'].isin(top_10_makes_list)]\n",
        "filtered_Aviation_data_df"
      ]
    },
    {
      "cell_type": "code",
      "execution_count": null,
      "metadata": {
        "id": "yYW2W1bZ1N4I"
      },
      "outputs": [],
      "source": [
        "# Plotting the data\n",
        "fig, ax = plt.subplots(figsize=(10, 6))\n",
        "\n",
        "# Random Colors to use in plotting\n",
        "colors = np.random.rand(len(top_10_makes_list), 3)\n",
        "\n",
        "# Create the bar plot\n",
        "ax.bar(top_10_makes_list,top_10_makes, color=colors)\n",
        "\n",
        "# Add labels and title\n",
        "ax.set_xlabel('Aircraft Makes', fontsize=12)\n",
        "ax.set_ylabel('Number of Occurrences', fontsize=12)\n",
        "ax.set_title('Top 10 Most Common Aircraft Makes', fontsize=15)\n",
        "\n",
        "# Rotate the x-axis labels for readability\n",
        "plt.xticks(rotation=45, ha='right')\n",
        "\n",
        "# Adjust layout to prevent label cutoff\n",
        "fig.tight_layout()\n",
        "\n",
        "# Show the plot\n",
        "plt.show()"
      ]
    },
    {
      "cell_type": "markdown",
      "metadata": {},
      "source": [
        "**Observation**\n",
        "* The top 10 most common aircraft makes involved in accidents are: Cessna, Piper, Beech, Bell, Grumman, Robinson, Mooney, Bellanca, Boeing and Air\n"
      ]
    },
    {
      "cell_type": "markdown",
      "metadata": {},
      "source": [
        "**Total Injuries by Make**"
      ]
    },
    {
      "cell_type": "code",
      "execution_count": null,
      "metadata": {},
      "outputs": [],
      "source": [
        "# Grouping dataframe by Make and summing the Total injuries in the grouped data\n",
        "injuries_by_make = filtered_Aviation_data_df.groupby('Make')['Total.Injuries'].sum()\n",
        "\n",
        "# Filter the df to inlcude only the aircraft makes present in top_10_makes_list\n",
        "filtered_injuries = injuries_by_make[top_10_makes_list]\n",
        "\n",
        "# Print the filtered dataframe\n",
        "filtered_injuries"
      ]
    },
    {
      "cell_type": "code",
      "execution_count": null,
      "metadata": {},
      "outputs": [],
      "source": [
        "# Plotting Aircraft make and their injuries\n",
        "# Plot the figure\n",
        "fig, ax=plt.subplots(figsize=(10,6))\n",
        "\n",
        "# Bar plot\n",
        "ax.bar(top_10_makes_list,filtered_injuries, color=colors)\n",
        "\n",
        "# Set the x-axis label and title\n",
        "ax.set_xlabel('Top 10 Aircraft Makes')\n",
        "ax.set_ylabel('Number of Injuries')\n",
        "ax.set_title('Aircraft Make Versus Total Injuries')\n",
        "\n",
        "# Rotating the x-axis labels for readability\n",
        "plt.xticks(rotation=45, ha='right')\n",
        "\n",
        "# Adjust the layout\n",
        "fig.tight_layout()\n",
        "\n",
        "#Show the plot\n",
        "plt.show()"
      ]
    },
    {
      "cell_type": "markdown",
      "metadata": {},
      "source": [
        "**Observation**\n",
        "* CESSNA has the highest number of accidents but also a high number of aircraft in operation, which could skew the perception of risk.\n",
        "\n",
        "* GRUMMAN, ROBINSON and AIR have lower total injuries, indicating potentially safer records."
      ]
    },
    {
      "cell_type": "markdown",
      "metadata": {},
      "source": [
        "**Most Common Category**"
      ]
    },
    {
      "cell_type": "code",
      "execution_count": null,
      "metadata": {
        "id": "BEglW7HH1N4J"
      },
      "outputs": [],
      "source": [
        "Aviation_data_df['Aircraft.Category'].unique()"
      ]
    },
    {
      "cell_type": "code",
      "execution_count": null,
      "metadata": {
        "id": "5TCVa_Xt1N4J"
      },
      "outputs": [],
      "source": [
        "# Top 10 categories \n",
        "top_10_categories=Aviation_data_df['Aircraft.Category'].value_counts().sort_values(ascending=False)[:10] # Selecting the 10 categories\n",
        "top_10_categories_list=top_10_categories.index.to_list() # Converting the dataframe into a list\n",
        "top_10_categories_list"
      ]
    },
    {
      "cell_type": "code",
      "execution_count": null,
      "metadata": {},
      "outputs": [],
      "source": [
        "# Plot the figure\n",
        "fig, ax=plt.subplots(figsize=(10,6))\n",
        "\n",
        "# Plot the bar plot\n",
        "ax.scatter(top_10_categories_list,top_10_categories, color=colors)\n",
        "\n",
        "# Set labels and Title\n",
        "ax.set_xlabel('Aircraft Categories', fontsize=12)\n",
        "ax.set_ylabel('Number of Occurrences', fontsize=12)\n",
        "ax.set_title('Top 10 Most Common Aircraft Categories', fontsize=15)\n",
        "\n",
        "# Rotate the x-axis labels for readability\n",
        "plt.xticks(rotation=45, ha='right')\n",
        "\n",
        "# Adjust layout to prevent label cutoff\n",
        "fig.tight_layout()\n",
        "\n",
        "# Show the plot\n",
        "plt.show()"
      ]
    },
    {
      "cell_type": "markdown",
      "metadata": {},
      "source": [
        "**Observation**\n",
        ">Airplanes are the most common aircraft category involved in accidents.\n"
      ]
    },
    {
      "cell_type": "code",
      "execution_count": null,
      "metadata": {},
      "outputs": [],
      "source": [
        "# Aircraft Category by make\n",
        "\n",
        "top_10_categories_make=filtered_Aviation_data_df.groupby('Make')['Aircraft.Category'].value_counts().sort_values(ascending=False)[:10] # Selecting the 10 categories\n",
        "top_10_categories_make"
      ]
    },
    {
      "cell_type": "code",
      "execution_count": null,
      "metadata": {},
      "outputs": [],
      "source": [
        "top_10_categories_make_df=pd.DataFrame(top_10_categories_make)\n",
        "# Extracting 'Make' and 'Aircraft Category' from the MultiIndex for labeling\n",
        "makes_categories = [f'{make} - {category}' for make, category in top_10_categories_make.index]\n",
        "\n",
        "# Plotting\n",
        "plt.figure(figsize=(10,6))\n",
        "\n",
        "# Horizontal Bar Plot\n",
        "plt.barh(makes_categories, top_10_categories_make.values, color=colors)\n",
        "\n",
        "# Set labels and Title\n",
        "plt.xlabel('Count')\n",
        "plt.ylabel('Make - Category')\n",
        "plt.title('Top 10 Aircraft Categories by Make')"
      ]
    },
    {
      "cell_type": "markdown",
      "metadata": {},
      "source": [
        "**Observation**\n",
        "* Within the top makes, ROBINSON is notable for being primarily associated with Helicopters."
      ]
    },
    {
      "cell_type": "markdown",
      "metadata": {},
      "source": [
        "**Injuries and Aircraft Category**"
      ]
    },
    {
      "cell_type": "code",
      "execution_count": null,
      "metadata": {},
      "outputs": [],
      "source": [
        "category_injuries=filtered_Aviation_data_df.groupby(['Make', 'Aircraft.Category'])['Total.Injuries'].sum().sort_values(ascending=False)[:10]\n",
        "category_injuries"
      ]
    },
    {
      "cell_type": "code",
      "execution_count": null,
      "metadata": {},
      "outputs": [],
      "source": [
        "# Plotting\n",
        "plt.figure(figsize=(10,6))\n",
        "\n",
        "# Horizontal Bar Plot\n",
        "plt.bar(makes_categories, category_injuries, color=colors)\n",
        "\n",
        "# Set labels and Title\n",
        "plt.xlabel('Make-Category')\n",
        "plt.ylabel('Total Injuries')\n",
        "plt.title('Injuries by Aircraft Category and Make')\n",
        "\n",
        "# Rotate the x-axis labels for readability\n",
        "plt.xticks(rotation=45, ha='right')"
      ]
    },
    {
      "cell_type": "markdown",
      "metadata": {
        "id": "C0W4TTCW1N4J"
      },
      "source": [
        "**Aircraft Damage**"
      ]
    },
    {
      "cell_type": "code",
      "execution_count": 58,
      "metadata": {
        "id": "Le4vWeM61N4J"
      },
      "outputs": [],
      "source": [
        "# Aircraft Damage by make\n",
        "aircraft_damage= filtered_Aviation_data_df.groupby(['Make','Aircraft.damage']).size().unstack(fill_value=0)\n",
        "aircraft_damage\n",
        "\n",
        "# Filter the df to inlcude only the aircraft makes present in top_10_makes_list\n",
        "filtered_damage = aircraft_damage.loc[top_10_makes_list]"
      ]
    },
    {
      "cell_type": "code",
      "execution_count": null,
      "metadata": {
        "id": "jzDVVJEM1N4J"
      },
      "outputs": [],
      "source": [
        "fig, ax = plt.subplots(figsize=(10, 6))\n",
        "\n",
        "# Plot each damage category as a stacked bar\n",
        "ax.bar(top_10_makes_list, filtered_damage['Destroyed'], label='Destroyed', color='#FF9100')\n",
        "ax.bar(top_10_makes_list, filtered_damage['Substantial'], bottom=filtered_damage['Destroyed'], label='Substantial', color=colors[1])\n",
        "ax.bar(top_10_makes_list, filtered_damage['Minor'],\n",
        "       bottom=filtered_damage['Destroyed'] + filtered_damage['Substantial'], label='Minor', color=colors[2])\n",
        "\n",
        "# Set the x-axis label, y-axis label, and title\n",
        "ax.set_xlabel('Top 10 Aircraft Makes')\n",
        "ax.set_ylabel('Number of Damage Cases')\n",
        "ax.set_title('Aircraft Make Versus Total Damage')\n",
        "\n",
        "# Rotate the x-axis labels for readability\n",
        "plt.xticks(rotation=45, ha='right')\n",
        "\n",
        "# Add a legend to distinguish the damage types\n",
        "ax.legend()\n",
        "\n",
        "# Adjust layout to prevent overlap\n",
        "fig.tight_layout()\n",
        "\n",
        "# Show the plot\n",
        "plt.show()"
      ]
    },
    {
      "cell_type": "markdown",
      "metadata": {},
      "source": [
        "**Observation**\n",
        "> All aircrafts makes underwent substantial damage after the accident"
      ]
    },
    {
      "cell_type": "markdown",
      "metadata": {
        "id": "i_mmx3yT1N4J"
      },
      "source": [
        "## Causes of Aviation Accidents.\n",
        "We will consider:\n",
        "* Weather condition\n",
        "* Amateur Built\n",
        "* Purpose of the flight\n"
      ]
    },
    {
      "cell_type": "code",
      "execution_count": null,
      "metadata": {
        "id": "iPZWT-w81N4K"
      },
      "outputs": [],
      "source": [
        "# Filtering the top 10 makes from the original dataframe\n",
        "filtered_df = filtered_Aviation_data_df[filtered_Aviation_data_df['Make'].isin(top_10_makes_list)]\n",
        "\n",
        "# injuries by make and weather condition\n",
        "weather_injury= filtered_df.groupby(['Make', 'Weather.Condition'])['Total.Injuries'].sum().unstack()\n",
        "\n",
        "# Plot the figure and axes\n",
        "fig, ax = plt.subplots(figsize=(12, 8))\n",
        "\n",
        "# Plotting each make's injuries by weather condition\n",
        "weather_injury.plot(kind='bar', ax=ax)\n",
        "\n",
        "# Add labels and title\n",
        "ax.set_xlabel('Make')\n",
        "ax.set_ylabel('Total Injuries')\n",
        "ax.set_title('Total Injuries by Make and Weather Condition')\n",
        "\n",
        "# Rotating the x-axis labels for readability\n",
        "plt.xticks(rotation=45, ha='right')\n",
        "\n",
        "# Adjust layout\n",
        "fig.tight_layout()\n",
        "\n",
        "# Show the plot\n",
        "plt.show()"
      ]
    },
    {
      "cell_type": "markdown",
      "metadata": {},
      "source": [
        "**Observation**\n",
        ">A majority of accidents occur under Visual Meteorological Conditions (VMC) rather than Instrument Meteorological Conditions (IMC) or Unknown conditions.\n",
        ">Injuries sustained during VMC are significantly higher across all top aircraft makes.\n",
        ">CESSNA and PIPER have higher injuries under VMC, suggesting other factors like human error or mechanical issues."
      ]
    },
    {
      "cell_type": "code",
      "execution_count": null,
      "metadata": {},
      "outputs": [],
      "source": [
        "# Amateur Built\n",
        "# Injuries by make andAmateur Built\n",
        "Amateur_injuries=filtered_Aviation_data_df.groupby(['Make','Amateur.Built'])['Total.Injuries'].sum().unstack()\n",
        "Amateur_injuries\n",
        "\n"
      ]
    },
    {
      "cell_type": "code",
      "execution_count": null,
      "metadata": {},
      "outputs": [],
      "source": [
        "# Plot the stacked bar chart\n",
        "Amateur_injuries.plot(kind='bar', stacked=True, figsize=(12, 8))\n",
        "\n",
        "# Set title and labels\n",
        "plt.title('Total Injuries by Make and Amateur Built (Stacked)')\n",
        "plt.xlabel('Aircraft Make')\n",
        "plt.ylabel('Total Injuries')\n",
        "\n",
        "\n",
        "# Rotate x-axis labels for better readability\n",
        "plt.xticks(rotation=45, ha='right')\n",
        "\n",
        "# Show the plot\n",
        "plt.tight_layout()\n",
        "plt.show()"
      ]
    },
    {
      "cell_type": "markdown",
      "metadata": {},
      "source": [
        "**Observation**\n",
        "> The majority of accidents involved professionally manufactured aircrafts, given they are more common, but Amateur Built aircraft may have higher risk due to variability in construction quality"
      ]
    },
    {
      "cell_type": "code",
      "execution_count": null,
      "metadata": {},
      "outputs": [],
      "source": [
        "# Purpose of the flight\n",
        "\n",
        "# Injuries by make and purpose of flight\n",
        "purpose_injuries=filtered_Aviation_data_df.groupby(['Make','Purpose.of.flight'])['Total.Injuries'].sum().unstack()\n",
        "purpose_injuries\n"
      ]
    },
    {
      "cell_type": "code",
      "execution_count": null,
      "metadata": {},
      "outputs": [],
      "source": [
        "# Plot the stacked bar chart\n",
        "purpose_injuries.plot(kind='bar', stacked=True, figsize=(12, 8))\n",
        "\n",
        "# Rotate x-axis labels for better readability\n",
        "plt.xticks(rotation=45, ha='right')\n",
        "\n",
        "# Set title and labels\n",
        "plt.title('Total Injuries by Make and Purpose of Flight (Stacked)')\n",
        "plt.xlabel('Make')\n",
        "plt.ylabel('Total Injuries')\n",
        "\n",
        "# Show the plot\n",
        "plt.tight_layout()\n",
        "plt.show()"
      ]
    },
    {
      "cell_type": "markdown",
      "metadata": {},
      "source": [
        "**Observation**\n",
        ">The most common purpose at the time of accidents is Personal flights.\n",
        ">Instructional flights also show a significant number of accidents, highlighting the risks during training."
      ]
    },
    {
      "cell_type": "markdown",
      "metadata": {
        "id": "6mMyrTK_1N4K"
      },
      "source": [
        "### Regions associated with higher risks\n",
        "* Which regions have high number of injuries?"
      ]
    },
    {
      "cell_type": "code",
      "execution_count": null,
      "metadata": {
        "id": "B49N_5eT1N4K"
      },
      "outputs": [],
      "source": [
        "filtered_states= Aviation_data[Aviation_data['State'].isin(States_df['Abbreviation'])]\n",
        "filtered_states.shape"
      ]
    },
    {
      "cell_type": "code",
      "execution_count": null,
      "metadata": {
        "id": "fiXmiEEG1N4K"
      },
      "outputs": [],
      "source": [
        "# Group data by region\n",
        "# Group by 'State' and sum the 'Total Injuries'\n",
        "injuries_by_state =filtered_states.groupby('State')['Total.Injuries'].sum()\n",
        "\n",
        "# Sort the results and select the top 10\n",
        "sorted_injuries_by_state = injuries_by_state.sort_values(ascending=False).head(10)\n",
        "sorted_injuries_by_state\n"
      ]
    },
    {
      "cell_type": "code",
      "execution_count": null,
      "metadata": {
        "id": "0PjGzWjX1N4K"
      },
      "outputs": [],
      "source": [
        "# Plot the total injuries by state\n",
        "fig, ax = plt.subplots(figsize=(12, 8))\n",
        "\n",
        "# Plot\n",
        "sorted_injuries_by_state.head(10).plot(kind='bar', ax=ax, color=colors)\n",
        "\n",
        "# Set labels and title\n",
        "ax.set_xlabel('State')\n",
        "ax.set_ylabel('Total Injuries')\n",
        "ax.set_title('Top 10 States with Highest Total Injuries')\n",
        "\n",
        "# Rotate x-axis labels for better readability\n",
        "plt.xticks(rotation=45, ha='right')\n",
        "\n",
        "# Show the plot\n",
        "plt.tight_layout()\n",
        "plt.show()"
      ]
    },
    {
      "cell_type": "markdown",
      "metadata": {
        "id": "Yqq3oTJY1N4K"
      },
      "source": [
        "**Observation**\n",
        "* The States of California(CA), Texas(TX)  and Florida(FL) have the highest number of fatalities while Washington(WA) has the lowest injuries/fatalities"
      ]
    },
    {
      "cell_type": "code",
      "execution_count": 68,
      "metadata": {},
      "outputs": [],
      "source": [
        "cleaned_data=filtered_Aviation_data_df.to_excel('Cleaned_Aviation_Data.xlsx', index=False)"
      ]
    }
  ],
  "metadata": {
    "colab": {
      "provenance": []
    },
    "kernelspec": {
      "display_name": "base",
      "language": "python",
      "name": "python3"
    },
    "language_info": {
      "codemirror_mode": {
        "name": "ipython",
        "version": 3
      },
      "file_extension": ".py",
      "mimetype": "text/x-python",
      "name": "python",
      "nbconvert_exporter": "python",
      "pygments_lexer": "ipython3",
      "version": "3.8.5"
    }
  },
  "nbformat": 4,
  "nbformat_minor": 0
}
